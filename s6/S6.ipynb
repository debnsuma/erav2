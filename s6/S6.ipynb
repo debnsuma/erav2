{
 "cells": [
  {
   "cell_type": "markdown",
   "metadata": {},
   "source": [
    "# Impoting the `libs`"
   ]
  },
  {
   "cell_type": "code",
   "execution_count": 1,
   "metadata": {
    "id": "0m2JWFliFfKT"
   },
   "outputs": [],
   "source": [
    "from __future__ import print_function\n",
    "import torch\n",
    "import torch.nn as nn\n",
    "import torch.nn.functional as F\n",
    "import torch.optim as optim\n",
    "from torchvision import datasets, transforms"
   ]
  },
  {
   "cell_type": "markdown",
   "metadata": {},
   "source": [
    "# The Neural Network"
   ]
  },
  {
   "cell_type": "code",
   "execution_count": 2,
   "metadata": {
    "id": "h_Cx9q2QFgM7"
   },
   "outputs": [],
   "source": [
    "class Net(nn.Module):\n",
    "    def __init__(self):\n",
    "        super(Net, self).__init__()\n",
    "        \n",
    "        # Block 1: Initial Convolution Block\n",
    "        # Input: 28x28 (assuming input images are 28x28), Output: 28x28\n",
    "        self.conv1 = nn.Conv2d(1, 8, 3, padding=1)       \n",
    "        self.bn1 = nn.BatchNorm2d(8)\n",
    "\n",
    "        # Block 2: Second Convolution Block\n",
    "        # Input: 28x28, Output: 28x28        \n",
    "        self.conv2 = nn.Conv2d(8, 16, 3, padding=1)     \n",
    "        self.bn2 = nn.BatchNorm2d(16)\n",
    "        self.pool1 = nn.MaxPool2d(2, 2)                  \n",
    "        self.drop = nn.Dropout(0.25)\n",
    "\n",
    "        # Transition: 1x1 Convolution for Channel Reduction\n",
    "        # Acts as a Global Average Pooling (GAP) mimic, reducing channels.\n",
    "        self.conv1x1_a = nn.Conv2d(16, 8, 1)            \n",
    "        \n",
    "        # Block 3: Third Convolution Block\n",
    "        # Input: 14x14, Output: 14x14\n",
    "        self.conv3 = nn.Conv2d(8, 12, 3, padding=1)      \n",
    "        self.bn3 = nn.BatchNorm2d(12)\n",
    "        self.conv4 = nn.Conv2d(12, 16, 3, padding=1)    \n",
    "        self.bn4 = nn.BatchNorm2d(16)\n",
    "        self.pool2 = nn.MaxPool2d(2, 2)                 \n",
    "        self.drop = nn.Dropout(0.25)\n",
    "\n",
    "        # Transition: 1x1 Convolution for Channel Reduction\n",
    "        # Further reduces channels for efficiency.\n",
    "        self.conv1x1_b = nn.Conv2d(16, 8, 1)             \n",
    "\n",
    "        # Block 4: Final Convolution Block\n",
    "        # Sequential convolutions reduce spatial dimensions to 1x1.\n",
    "        # Input: 7x7, Output: 5x5\n",
    "        self.conv5 = nn.Conv2d(8, 12, 3)                \n",
    "        self.bn5 = nn.BatchNorm2d(12)\n",
    "        self.conv6 = nn.Conv2d(12, 16, 3)                \n",
    "        self.bn6 = nn.BatchNorm2d(16)\n",
    "        self.conv7 = nn.Conv2d(16, 10, 3)               \n",
    "\n",
    "    def forward(self, x):\n",
    "        # Apply the layers defined in __init__ with ReLU activations and pooling where specified.\n",
    "        x = self.pool1(self.bn2(F.relu(self.conv2(self.bn1(F.relu(self.conv1(x)))))))\n",
    "        x = self.drop(x)\n",
    "        x = self.conv1x1_a(x)\n",
    "        x = self.pool2(self.bn4(F.relu(self.conv4(self.bn3(F.relu(self.conv3(x)))))))\n",
    "        x = self.drop(x)\n",
    "        x = self.conv1x1_b(x)\n",
    "        x = self.bn6(F.relu(self.conv6(self.bn5(F.relu(self.conv5(x))))))\n",
    "        x = self.conv7(x)\n",
    "        # Flatten the output for classification\n",
    "        x = x.view(-1, 10) \n",
    "        \n",
    "        return F.log_softmax(x, dim=1)"
   ]
  },
  {
   "cell_type": "markdown",
   "metadata": {},
   "source": [
    "# Network `Parameters`"
   ]
  },
  {
   "cell_type": "code",
   "execution_count": 3,
   "metadata": {
    "id": "xdydjYTZFyi3"
   },
   "outputs": [
    {
     "name": "stdout",
     "output_type": "stream",
     "text": [
      "----------------------------------------------------------------\n",
      "        Layer (type)               Output Shape         Param #\n",
      "================================================================\n",
      "            Conv2d-1            [-1, 8, 28, 28]              80\n",
      "       BatchNorm2d-2            [-1, 8, 28, 28]              16\n",
      "            Conv2d-3           [-1, 16, 28, 28]           1,168\n",
      "       BatchNorm2d-4           [-1, 16, 28, 28]              32\n",
      "         MaxPool2d-5           [-1, 16, 14, 14]               0\n",
      "           Dropout-6           [-1, 16, 14, 14]               0\n",
      "            Conv2d-7            [-1, 8, 14, 14]             136\n",
      "            Conv2d-8           [-1, 12, 14, 14]             876\n",
      "       BatchNorm2d-9           [-1, 12, 14, 14]              24\n",
      "           Conv2d-10           [-1, 16, 14, 14]           1,744\n",
      "      BatchNorm2d-11           [-1, 16, 14, 14]              32\n",
      "        MaxPool2d-12             [-1, 16, 7, 7]               0\n",
      "          Dropout-13             [-1, 16, 7, 7]               0\n",
      "           Conv2d-14              [-1, 8, 7, 7]             136\n",
      "           Conv2d-15             [-1, 12, 5, 5]             876\n",
      "      BatchNorm2d-16             [-1, 12, 5, 5]              24\n",
      "           Conv2d-17             [-1, 16, 3, 3]           1,744\n",
      "      BatchNorm2d-18             [-1, 16, 3, 3]              32\n",
      "           Conv2d-19             [-1, 10, 1, 1]           1,450\n",
      "================================================================\n",
      "Total params: 8,370\n",
      "Trainable params: 8,370\n",
      "Non-trainable params: 0\n",
      "----------------------------------------------------------------\n",
      "Input size (MB): 0.00\n",
      "Forward/backward pass size (MB): 0.45\n",
      "Params size (MB): 0.03\n",
      "Estimated Total Size (MB): 0.49\n",
      "----------------------------------------------------------------\n"
     ]
    }
   ],
   "source": [
    "# !pip install torchsummary\n",
    "\n",
    "from torchsummary import summary\n",
    "use_cuda = torch.cuda.is_available()\n",
    "device = torch.device(\"cuda\" if use_cuda else \"cpu\")\n",
    "model = Net().to(device)\n",
    "summary(model, input_size=(1, 28, 28))"
   ]
  },
  {
   "cell_type": "markdown",
   "metadata": {},
   "source": [
    "# Loading the data using `DataLoader`"
   ]
  },
  {
   "cell_type": "code",
   "execution_count": 4,
   "metadata": {
    "id": "DqTWLaM5GHgH"
   },
   "outputs": [],
   "source": [
    "torch.manual_seed(1)\n",
    "batch_size = 128\n",
    "\n",
    "kwargs = {'num_workers': 1, 'pin_memory': True} if use_cuda else {}\n",
    "train_loader = torch.utils.data.DataLoader(datasets.MNIST('../data', train=True, download=True,\n",
    "                                                                     transform=transforms.Compose([\n",
    "                                                                     transforms.RandomRotation(degrees=(-5, 5)),\n",
    "                                                                     transforms.ToTensor(),\n",
    "                                                                     transforms.Normalize((0.1307,), (0.3081,))\n",
    "                                                                     ])),\n",
    "                                           batch_size=batch_size, \n",
    "                                           shuffle=True, **kwargs)\n",
    "\n",
    "test_loader = torch.utils.data.DataLoader(datasets.MNIST('../data', train=False, transform=transforms.Compose([\n",
    "                                                                       transforms.ToTensor(),\n",
    "                                                                       transforms.Normalize((0.1307, ), (0.3081, ))\n",
    "                                                                   ])),\n",
    "                   \n",
    "                                          batch_size=batch_size, \n",
    "                                          shuffle=True, **kwargs)\n"
   ]
  },
  {
   "cell_type": "markdown",
   "metadata": {},
   "source": [
    "# Wrapper functions for `train` and `test`"
   ]
  },
  {
   "cell_type": "code",
   "execution_count": 5,
   "metadata": {
    "id": "8fDefDhaFlwH"
   },
   "outputs": [],
   "source": [
    "from tqdm import tqdm\n",
    "def train(model, device, train_loader, optimizer, epoch):\n",
    "    model.train()\n",
    "    pbar = tqdm(train_loader)\n",
    "    for batch_idx, (data, target) in enumerate(pbar):\n",
    "        data, target = data.to(device), target.to(device)\n",
    "        optimizer.zero_grad()\n",
    "        output = model(data)\n",
    "        loss = F.nll_loss(output, target)\n",
    "        loss.backward()\n",
    "        optimizer.step()\n",
    "        pbar.set_description(desc= f'loss={loss.item()} batch_id={batch_idx}')\n",
    "\n",
    "\n",
    "def test(model, device, test_loader):\n",
    "    model.eval()\n",
    "    test_loss = 0\n",
    "    correct = 0\n",
    "    with torch.no_grad():\n",
    "        for data, target in test_loader:\n",
    "            data, target = data.to(device), target.to(device)\n",
    "            output = model(data)\n",
    "            test_loss += F.nll_loss(output, target, reduction='sum').item()  # sum up batch loss\n",
    "            pred = output.argmax(dim=1, keepdim=True)  # get the index of the max log-probability\n",
    "            correct += pred.eq(target.view_as(pred)).sum().item()\n",
    "\n",
    "    test_loss /= len(test_loader.dataset)\n",
    "\n",
    "    print('\\nTest set: Average loss: {:.4f}, Accuracy: {}/{} ({:.2f}%)\\n'.format(\n",
    "        test_loss, correct, len(test_loader.dataset),\n",
    "        100. * correct / len(test_loader.dataset)))"
   ]
  },
  {
   "cell_type": "markdown",
   "metadata": {},
   "source": [
    "# `Running` and `Testing` the model"
   ]
  },
  {
   "cell_type": "code",
   "execution_count": 7,
   "metadata": {
    "id": "MMWbLWO6FuHb"
   },
   "outputs": [
    {
     "name": "stdout",
     "output_type": "stream",
     "text": [
      "Epoch #1\n"
     ]
    },
    {
     "name": "stderr",
     "output_type": "stream",
     "text": [
      "loss=0.09622154384851456 batch_id=468: 100%|██████████| 469/469 [00:14<00:00, 32.61it/s] \n"
     ]
    },
    {
     "name": "stdout",
     "output_type": "stream",
     "text": [
      "\n",
      "Test set: Average loss: 0.0487, Accuracy: 9852/10000 (98.52%)\n",
      "\n",
      "Epoch #2\n"
     ]
    },
    {
     "name": "stderr",
     "output_type": "stream",
     "text": [
      "loss=0.16819874942302704 batch_id=468: 100%|██████████| 469/469 [00:14<00:00, 32.62it/s] \n"
     ]
    },
    {
     "name": "stdout",
     "output_type": "stream",
     "text": [
      "\n",
      "Test set: Average loss: 0.0369, Accuracy: 9875/10000 (98.75%)\n",
      "\n",
      "Epoch #3\n"
     ]
    },
    {
     "name": "stderr",
     "output_type": "stream",
     "text": [
      "loss=0.02773519605398178 batch_id=468: 100%|██████████| 469/469 [00:14<00:00, 32.53it/s] \n"
     ]
    },
    {
     "name": "stdout",
     "output_type": "stream",
     "text": [
      "\n",
      "Test set: Average loss: 0.0333, Accuracy: 9887/10000 (98.87%)\n",
      "\n",
      "Epoch #4\n"
     ]
    },
    {
     "name": "stderr",
     "output_type": "stream",
     "text": [
      "loss=0.09972270578145981 batch_id=468: 100%|██████████| 469/469 [00:14<00:00, 32.60it/s] \n"
     ]
    },
    {
     "name": "stdout",
     "output_type": "stream",
     "text": [
      "\n",
      "Test set: Average loss: 0.0272, Accuracy: 9894/10000 (98.94%)\n",
      "\n",
      "Epoch #5\n"
     ]
    },
    {
     "name": "stderr",
     "output_type": "stream",
     "text": [
      "loss=0.026256747543811798 batch_id=468: 100%|██████████| 469/469 [00:14<00:00, 32.55it/s] \n"
     ]
    },
    {
     "name": "stdout",
     "output_type": "stream",
     "text": [
      "\n",
      "Test set: Average loss: 0.0262, Accuracy: 9913/10000 (99.13%)\n",
      "\n",
      "Epoch #6\n"
     ]
    },
    {
     "name": "stderr",
     "output_type": "stream",
     "text": [
      "loss=0.034385014325380325 batch_id=468: 100%|██████████| 469/469 [00:14<00:00, 32.63it/s] \n"
     ]
    },
    {
     "name": "stdout",
     "output_type": "stream",
     "text": [
      "\n",
      "Test set: Average loss: 0.0257, Accuracy: 9905/10000 (99.05%)\n",
      "\n",
      "Epoch #7\n"
     ]
    },
    {
     "name": "stderr",
     "output_type": "stream",
     "text": [
      "loss=0.061559613794088364 batch_id=468: 100%|██████████| 469/469 [00:14<00:00, 32.65it/s] \n"
     ]
    },
    {
     "name": "stdout",
     "output_type": "stream",
     "text": [
      "\n",
      "Test set: Average loss: 0.0255, Accuracy: 9907/10000 (99.07%)\n",
      "\n",
      "Epoch #8\n"
     ]
    },
    {
     "name": "stderr",
     "output_type": "stream",
     "text": [
      "loss=0.03367218002676964 batch_id=468: 100%|██████████| 469/469 [00:14<00:00, 32.61it/s]  \n"
     ]
    },
    {
     "name": "stdout",
     "output_type": "stream",
     "text": [
      "\n",
      "Test set: Average loss: 0.0226, Accuracy: 9922/10000 (99.22%)\n",
      "\n",
      "Epoch #9\n"
     ]
    },
    {
     "name": "stderr",
     "output_type": "stream",
     "text": [
      "loss=0.0587032176554203 batch_id=468: 100%|██████████| 469/469 [00:14<00:00, 32.68it/s]   \n"
     ]
    },
    {
     "name": "stdout",
     "output_type": "stream",
     "text": [
      "\n",
      "Test set: Average loss: 0.0216, Accuracy: 9926/10000 (99.26%)\n",
      "\n",
      "Epoch #10\n"
     ]
    },
    {
     "name": "stderr",
     "output_type": "stream",
     "text": [
      "loss=0.038580458611249924 batch_id=468: 100%|██████████| 469/469 [00:14<00:00, 32.62it/s] \n"
     ]
    },
    {
     "name": "stdout",
     "output_type": "stream",
     "text": [
      "\n",
      "Test set: Average loss: 0.0200, Accuracy: 9937/10000 (99.37%)\n",
      "\n",
      "Epoch #11\n"
     ]
    },
    {
     "name": "stderr",
     "output_type": "stream",
     "text": [
      "loss=0.10387331992387772 batch_id=468: 100%|██████████| 469/469 [00:14<00:00, 32.68it/s]  \n"
     ]
    },
    {
     "name": "stdout",
     "output_type": "stream",
     "text": [
      "\n",
      "Test set: Average loss: 0.0217, Accuracy: 9926/10000 (99.26%)\n",
      "\n",
      "Epoch #12\n"
     ]
    },
    {
     "name": "stderr",
     "output_type": "stream",
     "text": [
      "loss=0.005752408877015114 batch_id=468: 100%|██████████| 469/469 [00:14<00:00, 32.66it/s] \n"
     ]
    },
    {
     "name": "stdout",
     "output_type": "stream",
     "text": [
      "\n",
      "Test set: Average loss: 0.0210, Accuracy: 9935/10000 (99.35%)\n",
      "\n",
      "Epoch #13\n"
     ]
    },
    {
     "name": "stderr",
     "output_type": "stream",
     "text": [
      "loss=0.09106002002954483 batch_id=468: 100%|██████████| 469/469 [00:14<00:00, 32.66it/s]  \n"
     ]
    },
    {
     "name": "stdout",
     "output_type": "stream",
     "text": [
      "\n",
      "Test set: Average loss: 0.0205, Accuracy: 9933/10000 (99.33%)\n",
      "\n",
      "Epoch #14\n"
     ]
    },
    {
     "name": "stderr",
     "output_type": "stream",
     "text": [
      "loss=0.06153064966201782 batch_id=468: 100%|██████████| 469/469 [00:14<00:00, 32.73it/s]  \n"
     ]
    },
    {
     "name": "stdout",
     "output_type": "stream",
     "text": [
      "\n",
      "Test set: Average loss: 0.0252, Accuracy: 9918/10000 (99.18%)\n",
      "\n",
      "Epoch #15\n"
     ]
    },
    {
     "name": "stderr",
     "output_type": "stream",
     "text": [
      "loss=0.012344188056886196 batch_id=468: 100%|██████████| 469/469 [00:14<00:00, 32.72it/s] \n"
     ]
    },
    {
     "name": "stdout",
     "output_type": "stream",
     "text": [
      "\n",
      "Test set: Average loss: 0.0199, Accuracy: 9931/10000 (99.31%)\n",
      "\n",
      "Epoch #16\n"
     ]
    },
    {
     "name": "stderr",
     "output_type": "stream",
     "text": [
      "loss=0.01331905648112297 batch_id=468: 100%|██████████| 469/469 [00:14<00:00, 32.67it/s]  \n"
     ]
    },
    {
     "name": "stdout",
     "output_type": "stream",
     "text": [
      "\n",
      "Test set: Average loss: 0.0222, Accuracy: 9934/10000 (99.34%)\n",
      "\n",
      "Epoch #17\n"
     ]
    },
    {
     "name": "stderr",
     "output_type": "stream",
     "text": [
      "loss=0.008520293049514294 batch_id=468: 100%|██████████| 469/469 [00:14<00:00, 32.57it/s] \n"
     ]
    },
    {
     "name": "stdout",
     "output_type": "stream",
     "text": [
      "\n",
      "Test set: Average loss: 0.0191, Accuracy: 9936/10000 (99.36%)\n",
      "\n",
      "Epoch #18\n"
     ]
    },
    {
     "name": "stderr",
     "output_type": "stream",
     "text": [
      "loss=0.01544199138879776 batch_id=468: 100%|██████████| 469/469 [00:14<00:00, 32.70it/s]  \n"
     ]
    },
    {
     "name": "stdout",
     "output_type": "stream",
     "text": [
      "\n",
      "Test set: Average loss: 0.0200, Accuracy: 9934/10000 (99.34%)\n",
      "\n",
      "Epoch #19\n"
     ]
    },
    {
     "name": "stderr",
     "output_type": "stream",
     "text": [
      "loss=0.0031311791390180588 batch_id=468: 100%|██████████| 469/469 [00:14<00:00, 32.68it/s]\n"
     ]
    },
    {
     "name": "stdout",
     "output_type": "stream",
     "text": [
      "\n",
      "Test set: Average loss: 0.0185, Accuracy: 9946/10000 (99.46%)\n",
      "\n",
      "Epoch #20\n"
     ]
    },
    {
     "name": "stderr",
     "output_type": "stream",
     "text": [
      "loss=0.007915577851235867 batch_id=468: 100%|██████████| 469/469 [00:14<00:00, 32.60it/s] \n"
     ]
    },
    {
     "name": "stdout",
     "output_type": "stream",
     "text": [
      "\n",
      "Test set: Average loss: 0.0178, Accuracy: 9940/10000 (99.40%)\n",
      "\n"
     ]
    }
   ],
   "source": [
    "\n",
    "model = Net().to(device)\n",
    "optimizer = optim.SGD(model.parameters(), lr=0.01, momentum=0.9)\n",
    "\n",
    "for epoch in range(1, 21):\n",
    "    print(f\"Epoch #{epoch}\") \n",
    "    train(model, device, train_loader, optimizer, epoch)\n",
    "    test(model, device, test_loader)"
   ]
  },
  {
   "cell_type": "code",
   "execution_count": null,
   "metadata": {
    "id": "So5uk4EkHW6R"
   },
   "outputs": [],
   "source": []
  },
  {
   "cell_type": "code",
   "execution_count": null,
   "metadata": {},
   "outputs": [],
   "source": []
  }
 ],
 "metadata": {
  "accelerator": "GPU",
  "colab": {
   "provenance": []
  },
  "kernelspec": {
   "display_name": "Python 3 (ipykernel)",
   "language": "python",
   "name": "python3"
  },
  "language_info": {
   "codemirror_mode": {
    "name": "ipython",
    "version": 3
   },
   "file_extension": ".py",
   "mimetype": "text/x-python",
   "name": "python",
   "nbconvert_exporter": "python",
   "pygments_lexer": "ipython3",
   "version": "3.10.13"
  }
 },
 "nbformat": 4,
 "nbformat_minor": 4
}
