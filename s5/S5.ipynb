{
 "cells": [
  {
   "cell_type": "code",
   "execution_count": 2,
   "id": "07aaa4b6-4d56-4202-890e-17f2b23579a2",
   "metadata": {},
   "outputs": [],
   "source": [
    "import torch\n",
    "import matplotlib.pyplot as plt\n",
    "from torchvision import datasets\n",
    "\n",
    "import utils as my_utils\n",
    "from model import Net, Net2"
   ]
  },
  {
   "cell_type": "markdown",
   "id": "30be538f",
   "metadata": {},
   "source": [
    "# Loading the `data set`"
   ]
  },
  {
   "cell_type": "code",
   "execution_count": 3,
   "id": "c8c16046",
   "metadata": {},
   "outputs": [],
   "source": [
    "train_data = datasets.MNIST('../data', train=True, download=True, transform=my_utils.train_transforms)\n",
    "test_data = datasets.MNIST('../data', train=False, download=True, transform=my_utils.test_transforms)"
   ]
  },
  {
   "cell_type": "code",
   "execution_count": 4,
   "id": "b3942b4f",
   "metadata": {},
   "outputs": [],
   "source": [
    "batch_size = 512\n",
    "\n",
    "kwargs = {'batch_size': batch_size, \n",
    "          'shuffle': True, \n",
    "          'num_workers': 2, \n",
    "          'pin_memory': True}\n",
    "\n",
    "test_loader = torch.utils.data.DataLoader(test_data, **kwargs)\n",
    "train_loader = torch.utils.data.DataLoader(train_data, **kwargs) "
   ]
  },
  {
   "cell_type": "markdown",
   "id": "99c8fa12",
   "metadata": {},
   "source": [
    "# EDA"
   ]
  },
  {
   "cell_type": "code",
   "execution_count": 5,
   "id": "1995c304",
   "metadata": {},
   "outputs": [
    {
     "data": {
      "image/png": "[encoded data removed]",
      "text/plain": [
       "<Figure size 640x480 with 12 Axes>"
      ]
     },
     "metadata": {},
     "output_type": "display_data"
    }
   ],
   "source": [
    "batch_data, batch_label = next(iter(train_loader))\n",
    "\n",
    "fig = plt.figure()\n",
    "\n",
    "for i in range(12):\n",
    "  plt.subplot(3,4,i+1)\n",
    "  plt.tight_layout()\n",
    "  plt.imshow(batch_data[i].squeeze(0), cmap='gray')\n",
    "  plt.title(batch_label[i].item())\n",
    "  plt.xticks([])\n",
    "  plt.yticks([])"
   ]
  },
  {
   "cell_type": "code",
   "execution_count": 6,
   "id": "6626fec6",
   "metadata": {},
   "outputs": [
    {
     "data": {
      "text/plain": [
       "512"
      ]
     },
     "execution_count": 6,
     "metadata": {},
     "output_type": "execute_result"
    }
   ],
   "source": [
    "len(batch_label)"
   ]
  },
  {
   "cell_type": "code",
   "execution_count": 7,
   "id": "72b99f03",
   "metadata": {},
   "outputs": [
    {
     "data": {
      "text/plain": [
       "torch.Size([28, 28])"
      ]
     },
     "execution_count": 7,
     "metadata": {},
     "output_type": "execute_result"
    }
   ],
   "source": [
    "batch_data[i][0].shape"
   ]
  },
  {
   "cell_type": "markdown",
   "id": "f6c86bf1",
   "metadata": {},
   "source": [
    "# Visualizing the `network`"
   ]
  },
  {
   "cell_type": "code",
   "execution_count": 8,
   "id": "93b02329",
   "metadata": {},
   "outputs": [],
   "source": [
    "#!pip install torchsummary"
   ]
  },
  {
   "cell_type": "code",
   "execution_count": 9,
   "id": "4475c5c7",
   "metadata": {},
   "outputs": [
    {
     "name": "stdout",
     "output_type": "stream",
     "text": [
      "----------------------------------------------------------------\n",
      "        Layer (type)               Output Shape         Param #\n",
      "================================================================\n",
      "            Conv2d-1           [-1, 32, 26, 26]             320\n",
      "            Conv2d-2           [-1, 64, 24, 24]          18,496\n",
      "            Conv2d-3          [-1, 128, 10, 10]          73,856\n",
      "            Conv2d-4            [-1, 256, 8, 8]         295,168\n",
      "            Linear-5                   [-1, 50]         204,850\n",
      "            Linear-6                   [-1, 10]             510\n",
      "================================================================\n",
      "Total params: 593,200\n",
      "Trainable params: 593,200\n",
      "Non-trainable params: 0\n",
      "----------------------------------------------------------------\n",
      "Input size (MB): 0.00\n",
      "Forward/backward pass size (MB): 0.67\n",
      "Params size (MB): 2.26\n",
      "Estimated Total Size (MB): 2.94\n",
      "----------------------------------------------------------------\n"
     ]
    }
   ],
   "source": [
    "from torchsummary import summary\n",
    "\n",
    "device = my_utils.device\n",
    "model = Net().to(device)\n",
    "\n",
    "summary(model, input_size=(1, 28, 28))"
   ]
  },
  {
   "cell_type": "code",
   "execution_count": 10,
   "id": "a35874e5",
   "metadata": {},
   "outputs": [
    {
     "name": "stdout",
     "output_type": "stream",
     "text": [
      "----------------------------------------------------------------\n",
      "        Layer (type)               Output Shape         Param #\n",
      "================================================================\n",
      "            Conv2d-1           [-1, 32, 26, 26]             288\n",
      "            Conv2d-2           [-1, 64, 24, 24]          18,432\n",
      "            Conv2d-3          [-1, 128, 10, 10]          73,728\n",
      "            Conv2d-4            [-1, 256, 8, 8]         294,912\n",
      "            Linear-5                   [-1, 50]         204,800\n",
      "            Linear-6                   [-1, 10]             500\n",
      "================================================================\n",
      "Total params: 592,660\n",
      "Trainable params: 592,660\n",
      "Non-trainable params: 0\n",
      "----------------------------------------------------------------\n",
      "Input size (MB): 0.00\n",
      "Forward/backward pass size (MB): 0.67\n",
      "Params size (MB): 2.26\n",
      "Estimated Total Size (MB): 2.93\n",
      "----------------------------------------------------------------\n"
     ]
    }
   ],
   "source": [
    "from torchsummary import summary\n",
    "\n",
    "device = my_utils.device\n",
    "model2 = Net2().to(device)\n",
    "\n",
    "summary(model2, input_size=(1, 28, 28))"
   ]
  },
  {
   "cell_type": "markdown",
   "id": "f579f3ad",
   "metadata": {},
   "source": [
    "# Training the `model` "
   ]
  },
  {
   "cell_type": "code",
   "execution_count": 11,
   "id": "60a9d3f7",
   "metadata": {},
   "outputs": [],
   "source": [
    "# Data to plot accuracy and loss graphs\n",
    "train_losses = []\n",
    "test_losses = []\n",
    "train_acc = []\n",
    "test_acc = []\n",
    "\n",
    "test_incorrect_pred = {'images': [], 'ground_truths': [], 'predicted_vals': []}"
   ]
  },
  {
   "cell_type": "code",
   "execution_count": 13,
   "id": "1c985246",
   "metadata": {},
   "outputs": [],
   "source": [
    "\n",
    "from tqdm import tqdm\n",
    "\n",
    "def GetCorrectPredCount(pPrediction, pLabels):\n",
    "  return pPrediction.argmax(dim=1).eq(pLabels).sum().item()\n",
    "\n",
    "def train(model, device, train_loader, optimizer, criterion):\n",
    "    \n",
    "    model.train()\n",
    "    pbar = tqdm(train_loader)\n",
    "    \n",
    "    train_loss = 0\n",
    "    correct = 0\n",
    "    processed = 0\n",
    "\n",
    "    for batch_idx, (data, target) in enumerate(pbar):\n",
    "        data, target = data.to(device), target.to(device)\n",
    "        optimizer.zero_grad()\n",
    "        \n",
    "        # Predict\n",
    "        pred = model(data)\n",
    "        \n",
    "        # Calculate loss\n",
    "        loss = criterion(pred, target)\n",
    "        train_loss+=loss.item()\n",
    "        \n",
    "        # Backpropagation\n",
    "        loss.backward()\n",
    "        optimizer.step()\n",
    "        \n",
    "        correct += GetCorrectPredCount(pred, target)\n",
    "        processed += len(data)\n",
    "        \n",
    "        pbar.set_description(desc= f'Train: Loss={loss.item():0.4f} Batch_id={batch_idx} Accuracy={100*correct/processed:0.2f}')\n",
    "\n",
    "    train_acc.append(100*correct/processed)\n",
    "    train_losses.append(train_loss/len(train_loader))\n",
    "\n",
    "    \n",
    "def test(model, device, test_loader, criterion):\n",
    "    model.eval()\n",
    "\n",
    "    test_loss = 0\n",
    "    correct = 0\n",
    "\n",
    "    with torch.no_grad():\n",
    "        for batch_idx, (data, target) in enumerate(test_loader):\n",
    "            data, target = data.to(device), target.to(device)\n",
    "\n",
    "            output = model(data)\n",
    "            test_loss += criterion(output, target).item()  # sum up batch loss\n",
    "\n",
    "            correct += GetCorrectPredCount(output, target)\n",
    "\n",
    "\n",
    "    test_loss /= len(test_loader.dataset)\n",
    "    test_acc.append(100. * correct / len(test_loader.dataset))\n",
    "    test_losses.append(test_loss)\n",
    "\n",
    "    print('Test set: Average loss: {:.4f}, Accuracy: {}/{} ({:.2f}%)\\n'.format(\n",
    "        test_loss, correct, len(test_loader.dataset),\n",
    "        100. * correct / len(test_loader.dataset)))\n",
    "\n",
    "    "
   ]
  },
  {
   "cell_type": "code",
   "execution_count": 14,
   "id": "4d0175dd",
   "metadata": {},
   "outputs": [
    {
     "name": "stdout",
     "output_type": "stream",
     "text": [
      "Adjusting learning rate of group 0 to 1.0000e-02.\n",
      "Epoch 1\n"
     ]
    },
    {
     "name": "stderr",
     "output_type": "stream",
     "text": [
      "Train: Loss=0.2016 Batch_id=117 Accuracy=58.07: 100%|██████████| 118/118 [04:14<00:00,  2.16s/it]\n"
     ]
    },
    {
     "name": "stdout",
     "output_type": "stream",
     "text": [
      "Test set: Average loss: 0.0004, Accuracy: 9501/10000 (95.01%)\n",
      "\n",
      "Adjusting learning rate of group 0 to 1.0000e-02.\n",
      "Epoch 2\n"
     ]
    },
    {
     "name": "stderr",
     "output_type": "stream",
     "text": [
      "Train: Loss=0.2255 Batch_id=117 Accuracy=94.59: 100%|██████████| 118/118 [04:37<00:00,  2.35s/it]\n"
     ]
    },
    {
     "name": "stdout",
     "output_type": "stream",
     "text": [
      "Test set: Average loss: 0.0002, Accuracy: 9725/10000 (97.25%)\n",
      "\n",
      "Adjusting learning rate of group 0 to 1.0000e-02.\n",
      "Epoch 3\n"
     ]
    },
    {
     "name": "stderr",
     "output_type": "stream",
     "text": [
      "Train: Loss=0.1140 Batch_id=47 Accuracy=96.06:  41%|████      | 48/118 [01:59<06:24,  5.50s/it]"
     ]
    }
   ],
   "source": [
    "lr = 0.01\n",
    "momentum = 0.9 \n",
    "step_size = 15\n",
    "gamma=0.1\n",
    "num_epochs = 10\n",
    "\n",
    "model = Net().to(device)\n",
    "optimizer = my_utils.optimizer_fn(model, lr=lr, momentum=momentum)\n",
    "scheduler = my_utils.scheduler_fn(optimizer, step_size, gamma)\n",
    "criterion = my_utils.criterion\n",
    "\n",
    "\n",
    "for epoch in range(1, num_epochs+1):\n",
    "  print(f'Epoch {epoch}')\n",
    "  train(model, device, train_loader, optimizer, criterion)\n",
    "  test(model, device, test_loader, criterion)\n",
    "  scheduler.step()"
   ]
  },
  {
   "cell_type": "markdown",
   "id": "73f55838",
   "metadata": {},
   "source": [
    "## Visualization of `Training` and `Test` Metrics"
   ]
  },
  {
   "cell_type": "code",
   "execution_count": null,
   "id": "e9a4dcb9",
   "metadata": {},
   "outputs": [],
   "source": [
    "fig, axs = plt.subplots(2,2,figsize=(15,10))\n",
    "axs[0, 0].plot(train_losses)\n",
    "axs[0, 0].set_title(\"Training Loss\")\n",
    "axs[1, 0].plot(train_acc)\n",
    "axs[1, 0].set_title(\"Training Accuracy\")\n",
    "axs[0, 1].plot(test_losses)\n",
    "axs[0, 1].set_title(\"Test Loss\")\n",
    "axs[1, 1].plot(test_acc)\n",
    "axs[1, 1].set_title(\"Test Accuracy\")"
   ]
  }
 ],
 "metadata": {
  "kernelspec": {
   "display_name": "Python 3 (ipykernel)",
   "language": "python",
   "name": "python3"
  },
  "language_info": {
   "codemirror_mode": {
    "name": "ipython",
    "version": 3
   },
   "file_extension": ".py",
   "mimetype": "text/x-python",
   "name": "python",
   "nbconvert_exporter": "python",
   "pygments_lexer": "ipython3",
   "version": "3.10.13"
  }
 },
 "nbformat": 4,
 "nbformat_minor": 5
}
