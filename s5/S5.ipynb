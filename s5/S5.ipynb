{
 "cells": [
  {
   "cell_type": "code",
   "execution_count": 2,
   "id": "07aaa4b6-4d56-4202-890e-17f2b23579a2",
   "metadata": {},
   "outputs": [],
   "source": [
    "from model import Net, Net2\n",
    "\n",
    "# Initialize your models\n",
    "net = Net()\n",
    "net2 = Net2()\n",
    "\n",
    "# Now, you can use `net` and `net2` as you normally would, e.g., for training or evaluation."
   ]
  },
  {
   "cell_type": "code",
   "execution_count": null,
   "id": "c8c16046",
   "metadata": {},
   "outputs": [],
   "source": []
  }
 ],
 "metadata": {
  "kernelspec": {
   "display_name": "Python 3 (ipykernel)",
   "language": "python",
   "name": "python3"
  },
  "language_info": {
   "codemirror_mode": {
    "name": "ipython",
    "version": 3
   },
   "file_extension": ".py",
   "mimetype": "text/x-python",
   "name": "python",
   "nbconvert_exporter": "python",
   "pygments_lexer": "ipython3",
   "version": "3.10.13"
  }
 },
 "nbformat": 4,
 "nbformat_minor": 5
}
