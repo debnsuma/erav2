{
 "cells": [
  {
   "cell_type": "code",
   "execution_count": 1,
   "metadata": {
    "colab": {
     "base_uri": "https://localhost:8080/"
    },
    "id": "UyN4o8RwgQI4",
    "outputId": "fc8f4f51-639c-4c94-f348-14397430608a",
    "tags": []
   },
   "outputs": [
    {
     "name": "stdout",
     "output_type": "stream",
     "text": [
      "Good Morning\n"
     ]
    }
   ],
   "source": [
    "print(\"Good Morning\")"
   ]
  },
  {
   "cell_type": "code",
   "execution_count": 2,
   "metadata": {
    "colab": {
     "base_uri": "https://localhost:8080/"
    },
    "id": "RAr8670agajW",
    "outputId": "0200a0d8-b449-489b-9a0e-89dd80585006",
    "tags": []
   },
   "outputs": [
    {
     "name": "stdout",
     "output_type": "stream",
     "text": [
      "Good Morning\n"
     ]
    }
   ],
   "source": [
    "print(\"Good \\\n",
    "Morning\")"
   ]
  },
  {
   "cell_type": "code",
   "execution_count": 3,
   "metadata": {
    "id": "C4NCdeQ3gifT",
    "tags": []
   },
   "outputs": [],
   "source": [
    "a = [1, \"red\", \"r\", 3 + 4j, [3, 4, 'a']]"
   ]
  },
  {
   "cell_type": "code",
   "execution_count": 4,
   "metadata": {
    "id": "pTLRtt8-gwkV",
    "tags": []
   },
   "outputs": [],
   "source": [
    "a = [1,\n",
    "     \"red\",\n",
    "     \"r\",\n",
    "     3 + 4j,\n",
    "     [3, 4, 'a']\n",
    "     ]"
   ]
  },
  {
   "cell_type": "code",
   "execution_count": 5,
   "metadata": {
    "colab": {
     "base_uri": "https://localhost:8080/"
    },
    "id": "1eWIMuK-g1QX",
    "outputId": "e7e6bed8-4f7d-476c-b456-06db6fc0d654",
    "tags": []
   },
   "outputs": [
    {
     "data": {
      "text/plain": [
       "[1, 'red', 'r', (3+4j), [3, 4, 'a']]"
      ]
     },
     "execution_count": 5,
     "metadata": {},
     "output_type": "execute_result"
    }
   ],
   "source": [
    "a"
   ]
  },
  {
   "cell_type": "code",
   "execution_count": 7,
   "metadata": {
    "id": "Ka4zzwCNhaCL",
    "tags": []
   },
   "outputs": [],
   "source": [
    "a = [1, # this is serial number ,\n",
    "     \"red\", # this is the color\n",
    "     \"r\", # this is initial of the code\n",
    "     3 + 4j,\n",
    "     [3, 4, 'a']\n",
    "     ]"
   ]
  },
  {
   "cell_type": "code",
   "execution_count": 8,
   "metadata": {
    "id": "JxMmMZ9-hg6D",
    "tags": []
   },
   "outputs": [],
   "source": [
    "l = [1, \"rohan\", 3.4, 4 + 5j] # a LIST\n",
    "t = (1, \"rohan\", 3.4, 4 + 5j) # a tuple\n",
    "s = {1, \"rohan\", 3.4, 4 + 5j} # a SET\n",
    "d = {\"key1\": 1, 3: \"rohan\", 4: 3.4, \"key2\": 4 + 5j} # DICTOINARY"
   ]
  },
  {
   "cell_type": "code",
   "execution_count": 9,
   "metadata": {
    "colab": {
     "base_uri": "https://localhost:8080/"
    },
    "id": "4E7rIWTDhtUC",
    "outputId": "8345c151-ec25-4b07-da2a-b4fbca8698e7",
    "tags": []
   },
   "outputs": [
    {
     "data": {
      "text/plain": [
       "([1, 'rohan', 3.4, (4+5j)],\n",
       " (1, 'rohan', 3.4, (4+5j)),\n",
       " {(4+5j), 1, 3.4, 'rohan'},\n",
       " {'key1': 1, 3: 'rohan', 4: 3.4, 'key2': (4+5j)})"
      ]
     },
     "execution_count": 9,
     "metadata": {},
     "output_type": "execute_result"
    }
   ],
   "source": [
    "l, t, s, d"
   ]
  },
  {
   "cell_type": "code",
   "execution_count": 10,
   "metadata": {
    "colab": {
     "base_uri": "https://localhost:8080/"
    },
    "id": "W9y5FM8OiGAt",
    "outputId": "44cc5729-ff15-48f1-b47e-b202b41c3a57",
    "tags": []
   },
   "outputs": [
    {
     "data": {
      "text/plain": [
       "(1, 1)"
      ]
     },
     "execution_count": 10,
     "metadata": {},
     "output_type": "execute_result"
    }
   ],
   "source": [
    "l[0], t[0]"
   ]
  },
  {
   "cell_type": "code",
   "execution_count": 11,
   "metadata": {
    "colab": {
     "base_uri": "https://localhost:8080/"
    },
    "id": "jhMobxUkiODR",
    "outputId": "bf5fbf1f-c951-478a-e4fc-5393688543c7",
    "tags": []
   },
   "outputs": [
    {
     "data": {
      "text/plain": [
       "[10, 'rohan', 3.4, (4+5j)]"
      ]
     },
     "execution_count": 11,
     "metadata": {},
     "output_type": "execute_result"
    }
   ],
   "source": [
    "l[0] = 10\n",
    "l"
   ]
  },
  {
   "cell_type": "code",
   "execution_count": 13,
   "metadata": {
    "colab": {
     "base_uri": "https://localhost:8080/",
     "height": 199
    },
    "id": "b826PC3riSDK",
    "outputId": "a045631a-fd11-4801-a3ea-f50142a0c0fc",
    "tags": []
   },
   "outputs": [
    {
     "ename": "TypeError",
     "evalue": "'tuple' object does not support item assignment",
     "output_type": "error",
     "traceback": [
      "\u001b[0;31m---------------------------------------------------------------------------\u001b[0m",
      "\u001b[0;31mTypeError\u001b[0m                                 Traceback (most recent call last)",
      "Cell \u001b[0;32mIn[13], line 1\u001b[0m\n\u001b[0;32m----> 1\u001b[0m t[\u001b[38;5;241m0\u001b[39m] \u001b[38;5;241m=\u001b[39m \u001b[38;5;241m10\u001b[39m\n\u001b[1;32m      2\u001b[0m t\n",
      "\u001b[0;31mTypeError\u001b[0m: 'tuple' object does not support item assignment"
     ]
    }
   ],
   "source": [
    "t[0] = 10\n",
    "t"
   ]
  },
  {
   "cell_type": "code",
   "execution_count": 16,
   "metadata": {
    "colab": {
     "base_uri": "https://localhost:8080/",
     "height": 181
    },
    "id": "2lEOx7r2iU3s",
    "outputId": "48febdec-7d39-4874-9a66-800b4316b49c",
    "tags": []
   },
   "outputs": [
    {
     "ename": "TypeError",
     "evalue": "'set' object is not subscriptable",
     "output_type": "error",
     "traceback": [
      "\u001b[0;31m---------------------------------------------------------------------------\u001b[0m",
      "\u001b[0;31mTypeError\u001b[0m                                 Traceback (most recent call last)",
      "Cell \u001b[0;32mIn[16], line 1\u001b[0m\n\u001b[0;32m----> 1\u001b[0m t[\u001b[38;5;241m0\u001b[39m], l[\u001b[38;5;241m0\u001b[39m], s[\u001b[38;5;241m0\u001b[39m]\n",
      "\u001b[0;31mTypeError\u001b[0m: 'set' object is not subscriptable"
     ]
    }
   ],
   "source": [
    "t[0], l[0], s[0]"
   ]
  },
  {
   "cell_type": "code",
   "execution_count": 17,
   "metadata": {
    "id": "9pwgqmnWiZji",
    "tags": []
   },
   "outputs": [],
   "source": [
    "s = {1, 1, 1, 1, 1}"
   ]
  },
  {
   "cell_type": "code",
   "execution_count": 18,
   "metadata": {
    "colab": {
     "base_uri": "https://localhost:8080/"
    },
    "id": "k4PxEnX3i4Mj",
    "outputId": "543ca0ff-fa98-43e1-bc50-3daf313d8815",
    "tags": []
   },
   "outputs": [
    {
     "data": {
      "text/plain": [
       "{1}"
      ]
     },
     "execution_count": 18,
     "metadata": {},
     "output_type": "execute_result"
    }
   ],
   "source": [
    "s"
   ]
  },
  {
   "cell_type": "code",
   "execution_count": 19,
   "metadata": {
    "colab": {
     "base_uri": "https://localhost:8080/"
    },
    "id": "smKGGHxSi4st",
    "outputId": "4b588866-a8af-4b4e-9024-885ff92a4646",
    "tags": []
   },
   "outputs": [
    {
     "data": {
      "text/plain": [
       "{1, 2, 3, 4, 'blue', 'red'}"
      ]
     },
     "execution_count": 19,
     "metadata": {},
     "output_type": "execute_result"
    }
   ],
   "source": [
    "s = {1, 1, 2, 2, 3, 3, 3, 3, 4, 4, 4, 4, \"red\", \"red\", \"blue\"}\n",
    "s"
   ]
  },
  {
   "cell_type": "code",
   "execution_count": 20,
   "metadata": {
    "colab": {
     "base_uri": "https://localhost:8080/"
    },
    "id": "QmjKUEmAjAIl",
    "outputId": "0cac5f75-967c-48a6-e9ea-a696648ef786",
    "tags": []
   },
   "outputs": [
    {
     "data": {
      "text/plain": [
       "(1, 'rohan')"
      ]
     },
     "execution_count": 20,
     "metadata": {},
     "output_type": "execute_result"
    }
   ],
   "source": [
    "d = {\"key1\": 1, 3: \"rohan\", 4: 3.4, \"key2\": 4 + 5j} # DICTOINARY\n",
    "d[\"key1\"], d[3]"
   ]
  },
  {
   "cell_type": "code",
   "execution_count": 21,
   "metadata": {
    "colab": {
     "base_uri": "https://localhost:8080/"
    },
    "id": "f35fiihTjNC2",
    "outputId": "61e592c5-7b14-4467-b0cc-c0cb0c4eb451",
    "tags": []
   },
   "outputs": [
    {
     "name": "stdout",
     "output_type": "stream",
     "text": [
      "THis is our first fuinction\n"
     ]
    }
   ],
   "source": [
    "def myFunc():\n",
    "    print(\"THis is our first fuinction\")\n",
    "\n",
    "myFunc()"
   ]
  },
  {
   "cell_type": "code",
   "execution_count": 22,
   "metadata": {
    "colab": {
     "base_uri": "https://localhost:8080/"
    },
    "id": "O9E219HtjZ4r",
    "outputId": "ca704a24-4da4-4311-f897-f6900841c2e8",
    "tags": []
   },
   "outputs": [
    {
     "data": {
      "text/plain": [
       "<function __main__.myFunc()>"
      ]
     },
     "execution_count": 22,
     "metadata": {},
     "output_type": "execute_result"
    }
   ],
   "source": [
    "myFunc"
   ]
  },
  {
   "cell_type": "code",
   "execution_count": 23,
   "metadata": {
    "colab": {
     "base_uri": "https://localhost:8080/"
    },
    "id": "_QHpeFlKjbFF",
    "outputId": "4694fdeb-da5b-4fc7-dfeb-7789207f4a62",
    "tags": []
   },
   "outputs": [
    {
     "data": {
      "text/plain": [
       "<function print(*args, sep=' ', end='\\n', file=None, flush=False)>"
      ]
     },
     "execution_count": 23,
     "metadata": {},
     "output_type": "execute_result"
    }
   ],
   "source": [
    "print"
   ]
  },
  {
   "cell_type": "code",
   "execution_count": 24,
   "metadata": {
    "colab": {
     "base_uri": "https://localhost:8080/"
    },
    "id": "l7GHm0d7jjga",
    "outputId": "2cab20cf-dc0d-4bca-d8aa-ec268827e515",
    "tags": []
   },
   "outputs": [
    {
     "data": {
      "text/plain": [
       "5"
      ]
     },
     "execution_count": 24,
     "metadata": {},
     "output_type": "execute_result"
    }
   ],
   "source": [
    "def my_func(a, b):\n",
    "    c = a + b\n",
    "    return c\n",
    "my_func(1, 4)"
   ]
  },
  {
   "cell_type": "code",
   "execution_count": 25,
   "metadata": {
    "colab": {
     "base_uri": "https://localhost:8080/",
     "height": 325
    },
    "id": "SXsYqIzljt6K",
    "outputId": "7d7f4941-9887-4cea-fac6-12d38bf93529",
    "tags": []
   },
   "outputs": [
    {
     "ename": "TypeError",
     "evalue": "unsupported operand type(s) for +: 'float' and 'str'",
     "output_type": "error",
     "traceback": [
      "\u001b[0;31m---------------------------------------------------------------------------\u001b[0m",
      "\u001b[0;31mTypeError\u001b[0m                                 Traceback (most recent call last)",
      "Cell \u001b[0;32mIn[25], line 4\u001b[0m\n\u001b[1;32m      2\u001b[0m     c \u001b[38;5;241m=\u001b[39m a \u001b[38;5;241m+\u001b[39m b\n\u001b[1;32m      3\u001b[0m     \u001b[38;5;28;01mreturn\u001b[39;00m c\n\u001b[0;32m----> 4\u001b[0m my_func(\u001b[38;5;241m1.5\u001b[39m, \u001b[38;5;124m\"\u001b[39m\u001b[38;5;124m4\u001b[39m\u001b[38;5;124m\"\u001b[39m)\n",
      "Cell \u001b[0;32mIn[25], line 2\u001b[0m, in \u001b[0;36mmy_func\u001b[0;34m(a, b)\u001b[0m\n\u001b[1;32m      1\u001b[0m \u001b[38;5;28;01mdef\u001b[39;00m \u001b[38;5;21mmy_func\u001b[39m(a, b):\n\u001b[0;32m----> 2\u001b[0m     c \u001b[38;5;241m=\u001b[39m a \u001b[38;5;241m+\u001b[39m b\n\u001b[1;32m      3\u001b[0m     \u001b[38;5;28;01mreturn\u001b[39;00m c\n",
      "\u001b[0;31mTypeError\u001b[0m: unsupported operand type(s) for +: 'float' and 'str'"
     ]
    }
   ],
   "source": [
    "def my_func(a, b):\n",
    "    c = a + b\n",
    "    return c\n",
    "my_func(1.5, \"4\")"
   ]
  },
  {
   "cell_type": "code",
   "execution_count": 26,
   "metadata": {
    "colab": {
     "base_uri": "https://localhost:8080/",
     "height": 35
    },
    "id": "7Vfyu-PvjzEM",
    "outputId": "d2e8fe53-dba9-4ed9-add4-e77ce69d5210",
    "tags": []
   },
   "outputs": [
    {
     "data": {
      "text/plain": [
       "'444'"
      ]
     },
     "execution_count": 26,
     "metadata": {},
     "output_type": "execute_result"
    }
   ],
   "source": [
    "def my_func(a, b):\n",
    "    c = a * b\n",
    "    return c\n",
    "my_func(3, \"4\")"
   ]
  },
  {
   "cell_type": "code",
   "execution_count": 27,
   "metadata": {
    "colab": {
     "base_uri": "https://localhost:8080/",
     "height": 217
    },
    "id": "LGjAsF0Rj_NR",
    "outputId": "94245ba6-b22b-4ee7-a17a-5ac86ec3c399",
    "tags": []
   },
   "outputs": [
    {
     "ename": "TypeError",
     "evalue": "my_func() missing 1 required positional argument: 'b'",
     "output_type": "error",
     "traceback": [
      "\u001b[0;31m---------------------------------------------------------------------------\u001b[0m",
      "\u001b[0;31mTypeError\u001b[0m                                 Traceback (most recent call last)",
      "Cell \u001b[0;32mIn[27], line 4\u001b[0m\n\u001b[1;32m      1\u001b[0m \u001b[38;5;28;01mdef\u001b[39;00m \u001b[38;5;21mmy_func\u001b[39m(a, b):\n\u001b[1;32m      2\u001b[0m     \u001b[38;5;28mprint\u001b[39m(\u001b[38;5;124m\"\u001b[39m\u001b[38;5;124mThis is a session:\u001b[39m\u001b[38;5;124m\"\u001b[39m, a, \u001b[38;5;124m\"\u001b[39m\u001b[38;5;124m.\u001b[39m\u001b[38;5;124m\"\u001b[39m, b)\n\u001b[0;32m----> 4\u001b[0m my_func(\u001b[38;5;124m\"\u001b[39m\u001b[38;5;124m3\u001b[39m\u001b[38;5;124m\"\u001b[39m)\n",
      "\u001b[0;31mTypeError\u001b[0m: my_func() missing 1 required positional argument: 'b'"
     ]
    }
   ],
   "source": [
    "def my_func(a, b):\n",
    "    print(\"This is a session:\", a, \".\", b)\n",
    "\n",
    "my_func(\"3\")"
   ]
  },
  {
   "cell_type": "code",
   "execution_count": 28,
   "metadata": {
    "colab": {
     "base_uri": "https://localhost:8080/"
    },
    "id": "qpuvNaNNkNRY",
    "outputId": "7a9d483b-04c7-46a2-b891-fd1e06b93de0",
    "tags": []
   },
   "outputs": [
    {
     "name": "stdout",
     "output_type": "stream",
     "text": [
      "This is a session: 4 . 5\n"
     ]
    }
   ],
   "source": [
    "def my_func(a , b = \"5\"):\n",
    "    print(\"This is a session:\", a, \".\", b)\n",
    "\n",
    "my_func( 4)"
   ]
  },
  {
   "cell_type": "code",
   "execution_count": 30,
   "metadata": {
    "colab": {
     "base_uri": "https://localhost:8080/"
    },
    "id": "_e4FO14MkZQz",
    "outputId": "23202545-ef45-4dda-b959-0343d13d2c9b",
    "tags": []
   },
   "outputs": [
    {
     "name": "stdout",
     "output_type": "stream",
     "text": [
      "1 2 3 0\n"
     ]
    }
   ],
   "source": [
    "def func(a, b, d, c = 0):\n",
    "    print(a, b, d, c)\n",
    "\n",
    "func(1, 2, 3)"
   ]
  },
  {
   "cell_type": "code",
   "execution_count": 31,
   "metadata": {
    "colab": {
     "base_uri": "https://localhost:8080/"
    },
    "id": "xvKpUQX3k8zO",
    "outputId": "170033b1-94bd-4954-912d-fb15a3b2fdc3",
    "tags": []
   },
   "outputs": [
    {
     "name": "stdout",
     "output_type": "stream",
     "text": [
      "Yes 10 28\n"
     ]
    }
   ],
   "source": [
    "a = 10\n",
    "b = -2\n",
    "c = 30\n",
    "\n",
    "if a > 5 and b < 0 or c > 100:\n",
    "    print(f\"Yes {a} {c + b}\")"
   ]
  },
  {
   "cell_type": "code",
   "execution_count": 32,
   "metadata": {
    "colab": {
     "base_uri": "https://localhost:8080/"
    },
    "id": "2itkGmCNlKhw",
    "outputId": "d796dca9-afcd-4110-b001-e74b1c94ab83",
    "tags": []
   },
   "outputs": [
    {
     "name": "stdout",
     "output_type": "stream",
     "text": [
      "yeah\n"
     ]
    }
   ],
   "source": [
    "if 4 > 2:\n",
    "    print(\"yeah\")"
   ]
  },
  {
   "cell_type": "code",
   "execution_count": 33,
   "metadata": {
    "colab": {
     "base_uri": "https://localhost:8080/"
    },
    "id": "6JlkSfs5lRMG",
    "outputId": "f76f1e77-1c48-4253-ff91-4bac990c5b80",
    "tags": []
   },
   "outputs": [
    {
     "name": "stdout",
     "output_type": "stream",
     "text": [
      "Yes 10 28\n"
     ]
    }
   ],
   "source": [
    "if a > 5 \\\n",
    "    and b < 0 \\\n",
    "    or c > 100:\n",
    "    print(f\"Yes {a} {c + b}\")"
   ]
  },
  {
   "cell_type": "code",
   "execution_count": 34,
   "metadata": {
    "colab": {
     "base_uri": "https://localhost:8080/"
    },
    "id": "PnLfwAt-ldRY",
    "outputId": "4208dc52-d359-46d3-8676-34017c5e9791",
    "tags": []
   },
   "outputs": [
    {
     "name": "stdout",
     "output_type": "stream",
     "text": [
      "A:  10 B:  4\n"
     ]
    }
   ],
   "source": [
    "a = 10\n",
    "b = 4\n",
    "\n",
    "print(\"A: \", a, \"B: \", b)"
   ]
  },
  {
   "cell_type": "code",
   "execution_count": 35,
   "metadata": {
    "colab": {
     "base_uri": "https://localhost:8080/"
    },
    "id": "Q0moq-U0lmNE",
    "outputId": "e22026fc-e2f4-4d6a-b84b-93c086c37024",
    "tags": []
   },
   "outputs": [
    {
     "name": "stdout",
     "output_type": "stream",
     "text": [
      "A: 100, B: 44\n"
     ]
    }
   ],
   "source": [
    "print(f\"A: {a*a}, B: {b + a*b}\")"
   ]
  },
  {
   "cell_type": "code",
   "execution_count": 39,
   "metadata": {
    "id": "ETVrEkDClq4X",
    "tags": []
   },
   "outputs": [],
   "source": [
    "a = \"This is one of the lines taken from Shashi Tharoors interview. \\\n",
    "He said, that one the democracy is hindered for its progress by the \\\n",
    "rightist movements and their jabs at the structure of the secularism,\\\n",
    "then it becomes very difficult to beat them at the democratic\\\n",
    "electctions becuase now people are infused with the ideas that have \\\n",
    "no relation to their earnings or finances, but the whims and fan\\\n",
    "cies of what they believe to be true...\""
   ]
  },
  {
   "cell_type": "code",
   "execution_count": 40,
   "metadata": {
    "tags": []
   },
   "outputs": [
    {
     "data": {
      "text/plain": [
       "'This is one of the lines taken from Shashi Tharoors interview. He said, that one the democracy is hindered for its progress by the rightist movements and their jabs at the structure of the secularism,then it becomes very difficult to beat them at the democraticelectctions becuase now people are infused with the ideas that have no relation to their earnings or finances, but the whims and fancies of what they believe to be true...'"
      ]
     },
     "execution_count": 40,
     "metadata": {},
     "output_type": "execute_result"
    }
   ],
   "source": [
    "a"
   ]
  },
  {
   "cell_type": "code",
   "execution_count": 41,
   "metadata": {
    "colab": {
     "base_uri": "https://localhost:8080/"
    },
    "id": "dTNO7ohdl3qA",
    "outputId": "3d8d3b8b-f0d7-4bf9-e448-f44b27658de8",
    "tags": []
   },
   "outputs": [
    {
     "name": "stdout",
     "output_type": "stream",
     "text": [
      "This is one of the lines taken from Shashi Tharoors interview. He said, that one the democracy is hindered for its progress by the rightist movements and their jabs at the structure of the secularism,then it becomes very difficult to beat them at the democraticelectctions becuase now people are infused with the ideas that have no relation to their earnings or finances, but the whims and fancies of what they believe to be true...\n"
     ]
    }
   ],
   "source": [
    "print(a)"
   ]
  },
  {
   "cell_type": "code",
   "execution_count": null,
   "metadata": {
    "colab": {
     "base_uri": "https://localhost:8080/",
     "height": 88
    },
    "id": "-Fvi1t9dl4wR",
    "outputId": "64c20106-4416-4457-bb9a-0a4502b929c8"
   },
   "outputs": [
    {
     "data": {
      "application/vnd.google.colaboratory.intrinsic+json": {
       "type": "string"
      },
      "text/plain": [
       "'This is one of the lines taken from Shashi Tharoors interview. \\nHe said, that one the democracy is hindered for its progress by the \\nrightist movements and their jabs at the structure of the secularism, \\nthen it becomes very difficult to beat them at the democratic \\nelectctions becuase now people are infused with the ideas that have no \\nrelation to their earnings or finances, but the whims and fancies of \\nwhat they believe to be true...'"
      ]
     },
     "execution_count": 57,
     "metadata": {},
     "output_type": "execute_result"
    }
   ],
   "source": [
    "\"\"\"This is one of the lines taken from Shashi Tharoors interview.\n",
    "He said, that one the democracy is hindered for its progress by the\n",
    "rightist movements and their jabs at the structure of the secularism,\n",
    "then it becomes very difficult to beat them at the democratic\n",
    "electctions becuase now people are infused with the ideas that have no\n",
    "relation to their earnings or finances, but the whims and fancies of\n",
    "what they believe to be true...\"\"\""
   ]
  },
  {
   "cell_type": "code",
   "execution_count": 42,
   "metadata": {
    "id": "J4bcuGCwmA1e",
    "tags": []
   },
   "outputs": [],
   "source": [
    "a = \"\"\"This is one of the lines taken from Shashi Tharoors interview.\n",
    "He said, that one the democracy is hindered for its progress by the\n",
    "rightist movements and their jabs at the structure of the secularism,\n",
    "then it becomes very difficult to beat them at the democratic\n",
    "electctions becuase now people are infused with the ideas that have no\n",
    "relation to their earnings or finances, but the whims and fancies of\n",
    "what they believe to be true...\"\"\""
   ]
  },
  {
   "cell_type": "code",
   "execution_count": 43,
   "metadata": {
    "colab": {
     "base_uri": "https://localhost:8080/",
     "height": 88
    },
    "id": "9YLnyb_xmDFs",
    "outputId": "88c2642b-0d10-4fa5-d7f6-8355bb6661e2",
    "tags": []
   },
   "outputs": [
    {
     "data": {
      "text/plain": [
       "'This is one of the lines taken from Shashi Tharoors interview.\\nHe said, that one the democracy is hindered for its progress by the\\nrightist movements and their jabs at the structure of the secularism,\\nthen it becomes very difficult to beat them at the democratic\\nelectctions becuase now people are infused with the ideas that have no\\nrelation to their earnings or finances, but the whims and fancies of\\nwhat they believe to be true...'"
      ]
     },
     "execution_count": 43,
     "metadata": {},
     "output_type": "execute_result"
    }
   ],
   "source": [
    "a"
   ]
  },
  {
   "cell_type": "code",
   "execution_count": 45,
   "metadata": {
    "tags": []
   },
   "outputs": [
    {
     "name": "stdout",
     "output_type": "stream",
     "text": [
      "This is one of the lines taken from Shashi Tharoors interview.\n",
      "He said, that one the democracy is hindered for its progress by the\n",
      "rightist movements and their jabs at the structure of the secularism,\n",
      "then it becomes very difficult to beat them at the democratic\n",
      "electctions becuase now people are infused with the ideas that have no\n",
      "relation to their earnings or finances, but the whims and fancies of\n",
      "what they believe to be true...\n"
     ]
    }
   ],
   "source": [
    "print(a)"
   ]
  },
  {
   "cell_type": "markdown",
   "metadata": {
    "id": "OxzeJ4YQmGXg"
   },
   "source": [
    "# CONTIDIONALS"
   ]
  },
  {
   "cell_type": "code",
   "execution_count": 46,
   "metadata": {
    "colab": {
     "base_uri": "https://localhost:8080/"
    },
    "id": "t5ZdJ-PjmEFO",
    "outputId": "456641bc-fe41-46eb-f22a-b119939aabb6",
    "tags": []
   },
   "outputs": [
    {
     "name": "stdout",
     "output_type": "stream",
     "text": [
      "a>3\n"
     ]
    }
   ],
   "source": [
    "# if, else, elif, ternary\n",
    "\n",
    "a = 4\n",
    "if a < 3:\n",
    "  print(\"a<3\")\n",
    "else:\n",
    "  print(\"a>3\")"
   ]
  },
  {
   "cell_type": "code",
   "execution_count": 47,
   "metadata": {
    "colab": {
     "base_uri": "https://localhost:8080/"
    },
    "id": "MDnB4kvCmT1m",
    "outputId": "5b9421f0-7cc3-4f63-b1b5-7750124745cf",
    "tags": []
   },
   "outputs": [
    {
     "name": "stdout",
     "output_type": "stream",
     "text": [
      "I may go with you as I am in a good mood\n"
     ]
    }
   ],
   "source": [
    "a = 15000\n",
    "\n",
    "if a < 5:\n",
    "  print(\"Lets sit at home\")\n",
    "else:\n",
    "  if a > 10000:\n",
    "    print(\"I may go with you as I am in a good mood\")\n",
    "  else:\n",
    "    print(\"I will just watch movie at home\")"
   ]
  },
  {
   "cell_type": "code",
   "execution_count": 48,
   "metadata": {
    "colab": {
     "base_uri": "https://localhost:8080/"
    },
    "id": "RGfupv-dmlWH",
    "outputId": "b3ae6135-b2ea-4831-81d7-9a5fdd193a6f",
    "tags": []
   },
   "outputs": [
    {
     "name": "stdout",
     "output_type": "stream",
     "text": [
      "a is more than 10\n"
     ]
    }
   ],
   "source": [
    "a = 15\n",
    "\n",
    "if a < 5:\n",
    "  print(\"a is less than 5\")\n",
    "elif a < 10:\n",
    "  print(\" a is more than 5 but less than 10\")\n",
    "else:\n",
    "  print(\"a is more than 10\")"
   ]
  },
  {
   "cell_type": "code",
   "execution_count": 49,
   "metadata": {
    "colab": {
     "base_uri": "https://localhost:8080/"
    },
    "id": "ugG3ZHA1m2YA",
    "outputId": "d07de613-ac71-4967-b8d7-e88b98049de9",
    "tags": []
   },
   "outputs": [
    {
     "name": "stdout",
     "output_type": "stream",
     "text": [
      "goodbye\n"
     ]
    }
   ],
   "source": [
    "def say_hello():\n",
    "  print(\"hello\")\n",
    "\n",
    "def say_goodbye():\n",
    "  print(\"goodbye\")\n",
    "\n",
    "time = 6\n",
    "\n",
    "say_hello() if time < 5 else say_goodbye()\n",
    "# DOTHIS IF CONTIDION=TRUE ELSE DOTHISINSTEAD"
   ]
  },
  {
   "cell_type": "code",
   "execution_count": 50,
   "metadata": {
    "colab": {
     "base_uri": "https://localhost:8080/"
    },
    "id": "dWMkU-DcnEow",
    "outputId": "7106a84e-7cf2-493f-d134-1d3a3897ca44",
    "tags": []
   },
   "outputs": [
    {
     "data": {
      "text/plain": [
       "(3, 1)"
      ]
     },
     "execution_count": 50,
     "metadata": {},
     "output_type": "execute_result"
    }
   ],
   "source": [
    "s = [1, 2, 3]\n",
    "\n",
    "len(s), s[0]"
   ]
  },
  {
   "cell_type": "code",
   "execution_count": 51,
   "metadata": {
    "colab": {
     "base_uri": "https://localhost:8080/"
    },
    "id": "lcKTNcgDnRYb",
    "outputId": "c04246ab-636d-4caa-ff40-0a3846af04c8",
    "tags": []
   },
   "outputs": [
    {
     "data": {
      "text/plain": [
       "(1, 3, 3, 2)"
      ]
     },
     "execution_count": 51,
     "metadata": {},
     "output_type": "execute_result"
    }
   ],
   "source": [
    "s[0], s[2], s[-1], s[-2]"
   ]
  },
  {
   "cell_type": "code",
   "execution_count": 52,
   "metadata": {
    "colab": {
     "base_uri": "https://localhost:8080/"
    },
    "id": "Q-VUpz9vnbTw",
    "outputId": "918e1b1d-0de7-48fc-fe09-e400b794e866",
    "tags": []
   },
   "outputs": [
    {
     "data": {
      "text/plain": [
       "(<function len(obj, /)>,\n",
       " <function print(*args, sep=' ', end='\\n', file=None, flush=False)>)"
      ]
     },
     "execution_count": 52,
     "metadata": {},
     "output_type": "execute_result"
    }
   ],
   "source": [
    "len, print"
   ]
  },
  {
   "cell_type": "code",
   "execution_count": 53,
   "metadata": {
    "colab": {
     "base_uri": "https://localhost:8080/",
     "height": 181
    },
    "id": "kmh8cCa0ngVM",
    "outputId": "f5431976-fe44-466d-865d-746657f05b55",
    "tags": []
   },
   "outputs": [
    {
     "ename": "NameError",
     "evalue": "name 'sqrt' is not defined",
     "output_type": "error",
     "traceback": [
      "\u001b[0;31m---------------------------------------------------------------------------\u001b[0m",
      "\u001b[0;31mNameError\u001b[0m                                 Traceback (most recent call last)",
      "Cell \u001b[0;32mIn[53], line 1\u001b[0m\n\u001b[0;32m----> 1\u001b[0m sqrt(\u001b[38;5;241m4\u001b[39m)\n",
      "\u001b[0;31mNameError\u001b[0m: name 'sqrt' is not defined"
     ]
    }
   ],
   "source": [
    "sqrt(4)"
   ]
  },
  {
   "cell_type": "code",
   "execution_count": 54,
   "metadata": {
    "colab": {
     "base_uri": "https://localhost:8080/"
    },
    "id": "fld7gVVvnhzA",
    "outputId": "879b2a0e-1ea4-4ffb-c4fc-085aab4a451a",
    "tags": []
   },
   "outputs": [
    {
     "data": {
      "text/plain": [
       "2.0"
      ]
     },
     "execution_count": 54,
     "metadata": {},
     "output_type": "execute_result"
    }
   ],
   "source": [
    "from math import sqrt\n",
    "\n",
    "sqrt(4)"
   ]
  },
  {
   "cell_type": "code",
   "execution_count": 55,
   "metadata": {
    "colab": {
     "base_uri": "https://localhost:8080/",
     "height": 181
    },
    "id": "cDf751Z1nl1M",
    "outputId": "ee7877d8-ab5d-48f1-fbdf-073a63cbfba5",
    "tags": []
   },
   "outputs": [
    {
     "ename": "NameError",
     "evalue": "name 'math' is not defined",
     "output_type": "error",
     "traceback": [
      "\u001b[0;31m---------------------------------------------------------------------------\u001b[0m",
      "\u001b[0;31mNameError\u001b[0m                                 Traceback (most recent call last)",
      "Cell \u001b[0;32mIn[55], line 1\u001b[0m\n\u001b[0;32m----> 1\u001b[0m math\u001b[38;5;241m.\u001b[39mexp(\u001b[38;5;241m4\u001b[39m)\n",
      "\u001b[0;31mNameError\u001b[0m: name 'math' is not defined"
     ]
    }
   ],
   "source": [
    "math.exp(4)"
   ]
  },
  {
   "cell_type": "code",
   "execution_count": 56,
   "metadata": {
    "colab": {
     "base_uri": "https://localhost:8080/"
    },
    "id": "69a-8aMmnr0q",
    "outputId": "3a83face-a531-40ff-e28d-7bc5ee6afee3",
    "tags": []
   },
   "outputs": [
    {
     "data": {
      "text/plain": [
       "1.0"
      ]
     },
     "execution_count": 56,
     "metadata": {},
     "output_type": "execute_result"
    }
   ],
   "source": [
    "import math\n",
    "\n",
    "math.cos(0)"
   ]
  },
  {
   "cell_type": "code",
   "execution_count": 57,
   "metadata": {
    "colab": {
     "base_uri": "https://localhost:8080/"
    },
    "collapsed": true,
    "id": "arby4be2nwLc",
    "jupyter": {
     "outputs_hidden": true
    },
    "outputId": "dcaf331e-e50b-471d-c1d5-d68e1c163a03",
    "tags": []
   },
   "outputs": [
    {
     "data": {
      "text/plain": [
       "['In',\n",
       " 'Out',\n",
       " '_',\n",
       " '_10',\n",
       " '_11',\n",
       " '_15',\n",
       " '_18',\n",
       " '_19',\n",
       " '_20',\n",
       " '_22',\n",
       " '_23',\n",
       " '_24',\n",
       " '_26',\n",
       " '_40',\n",
       " '_43',\n",
       " '_5',\n",
       " '_50',\n",
       " '_51',\n",
       " '_52',\n",
       " '_54',\n",
       " '_56',\n",
       " '_9',\n",
       " '__',\n",
       " '___',\n",
       " '__builtin__',\n",
       " '__builtins__',\n",
       " '__doc__',\n",
       " '__loader__',\n",
       " '__name__',\n",
       " '__package__',\n",
       " '__session__',\n",
       " '__spec__',\n",
       " '_dh',\n",
       " '_i',\n",
       " '_i1',\n",
       " '_i10',\n",
       " '_i11',\n",
       " '_i12',\n",
       " '_i13',\n",
       " '_i14',\n",
       " '_i15',\n",
       " '_i16',\n",
       " '_i17',\n",
       " '_i18',\n",
       " '_i19',\n",
       " '_i2',\n",
       " '_i20',\n",
       " '_i21',\n",
       " '_i22',\n",
       " '_i23',\n",
       " '_i24',\n",
       " '_i25',\n",
       " '_i26',\n",
       " '_i27',\n",
       " '_i28',\n",
       " '_i29',\n",
       " '_i3',\n",
       " '_i30',\n",
       " '_i31',\n",
       " '_i32',\n",
       " '_i33',\n",
       " '_i34',\n",
       " '_i35',\n",
       " '_i36',\n",
       " '_i37',\n",
       " '_i38',\n",
       " '_i39',\n",
       " '_i4',\n",
       " '_i40',\n",
       " '_i41',\n",
       " '_i42',\n",
       " '_i43',\n",
       " '_i44',\n",
       " '_i45',\n",
       " '_i46',\n",
       " '_i47',\n",
       " '_i48',\n",
       " '_i49',\n",
       " '_i5',\n",
       " '_i50',\n",
       " '_i51',\n",
       " '_i52',\n",
       " '_i53',\n",
       " '_i54',\n",
       " '_i55',\n",
       " '_i56',\n",
       " '_i57',\n",
       " '_i6',\n",
       " '_i7',\n",
       " '_i8',\n",
       " '_i9',\n",
       " '_ih',\n",
       " '_ii',\n",
       " '_iii',\n",
       " '_oh',\n",
       " 'a',\n",
       " 'b',\n",
       " 'c',\n",
       " 'd',\n",
       " 'exit',\n",
       " 'func',\n",
       " 'get_ipython',\n",
       " 'l',\n",
       " 'math',\n",
       " 'myFunc',\n",
       " 'my_func',\n",
       " 'open',\n",
       " 'quit',\n",
       " 's',\n",
       " 'say_goodbye',\n",
       " 'say_hello',\n",
       " 'sqrt',\n",
       " 't',\n",
       " 'time']"
      ]
     },
     "execution_count": 57,
     "metadata": {},
     "output_type": "execute_result"
    }
   ],
   "source": [
    "dir()"
   ]
  },
  {
   "cell_type": "code",
   "execution_count": 58,
   "metadata": {
    "colab": {
     "base_uri": "https://localhost:8080/"
    },
    "collapsed": true,
    "id": "9DoQxaYGnz2A",
    "jupyter": {
     "outputs_hidden": true
    },
    "outputId": "b55bc538-77c7-41d5-9a81-28e7a5e2d25a",
    "tags": []
   },
   "outputs": [
    {
     "data": {
      "text/plain": [
       "(0.8509035245341184,\n",
       " ['In',\n",
       "  'Out',\n",
       "  '_',\n",
       "  '_10',\n",
       "  '_11',\n",
       "  '_15',\n",
       "  '_18',\n",
       "  '_19',\n",
       "  '_20',\n",
       "  '_22',\n",
       "  '_23',\n",
       "  '_24',\n",
       "  '_26',\n",
       "  '_40',\n",
       "  '_43',\n",
       "  '_5',\n",
       "  '_50',\n",
       "  '_51',\n",
       "  '_52',\n",
       "  '_54',\n",
       "  '_56',\n",
       "  '_57',\n",
       "  '_9',\n",
       "  '__',\n",
       "  '___',\n",
       "  '__builtin__',\n",
       "  '__builtins__',\n",
       "  '__doc__',\n",
       "  '__loader__',\n",
       "  '__name__',\n",
       "  '__package__',\n",
       "  '__session__',\n",
       "  '__spec__',\n",
       "  '_dh',\n",
       "  '_i',\n",
       "  '_i1',\n",
       "  '_i10',\n",
       "  '_i11',\n",
       "  '_i12',\n",
       "  '_i13',\n",
       "  '_i14',\n",
       "  '_i15',\n",
       "  '_i16',\n",
       "  '_i17',\n",
       "  '_i18',\n",
       "  '_i19',\n",
       "  '_i2',\n",
       "  '_i20',\n",
       "  '_i21',\n",
       "  '_i22',\n",
       "  '_i23',\n",
       "  '_i24',\n",
       "  '_i25',\n",
       "  '_i26',\n",
       "  '_i27',\n",
       "  '_i28',\n",
       "  '_i29',\n",
       "  '_i3',\n",
       "  '_i30',\n",
       "  '_i31',\n",
       "  '_i32',\n",
       "  '_i33',\n",
       "  '_i34',\n",
       "  '_i35',\n",
       "  '_i36',\n",
       "  '_i37',\n",
       "  '_i38',\n",
       "  '_i39',\n",
       "  '_i4',\n",
       "  '_i40',\n",
       "  '_i41',\n",
       "  '_i42',\n",
       "  '_i43',\n",
       "  '_i44',\n",
       "  '_i45',\n",
       "  '_i46',\n",
       "  '_i47',\n",
       "  '_i48',\n",
       "  '_i49',\n",
       "  '_i5',\n",
       "  '_i50',\n",
       "  '_i51',\n",
       "  '_i52',\n",
       "  '_i53',\n",
       "  '_i54',\n",
       "  '_i55',\n",
       "  '_i56',\n",
       "  '_i57',\n",
       "  '_i58',\n",
       "  '_i6',\n",
       "  '_i7',\n",
       "  '_i8',\n",
       "  '_i9',\n",
       "  '_ih',\n",
       "  '_ii',\n",
       "  '_iii',\n",
       "  '_oh',\n",
       "  'a',\n",
       "  'b',\n",
       "  'c',\n",
       "  'd',\n",
       "  'exit',\n",
       "  'func',\n",
       "  'get_ipython',\n",
       "  'l',\n",
       "  'math',\n",
       "  'myFunc',\n",
       "  'my_func',\n",
       "  'open',\n",
       "  'quit',\n",
       "  's',\n",
       "  'say_goodbye',\n",
       "  'say_hello',\n",
       "  'sqrt',\n",
       "  't',\n",
       "  'time'])"
      ]
     },
     "execution_count": 58,
     "metadata": {},
     "output_type": "execute_result"
    }
   ],
   "source": [
    "math.sin(45), dir()"
   ]
  },
  {
   "cell_type": "code",
   "execution_count": 59,
   "metadata": {
    "id": "46oY5zQMoCn4",
    "tags": []
   },
   "outputs": [],
   "source": [
    "cc = \"organge\"\n",
    "dd = \"organge\"\n",
    "ee = \"organge\""
   ]
  },
  {
   "cell_type": "code",
   "execution_count": 60,
   "metadata": {
    "colab": {
     "base_uri": "https://localhost:8080/"
    },
    "id": "AXjYrhO1oTbE",
    "outputId": "f1a352e3-7808-4032-be79-ba2559949423",
    "tags": []
   },
   "outputs": [
    {
     "data": {
      "text/plain": [
       "4337067672"
      ]
     },
     "execution_count": 60,
     "metadata": {},
     "output_type": "execute_result"
    }
   ],
   "source": [
    "id(a)"
   ]
  },
  {
   "cell_type": "code",
   "execution_count": 61,
   "metadata": {
    "colab": {
     "base_uri": "https://localhost:8080/"
    },
    "id": "AwsHMZrFoW_Q",
    "outputId": "fc963888-4a4f-42ee-effb-192af7ecf31a",
    "tags": []
   },
   "outputs": [
    {
     "data": {
      "text/plain": [
       "(4615087280, 4615087280, 4615087280)"
      ]
     },
     "execution_count": 61,
     "metadata": {},
     "output_type": "execute_result"
    }
   ],
   "source": [
    "id(cc), id(dd), id(ee)"
   ]
  },
  {
   "cell_type": "code",
   "execution_count": 62,
   "metadata": {
    "colab": {
     "base_uri": "https://localhost:8080/"
    },
    "id": "j5KlWUrzohnJ",
    "outputId": "20745187-e99e-4165-8b3b-05e5cf97784b",
    "tags": []
   },
   "outputs": [
    {
     "data": {
      "text/plain": [
       "4337067224"
      ]
     },
     "execution_count": 62,
     "metadata": {},
     "output_type": "execute_result"
    }
   ],
   "source": [
    "id(1)"
   ]
  },
  {
   "cell_type": "code",
   "execution_count": 63,
   "metadata": {
    "colab": {
     "base_uri": "https://localhost:8080/"
    },
    "id": "K7U7Alkxoxmn",
    "outputId": "495ec2a4-a0bf-4043-a0d6-82c22578140b",
    "tags": []
   },
   "outputs": [
    {
     "data": {
      "text/plain": [
       "(4337067224, 4614137552)"
      ]
     },
     "execution_count": 63,
     "metadata": {},
     "output_type": "execute_result"
    }
   ],
   "source": [
    "g = 1\n",
    "id(g), id(id(g))"
   ]
  },
  {
   "cell_type": "code",
   "execution_count": 64,
   "metadata": {
    "id": "xpB7P5Hio0kt",
    "tags": []
   },
   "outputs": [],
   "source": [
    "del cc, dd, ee"
   ]
  },
  {
   "cell_type": "code",
   "execution_count": 65,
   "metadata": {
    "colab": {
     "base_uri": "https://localhost:8080/",
     "height": 181
    },
    "id": "P2B5qD2fpWU5",
    "outputId": "61aefb17-1319-4f81-bc28-606b823f63c7",
    "tags": []
   },
   "outputs": [
    {
     "ename": "NameError",
     "evalue": "name 'cc' is not defined",
     "output_type": "error",
     "traceback": [
      "\u001b[0;31m---------------------------------------------------------------------------\u001b[0m",
      "\u001b[0;31mNameError\u001b[0m                                 Traceback (most recent call last)",
      "Cell \u001b[0;32mIn[65], line 1\u001b[0m\n\u001b[0;32m----> 1\u001b[0m cc\n",
      "\u001b[0;31mNameError\u001b[0m: name 'cc' is not defined"
     ]
    }
   ],
   "source": [
    "cc"
   ]
  },
  {
   "cell_type": "code",
   "execution_count": 66,
   "metadata": {
    "colab": {
     "base_uri": "https://localhost:8080/"
    },
    "id": "njEklmr8pYh-",
    "outputId": "0494288c-f9f9-44b5-bf73-fc9e9a60d832",
    "tags": []
   },
   "outputs": [
    {
     "data": {
      "text/plain": [
       "4615008688"
      ]
     },
     "execution_count": 66,
     "metadata": {},
     "output_type": "execute_result"
    }
   ],
   "source": [
    "kk = \"organge\"\n",
    "id(kk)"
   ]
  },
  {
   "cell_type": "code",
   "execution_count": 67,
   "metadata": {
    "colab": {
     "base_uri": "https://localhost:8080/"
    },
    "id": "LhFiB_69pdDK",
    "outputId": "d2bcb37f-865d-472e-8cfe-06a018d09583",
    "tags": []
   },
   "outputs": [
    {
     "name": "stdout",
     "output_type": "stream",
     "text": [
      "4337071896\n",
      "4337071896\n"
     ]
    }
   ],
   "source": [
    "p = 147\n",
    "print(id(p))\n",
    "del p\n",
    "u = 147\n",
    "print(id(u))"
   ]
  },
  {
   "cell_type": "code",
   "execution_count": 69,
   "metadata": {
    "colab": {
     "base_uri": "https://localhost:8080/"
    },
    "id": "DaRkG41spn7T",
    "outputId": "55d22817-309c-4a35-c2e2-cdf218215234",
    "tags": []
   },
   "outputs": [
    {
     "name": "stdout",
     "output_type": "stream",
     "text": [
      "33\n"
     ]
    }
   ],
   "source": [
    "def new_func(rr):\n",
    "    rr = 45\n",
    "\n",
    "rr = 33\n",
    "new_func(rr)\n",
    "print(rr)"
   ]
  },
  {
   "cell_type": "code",
   "execution_count": 70,
   "metadata": {
    "colab": {
     "base_uri": "https://localhost:8080/"
    },
    "id": "uewXrBApp6U8",
    "outputId": "5181723f-8e8f-4bfd-ab1f-246fa3d900d7",
    "tags": []
   },
   "outputs": [
    {
     "data": {
      "text/plain": [
       "(2, 2)"
      ]
     },
     "execution_count": 70,
     "metadata": {},
     "output_type": "execute_result"
    }
   ],
   "source": [
    "# lambda\n",
    "\n",
    "def mouse1(a, b):\n",
    "    return a* b\n",
    "\n",
    "mouse2 = lambda a, b : a * b\n",
    "\n",
    "mouse1(1, 2), mouse2(1, 2)"
   ]
  },
  {
   "cell_type": "code",
   "execution_count": 71,
   "metadata": {
    "colab": {
     "base_uri": "https://localhost:8080/"
    },
    "id": "0oWGX_DkqgKt",
    "outputId": "32cd467c-8e12-45aa-ec98-9c1cd9e3e632",
    "tags": []
   },
   "outputs": [
    {
     "data": {
      "text/plain": [
       "<function __main__.<lambda>(a, b)>"
      ]
     },
     "execution_count": 71,
     "metadata": {},
     "output_type": "execute_result"
    }
   ],
   "source": [
    "lambda a, b : a * b"
   ]
  },
  {
   "cell_type": "code",
   "execution_count": 73,
   "metadata": {
    "colab": {
     "base_uri": "https://localhost:8080/"
    },
    "id": "zEI8C5TOqoCz",
    "outputId": "96b5a3b2-c5c0-48a0-efa1-46f9e7224028",
    "tags": []
   },
   "outputs": [
    {
     "data": {
      "text/plain": [
       "12"
      ]
     },
     "execution_count": 73,
     "metadata": {},
     "output_type": "execute_result"
    }
   ],
   "source": [
    "def newnew(a, b):\n",
    "    red = lambda a, b : a * b\n",
    "    return red(a, b)\n",
    "\n",
    "newnew(3, 4)"
   ]
  },
  {
   "cell_type": "code",
   "execution_count": 75,
   "metadata": {
    "colab": {
     "base_uri": "https://localhost:8080/"
    },
    "id": "cJIbubYJquhf",
    "outputId": "aec476ec-3930-4fee-af5b-662c623f5d19",
    "tags": []
   },
   "outputs": [
    {
     "data": {
      "text/plain": [
       "12"
      ]
     },
     "execution_count": 75,
     "metadata": {},
     "output_type": "execute_result"
    }
   ],
   "source": [
    "red = lambda f, g:  f * g\n",
    "\n",
    "def new3(a, blue):\n",
    "    return blue(a, 3)\n",
    "\n",
    "new3(4, red)"
   ]
  },
  {
   "cell_type": "code",
   "execution_count": 76,
   "metadata": {
    "colab": {
     "base_uri": "https://localhost:8080/"
    },
    "id": "FabLhyETrMvN",
    "outputId": "5ac1fc66-230a-41cf-9749-3020a87eecac",
    "tags": []
   },
   "outputs": [
    {
     "name": "stdout",
     "output_type": "stream",
     "text": [
      "-1\n"
     ]
    }
   ],
   "source": [
    "adder = lambda f, g:  f + g\n",
    "subtractor = lambda f, g:  f - g\n",
    "divider = lambda f, g:  f / g\n",
    "multiplier = lambda f, g:  f * g\n",
    "def new3(a, any_func):\n",
    "  if a == 1:\n",
    "    return adder(a, 3)\n",
    "  elif a == 2:\n",
    "    return subtractor(a, 3)\n",
    "  elif a == 3:\n",
    "    return divider(a, 3)\n",
    "print(new3(2, adder))"
   ]
  },
  {
   "cell_type": "code",
   "execution_count": 77,
   "metadata": {
    "colab": {
     "base_uri": "https://localhost:8080/"
    },
    "id": "_ZQZDNKNrzdv",
    "outputId": "779cfc2c-e791-4de6-dee6-a1e9ab99f83d",
    "tags": []
   },
   "outputs": [
    {
     "name": "stdout",
     "output_type": "stream",
     "text": [
      "8\n"
     ]
    }
   ],
   "source": [
    "adder = lambda f, g:  f + g\n",
    "subtractor = lambda f, g:  f - g\n",
    "divider = lambda f, g:  f / g\n",
    "multiplier = lambda f, g:  f * g\n",
    "\n",
    "def new3(a, any_func):\n",
    "  return any_func(a, 4)\n",
    "print(new3(2, multiplier))"
   ]
  },
  {
   "cell_type": "code",
   "execution_count": 78,
   "metadata": {
    "colab": {
     "base_uri": "https://localhost:8080/"
    },
    "id": "MYjLwv4QsEVu",
    "outputId": "4518c478-81bc-4c38-fd65-09c6173785c2",
    "tags": []
   },
   "outputs": [
    {
     "name": "stdout",
     "output_type": "stream",
     "text": [
      "0\n",
      "1\n",
      "2\n",
      "3\n",
      "4\n"
     ]
    }
   ],
   "source": [
    "i = 0\n",
    "\n",
    "while i < 5:\n",
    "  print(i)\n",
    "  i = i + 1"
   ]
  },
  {
   "cell_type": "code",
   "execution_count": 79,
   "metadata": {
    "colab": {
     "base_uri": "https://localhost:8080/"
    },
    "id": "hGVEPNJlsaVx",
    "outputId": "8f9bfaa0-5a89-497f-ec70-0beb037a29a5",
    "tags": []
   },
   "outputs": [
    {
     "name": "stdout",
     "output_type": "stream",
     "text": [
      "something\n"
     ]
    }
   ],
   "source": [
    "while True:\n",
    "  print(\"something\")\n",
    "  break"
   ]
  },
  {
   "cell_type": "code",
   "execution_count": 80,
   "metadata": {
    "colab": {
     "base_uri": "https://localhost:8080/",
     "height": 217
    },
    "id": "QW2JF4MZsh5L",
    "outputId": "c07f9a56-0f36-4273-8fe7-2b5e4c936613",
    "tags": []
   },
   "outputs": [
    {
     "ename": "ZeroDivisionError",
     "evalue": "division by zero",
     "output_type": "error",
     "traceback": [
      "\u001b[0;31m---------------------------------------------------------------------------\u001b[0m",
      "\u001b[0;31mZeroDivisionError\u001b[0m                         Traceback (most recent call last)",
      "Cell \u001b[0;32mIn[80], line 4\u001b[0m\n\u001b[1;32m      1\u001b[0m a \u001b[38;5;241m=\u001b[39m \u001b[38;5;241m10\u001b[39m\n\u001b[1;32m      2\u001b[0m b \u001b[38;5;241m=\u001b[39m \u001b[38;5;241m0\u001b[39m\n\u001b[0;32m----> 4\u001b[0m a \u001b[38;5;241m/\u001b[39m b\n",
      "\u001b[0;31mZeroDivisionError\u001b[0m: division by zero"
     ]
    }
   ],
   "source": [
    "a = 10\n",
    "b = 0\n",
    "\n",
    "a / b"
   ]
  },
  {
   "cell_type": "code",
   "execution_count": 81,
   "metadata": {
    "colab": {
     "base_uri": "https://localhost:8080/"
    },
    "id": "NBKvOUyTsnDb",
    "outputId": "da3fe0b2-5036-4d82-ad2f-79f9ab4b36af",
    "tags": []
   },
   "outputs": [
    {
     "name": "stdout",
     "output_type": "stream",
     "text": [
      "works\n",
      "I will always work\n"
     ]
    }
   ],
   "source": [
    "a = 10\n",
    "b = 10\n",
    "\n",
    "try:\n",
    "  a/b\n",
    "  print(\"works\")\n",
    "except ZeroDivisionError:\n",
    "  print(\"b was 0 dude!\")\n",
    "finally:\n",
    "  print(\"I will always work\")\n"
   ]
  },
  {
   "cell_type": "code",
   "execution_count": 82,
   "metadata": {
    "colab": {
     "base_uri": "https://localhost:8080/"
    },
    "id": "aUqCGL7is1nZ",
    "outputId": "8431fd25-a3b8-45e5-d820-5fbda7aea0c0",
    "tags": []
   },
   "outputs": [
    {
     "name": "stdout",
     "output_type": "stream",
     "text": [
      "b was 0 dude!\n"
     ]
    }
   ],
   "source": [
    "a = 10\n",
    "b = 0\n",
    "\n",
    "try:\n",
    "  a/b\n",
    "  print(\"works\")\n",
    "except ZeroDivisionError:\n",
    "  print(\"b was 0 dude!\")"
   ]
  },
  {
   "cell_type": "code",
   "execution_count": 83,
   "metadata": {
    "colab": {
     "base_uri": "https://localhost:8080/"
    },
    "id": "c0XANCPDs5gk",
    "outputId": "74256515-af89-4f94-b894-cf3f91876a88",
    "tags": []
   },
   "outputs": [
    {
     "name": "stdout",
     "output_type": "stream",
     "text": [
      "b was 0 dude!\n",
      "I will always work\n"
     ]
    }
   ],
   "source": [
    "a = 10\n",
    "b = 0\n",
    "\n",
    "try:\n",
    "  a/b\n",
    "  print(\"works\")\n",
    "except ZeroDivisionError:\n",
    "  print(\"b was 0 dude!\")\n",
    "finally:\n",
    "  print(\"I will always work\")"
   ]
  },
  {
   "cell_type": "code",
   "execution_count": 84,
   "metadata": {
    "colab": {
     "base_uri": "https://localhost:8080/"
    },
    "id": "5XC3NTZ1s-mU",
    "outputId": "2d1eefed-7aa8-4b20-8f7a-73a61e4240d6",
    "tags": []
   },
   "outputs": [
    {
     "name": "stdout",
     "output_type": "stream",
     "text": [
      "____________________\n",
      "a = 1, b = 1 - Finally Step\n",
      "a = 1, b = 1 - main loop\n",
      "____________________\n",
      "a = 2, b = 0 - division by 0 ZDE Step\n",
      "a = 2, b = 0 - Finally Step\n",
      "____________________\n",
      "a = 3, b = -1 - Finally Step\n",
      "a = 3, b = -1 - main loop\n"
     ]
    }
   ],
   "source": [
    "a = 0\n",
    "b = 2\n",
    "\n",
    "while a < 3:\n",
    "    print(\"____________________\")\n",
    "    a += 1 # a = a + 1\n",
    "    b -= 1\n",
    "    try:\n",
    "        res = a / b\n",
    "    except ZeroDivisionError:\n",
    "        print(f'a = {a}, b = {b} - division by 0 ZDE Step')\n",
    "        res = 0\n",
    "        continue\n",
    "    finally:\n",
    "        print(f'a = {a}, b = {b} - Finally Step')\n",
    "    print(f'a = {a}, b = {b} - main loop')\n",
    "\n"
   ]
  },
  {
   "cell_type": "code",
   "execution_count": 85,
   "metadata": {
    "colab": {
     "base_uri": "https://localhost:8080/"
    },
    "id": "2pnWC2AOt1-K",
    "outputId": "146b091a-1aaa-41c9-c9a3-08fb6535f955",
    "tags": []
   },
   "outputs": [
    {
     "data": {
      "text/plain": [
       "range(0, 10)"
      ]
     },
     "execution_count": 85,
     "metadata": {},
     "output_type": "execute_result"
    }
   ],
   "source": [
    "range(10)"
   ]
  },
  {
   "cell_type": "markdown",
   "metadata": {
    "id": "3gMzA5ePuAsi"
   },
   "source": [
    "for(i = 0; i <10 ; i++)"
   ]
  },
  {
   "cell_type": "code",
   "execution_count": 86,
   "metadata": {
    "colab": {
     "base_uri": "https://localhost:8080/"
    },
    "id": "ivYwHATMtef4",
    "outputId": "b5d39d8a-39ae-4e8d-d3e4-dce3aaa2765c",
    "tags": []
   },
   "outputs": [
    {
     "name": "stdout",
     "output_type": "stream",
     "text": [
      "1\n",
      "2\n",
      "3\n",
      "4\n",
      "8\n",
      "red\n"
     ]
    }
   ],
   "source": [
    "l = [1, 2, 3, 4, 8, \"red\"]\n",
    "t = (\"red\", \"green\", \"blue\", 45)\n",
    "r = range(10)\n",
    "\n",
    "for x in l:\n",
    "  print(x)"
   ]
  },
  {
   "cell_type": "code",
   "execution_count": 87,
   "metadata": {
    "colab": {
     "base_uri": "https://localhost:8080/"
    },
    "id": "sQvj1fmQt_8r",
    "outputId": "bf2fc7bd-979c-4d66-e971-8d656c4c975f",
    "tags": []
   },
   "outputs": [
    {
     "name": "stdout",
     "output_type": "stream",
     "text": [
      "red\n",
      "green\n",
      "blue\n",
      "45\n"
     ]
    }
   ],
   "source": [
    "for x in t:\n",
    "  print(x)"
   ]
  },
  {
   "cell_type": "code",
   "execution_count": 88,
   "metadata": {
    "colab": {
     "base_uri": "https://localhost:8080/"
    },
    "id": "40SeVCbtuHpi",
    "outputId": "4f78e395-9032-4a40-bd42-98eccec3a3ff",
    "tags": []
   },
   "outputs": [
    {
     "name": "stdout",
     "output_type": "stream",
     "text": [
      "0\n",
      "1\n",
      "2\n",
      "3\n",
      "4\n",
      "5\n",
      "6\n",
      "7\n",
      "8\n",
      "9\n"
     ]
    }
   ],
   "source": [
    "for x in r:\n",
    "  print(x)"
   ]
  },
  {
   "cell_type": "code",
   "execution_count": 89,
   "metadata": {
    "colab": {
     "base_uri": "https://localhost:8080/"
    },
    "id": "tcbB9o6nuJsz",
    "outputId": "6f1dc019-7c9e-4e5a-e904-b4a32d4f8ba1",
    "tags": []
   },
   "outputs": [
    {
     "name": "stdout",
     "output_type": "stream",
     "text": [
      "0\n",
      "1\n",
      "2\n",
      "3\n",
      "4\n",
      "5\n"
     ]
    }
   ],
   "source": [
    "for x in range(len(l)):\n",
    "  print(x)"
   ]
  },
  {
   "cell_type": "code",
   "execution_count": 90,
   "metadata": {
    "colab": {
     "base_uri": "https://localhost:8080/"
    },
    "id": "GRlUXKsRuOGL",
    "outputId": "41706e54-1707-4816-d8bd-6d2b2fc8ffb5",
    "tags": []
   },
   "outputs": [
    {
     "name": "stdout",
     "output_type": "stream",
     "text": [
      "at 0 we have 1\n",
      "at 1 we have 2\n",
      "at 2 we have 3\n",
      "at 3 we have 4\n",
      "at 4 we have 8\n",
      "at 5 we have red\n"
     ]
    }
   ],
   "source": [
    "for num, data in enumerate(l):\n",
    "  print(f'at {num} we have {data}')"
   ]
  },
  {
   "cell_type": "code",
   "execution_count": 91,
   "metadata": {
    "colab": {
     "base_uri": "https://localhost:8080/"
    },
    "id": "GYFIsC4Pudhm",
    "outputId": "ca1e1866-dab9-4c44-8c2a-762a3bd9465c",
    "tags": []
   },
   "outputs": [
    {
     "data": {
      "text/plain": [
       "(45, 55)"
      ]
     },
     "execution_count": 91,
     "metadata": {},
     "output_type": "execute_result"
    }
   ],
   "source": [
    "t = (45, 55)\n",
    "a1 = t[0]\n",
    "a2 = t[1]\n",
    "a1, a2"
   ]
  },
  {
   "cell_type": "code",
   "execution_count": 92,
   "metadata": {
    "colab": {
     "base_uri": "https://localhost:8080/"
    },
    "id": "QOJxb6G2ujM2",
    "outputId": "3f4f0ff0-6409-4523-acce-4643821df4df",
    "tags": []
   },
   "outputs": [
    {
     "data": {
      "text/plain": [
       "(45, 55)"
      ]
     },
     "execution_count": 92,
     "metadata": {},
     "output_type": "execute_result"
    }
   ],
   "source": [
    "a1, a2 = (45, 55)\n",
    "a1, a2"
   ]
  },
  {
   "cell_type": "code",
   "execution_count": 93,
   "metadata": {
    "colab": {
     "base_uri": "https://localhost:8080/"
    },
    "id": "C1dJFyJhuv7w",
    "outputId": "47c93527-9ab7-4ee4-dfec-771e39613263",
    "tags": []
   },
   "outputs": [
    {
     "name": "stdout",
     "output_type": "stream",
     "text": [
      "4615059408\n",
      "4569956816\n"
     ]
    },
    {
     "data": {
      "text/plain": [
       "(3, 40)"
      ]
     },
     "execution_count": 93,
     "metadata": {},
     "output_type": "execute_result"
    }
   ],
   "source": [
    "class Rectangle:\n",
    "    def __init__(self, w, h):\n",
    "        self.widht = w\n",
    "        self.height = h\n",
    "        print(id(self))\n",
    "\n",
    "r1 = Rectangle(3, 4)\n",
    "r2 = Rectangle(30, 40)\n",
    "\n",
    "r1.widht, r2.height"
   ]
  },
  {
   "cell_type": "code",
   "execution_count": 94,
   "metadata": {
    "colab": {
     "base_uri": "https://localhost:8080/"
    },
    "id": "41M--kDxwDTu",
    "outputId": "47f070b2-c47e-4ec3-d29e-7fddf0eade78",
    "tags": []
   },
   "outputs": [
    {
     "name": "stdout",
     "output_type": "stream",
     "text": [
      "4615568784\n",
      "4569999376\n"
     ]
    },
    {
     "data": {
      "text/plain": [
       "(3, 40, 4615568784, 4569999376)"
      ]
     },
     "execution_count": 94,
     "metadata": {},
     "output_type": "execute_result"
    }
   ],
   "source": [
    "class Rectangle:\n",
    "    def __init__(rohan, w, h):\n",
    "        rohan.widht = w\n",
    "        rohan.height = h\n",
    "        print(id(rohan))\n",
    "\n",
    "r1 = Rectangle(3, 4)\n",
    "r2 = Rectangle(30, 40)\n",
    "\n",
    "r1.widht, r2.height, id(r1), id(r2)"
   ]
  },
  {
   "cell_type": "code",
   "execution_count": 98,
   "metadata": {
    "colab": {
     "base_uri": "https://localhost:8080/"
    },
    "id": "lQkN475AwGkc",
    "outputId": "ff49ce86-d0ce-4c97-836d-0c62fdc75ed7",
    "tags": []
   },
   "outputs": [
    {
     "name": "stdout",
     "output_type": "stream",
     "text": [
      "4615494800\n",
      "4615567888\n"
     ]
    },
    {
     "data": {
      "text/plain": [
       "(3, 40)"
      ]
     },
     "execution_count": 98,
     "metadata": {},
     "output_type": "execute_result"
    }
   ],
   "source": [
    "class Rectangle:\n",
    "    def __init__(suman, w, h):\n",
    "        suman.widht = w\n",
    "        suman.height = h\n",
    "        print(id(suman))\n",
    "\n",
    "r1 = Rectangle(3, 4)\n",
    "r2 = Rectangle(30, 40)\n",
    "\n",
    "r1.widht, r2.height"
   ]
  },
  {
   "cell_type": "code",
   "execution_count": 99,
   "metadata": {
    "id": "KN7AdR8Kws9V",
    "tags": []
   },
   "outputs": [],
   "source": [
    "class Rectangle():\n",
    "    def __init__ (self, width, height):\n",
    "        self.width = width\n",
    "        self.height = height\n",
    "\n",
    "    def area(self):\n",
    "        return self.width * self.height\n",
    "\n",
    "    def perimeter(self):\n",
    "        return 2 *  ( self.width + self.height)"
   ]
  },
  {
   "cell_type": "code",
   "execution_count": 100,
   "metadata": {
    "colab": {
     "base_uri": "https://localhost:8080/"
    },
    "id": "AmJiGAYzw38F",
    "outputId": "1fb0161e-6011-45ef-82e7-789c3a00eed7",
    "tags": []
   },
   "outputs": [
    {
     "data": {
      "text/plain": [
       "200"
      ]
     },
     "execution_count": 100,
     "metadata": {},
     "output_type": "execute_result"
    }
   ],
   "source": [
    "r1 = Rectangle(10, 20)\n",
    "r1.area()"
   ]
  },
  {
   "cell_type": "code",
   "execution_count": 101,
   "metadata": {
    "colab": {
     "base_uri": "https://localhost:8080/"
    },
    "id": "CKAnt7Muw5KI",
    "outputId": "f1dd983e-c01e-4a79-ae86-749963ea4d9d",
    "tags": []
   },
   "outputs": [
    {
     "name": "stdout",
     "output_type": "stream",
     "text": [
      "Help on class Rectangle in module __main__:\n",
      "\n",
      "class Rectangle(builtins.object)\n",
      " |  Rectangle(width, height)\n",
      " |  \n",
      " |  Methods defined here:\n",
      " |  \n",
      " |  __init__(self, width, height)\n",
      " |      Initialize self.  See help(type(self)) for accurate signature.\n",
      " |  \n",
      " |  area(self)\n",
      " |  \n",
      " |  perimeter(self)\n",
      " |  \n",
      " |  ----------------------------------------------------------------------\n",
      " |  Data descriptors defined here:\n",
      " |  \n",
      " |  __dict__\n",
      " |      dictionary for instance variables (if defined)\n",
      " |  \n",
      " |  __weakref__\n",
      " |      list of weak references to the object (if defined)\n",
      "\n"
     ]
    }
   ],
   "source": [
    "help(Rectangle)"
   ]
  },
  {
   "cell_type": "code",
   "execution_count": 102,
   "metadata": {
    "colab": {
     "base_uri": "https://localhost:8080/"
    },
    "id": "hRmSdGdCxVzZ",
    "outputId": "c5dbb71c-40d5-43e0-daec-c0ca2ca45ebd",
    "tags": []
   },
   "outputs": [
    {
     "data": {
      "text/plain": [
       "<__main__.Rectangle at 0x11319d190>"
      ]
     },
     "execution_count": 102,
     "metadata": {},
     "output_type": "execute_result"
    }
   ],
   "source": [
    "r1"
   ]
  },
  {
   "cell_type": "code",
   "execution_count": 106,
   "metadata": {
    "colab": {
     "base_uri": "https://localhost:8080/",
     "height": 35
    },
    "id": "Q756LHutxeUp",
    "outputId": "9a5e34ff-edfc-402e-abaf-279cc0cba1d5",
    "tags": []
   },
   "outputs": [
    {
     "data": {
      "text/plain": [
       "'This is a rectangle stored at: 4615633744'"
      ]
     },
     "execution_count": 106,
     "metadata": {},
     "output_type": "execute_result"
    }
   ],
   "source": [
    "class Rectangle:\n",
    "    def __init__ (self, width, height):\n",
    "        self.width = width\n",
    "        self.height = height\n",
    "\n",
    "    def area(self):\n",
    "        return self.width * self.height\n",
    "\n",
    "    def perimeter(self):\n",
    "        return 2 *  ( self.width + self.height)\n",
    "\n",
    "    def __str__(self): # print(instance of this class will return this)\n",
    "        return \"This is a rectangle stored at: \" + str(id(self))\n",
    "\n",
    "r1 = Rectangle(10, 20)\n",
    "r1.__str__()"
   ]
  },
  {
   "cell_type": "code",
   "execution_count": 107,
   "metadata": {
    "tags": []
   },
   "outputs": [
    {
     "data": {
      "text/plain": [
       "<__main__.Rectangle at 0x1131cfb50>"
      ]
     },
     "execution_count": 107,
     "metadata": {},
     "output_type": "execute_result"
    }
   ],
   "source": [
    "r1"
   ]
  },
  {
   "cell_type": "code",
   "execution_count": 108,
   "metadata": {
    "tags": []
   },
   "outputs": [
    {
     "name": "stdout",
     "output_type": "stream",
     "text": [
      "This is a rectangle stored at: 4615633744\n"
     ]
    }
   ],
   "source": [
    "print(r1)"
   ]
  },
  {
   "cell_type": "code",
   "execution_count": 109,
   "metadata": {
    "colab": {
     "base_uri": "https://localhost:8080/"
    },
    "id": "prgcPbehxm8W",
    "outputId": "ad9cd0b9-de67-4c0d-ce28-13885b951934",
    "tags": []
   },
   "outputs": [
    {
     "name": "stdout",
     "output_type": "stream",
     "text": [
      "Help on class Rectangle in module __main__:\n",
      "\n",
      "class Rectangle(builtins.object)\n",
      " |  Rectangle(width, height)\n",
      " |  \n",
      " |  Methods defined here:\n",
      " |  \n",
      " |  __init__(self, width, height)\n",
      " |      Initialize self.  See help(type(self)) for accurate signature.\n",
      " |  \n",
      " |  __str__(self)\n",
      " |      Return str(self).\n",
      " |  \n",
      " |  area(self)\n",
      " |  \n",
      " |  perimeter(self)\n",
      " |  \n",
      " |  ----------------------------------------------------------------------\n",
      " |  Data descriptors defined here:\n",
      " |  \n",
      " |  __dict__\n",
      " |      dictionary for instance variables (if defined)\n",
      " |  \n",
      " |  __weakref__\n",
      " |      list of weak references to the object (if defined)\n",
      "\n"
     ]
    }
   ],
   "source": [
    "help(Rectangle)"
   ]
  },
  {
   "cell_type": "code",
   "execution_count": 110,
   "metadata": {
    "colab": {
     "base_uri": "https://localhost:8080/"
    },
    "id": "F9wHxRVXxqX5",
    "outputId": "5ca6635f-d660-492d-ec7e-32bf4a2bf9de",
    "tags": []
   },
   "outputs": [
    {
     "data": {
      "text/plain": [
       "['__class__',\n",
       " '__delattr__',\n",
       " '__dict__',\n",
       " '__dir__',\n",
       " '__doc__',\n",
       " '__eq__',\n",
       " '__format__',\n",
       " '__ge__',\n",
       " '__getattribute__',\n",
       " '__getstate__',\n",
       " '__gt__',\n",
       " '__hash__',\n",
       " '__init__',\n",
       " '__init_subclass__',\n",
       " '__le__',\n",
       " '__lt__',\n",
       " '__module__',\n",
       " '__ne__',\n",
       " '__new__',\n",
       " '__reduce__',\n",
       " '__reduce_ex__',\n",
       " '__repr__',\n",
       " '__setattr__',\n",
       " '__sizeof__',\n",
       " '__str__',\n",
       " '__subclasshook__',\n",
       " '__weakref__',\n",
       " 'area',\n",
       " 'height',\n",
       " 'perimeter',\n",
       " 'width']"
      ]
     },
     "execution_count": 110,
     "metadata": {},
     "output_type": "execute_result"
    }
   ],
   "source": [
    "dir(r1)"
   ]
  },
  {
   "cell_type": "code",
   "execution_count": 111,
   "metadata": {
    "colab": {
     "base_uri": "https://localhost:8080/"
    },
    "id": "Qu0o5fQBx0_T",
    "outputId": "0e14db58-af70-4dcb-f575-01868a23a86c",
    "tags": []
   },
   "outputs": [
    {
     "data": {
      "text/plain": [
       "False"
      ]
     },
     "execution_count": 111,
     "metadata": {},
     "output_type": "execute_result"
    }
   ],
   "source": [
    "4 == 5"
   ]
  },
  {
   "cell_type": "code",
   "execution_count": 112,
   "metadata": {
    "colab": {
     "base_uri": "https://localhost:8080/"
    },
    "id": "hZwX8_DmyAbZ",
    "outputId": "c15d04c1-ecec-4840-cbc5-8ac2cafe38cc",
    "tags": []
   },
   "outputs": [
    {
     "data": {
      "text/plain": [
       "int"
      ]
     },
     "execution_count": 112,
     "metadata": {},
     "output_type": "execute_result"
    }
   ],
   "source": [
    "type(4)"
   ]
  },
  {
   "cell_type": "code",
   "execution_count": 113,
   "metadata": {
    "colab": {
     "base_uri": "https://localhost:8080/"
    },
    "collapsed": true,
    "id": "KZ9VCvIgyDqX",
    "jupyter": {
     "outputs_hidden": true
    },
    "outputId": "bd2bc8a4-75f5-43e3-f0a3-ed915002d7b8",
    "tags": []
   },
   "outputs": [
    {
     "data": {
      "text/plain": [
       "['__abs__',\n",
       " '__add__',\n",
       " '__and__',\n",
       " '__bool__',\n",
       " '__ceil__',\n",
       " '__class__',\n",
       " '__delattr__',\n",
       " '__dir__',\n",
       " '__divmod__',\n",
       " '__doc__',\n",
       " '__eq__',\n",
       " '__float__',\n",
       " '__floor__',\n",
       " '__floordiv__',\n",
       " '__format__',\n",
       " '__ge__',\n",
       " '__getattribute__',\n",
       " '__getnewargs__',\n",
       " '__getstate__',\n",
       " '__gt__',\n",
       " '__hash__',\n",
       " '__index__',\n",
       " '__init__',\n",
       " '__init_subclass__',\n",
       " '__int__',\n",
       " '__invert__',\n",
       " '__le__',\n",
       " '__lshift__',\n",
       " '__lt__',\n",
       " '__mod__',\n",
       " '__mul__',\n",
       " '__ne__',\n",
       " '__neg__',\n",
       " '__new__',\n",
       " '__or__',\n",
       " '__pos__',\n",
       " '__pow__',\n",
       " '__radd__',\n",
       " '__rand__',\n",
       " '__rdivmod__',\n",
       " '__reduce__',\n",
       " '__reduce_ex__',\n",
       " '__repr__',\n",
       " '__rfloordiv__',\n",
       " '__rlshift__',\n",
       " '__rmod__',\n",
       " '__rmul__',\n",
       " '__ror__',\n",
       " '__round__',\n",
       " '__rpow__',\n",
       " '__rrshift__',\n",
       " '__rshift__',\n",
       " '__rsub__',\n",
       " '__rtruediv__',\n",
       " '__rxor__',\n",
       " '__setattr__',\n",
       " '__sizeof__',\n",
       " '__str__',\n",
       " '__sub__',\n",
       " '__subclasshook__',\n",
       " '__truediv__',\n",
       " '__trunc__',\n",
       " '__xor__',\n",
       " 'as_integer_ratio',\n",
       " 'bit_count',\n",
       " 'bit_length',\n",
       " 'conjugate',\n",
       " 'denominator',\n",
       " 'from_bytes',\n",
       " 'imag',\n",
       " 'numerator',\n",
       " 'real',\n",
       " 'to_bytes']"
      ]
     },
     "execution_count": 113,
     "metadata": {},
     "output_type": "execute_result"
    }
   ],
   "source": [
    "dir(int)"
   ]
  },
  {
   "cell_type": "code",
   "execution_count": null,
   "metadata": {
    "colab": {
     "base_uri": "https://localhost:8080/"
    },
    "id": "5w4ynfiSyG0u",
    "jupyter": {
     "source_hidden": true
    },
    "outputId": "6094e7fa-203a-4bb5-e7ff-a47f328100ab",
    "tags": []
   },
   "outputs": [
    {
     "data": {
      "text/plain": [
       "This is a rectangle stored at: 136804086537696"
      ]
     },
     "execution_count": 141,
     "metadata": {},
     "output_type": "execute_result"
    }
   ],
   "source": [
    "class Rectangle:\n",
    "    def __init__ (self, width, height):\n",
    "        self.width = width\n",
    "        self.height = height\n",
    "\n",
    "    def area(self):\n",
    "        return self.width * self.height\n",
    "\n",
    "    def perimeter(self):\n",
    "        return 2 *  ( self.width + self.height)\n",
    "\n",
    "    def __repr__(self):\n",
    "        return \"This is a rectangle stored at: \" + str(id(self))\n",
    "\n",
    "r1 = Rectangle(10, 20)\n",
    "r1"
   ]
  },
  {
   "cell_type": "code",
   "execution_count": 132,
   "metadata": {
    "colab": {
     "base_uri": "https://localhost:8080/",
     "height": 235
    },
    "id": "C6v1-x9jyPI-",
    "outputId": "814527f7-d4f5-49d6-a973-8dd081f6ea01",
    "tags": []
   },
   "outputs": [
    {
     "name": "stdout",
     "output_type": "stream",
     "text": [
      "self=This is rectangle stored: 4614944208, other=This is rectangle stored: 4614934032\n"
     ]
    },
    {
     "ename": "TypeError",
     "evalue": "'<' not supported between instances of 'Rectangle' and 'Rectangle'",
     "output_type": "error",
     "traceback": [
      "\u001b[0;31m---------------------------------------------------------------------------\u001b[0m",
      "\u001b[0;31mTypeError\u001b[0m                                 Traceback (most recent call last)",
      "Cell \u001b[0;32mIn[132], line 24\u001b[0m\n\u001b[1;32m     21\u001b[0m r1 \u001b[38;5;241m=\u001b[39m Rectangle(\u001b[38;5;241m10\u001b[39m, \u001b[38;5;241m20\u001b[39m)\n\u001b[1;32m     22\u001b[0m r2 \u001b[38;5;241m=\u001b[39m Rectangle(\u001b[38;5;241m1\u001b[39m, \u001b[38;5;241m2\u001b[39m)\n\u001b[0;32m---> 24\u001b[0m r1 \u001b[38;5;241m==\u001b[39m r2, r2 \u001b[38;5;241m<\u001b[39m r1\n",
      "\u001b[0;31mTypeError\u001b[0m: '<' not supported between instances of 'Rectangle' and 'Rectangle'"
     ]
    }
   ],
   "source": [
    "class Rectangle:\n",
    "    def __init__ (self, width, height):\n",
    "        self.width = width\n",
    "        self.height = height\n",
    "\n",
    "    def area(self):\n",
    "        return self.width * self.height\n",
    "\n",
    "    def perimeter(self):\n",
    "        return 2 *  ( self.width + self.height)\n",
    "\n",
    "    def __str__(self):\n",
    "        return \"This is rectangle stored: \" + str(id(self))\n",
    "\n",
    "    def __eq__(self, other):\n",
    "        print(f'self={self}, other={other}')\n",
    "        if isinstance(other, Rectangle):\n",
    "            return (self.width, self.height) == (other.width, other.height)\n",
    "        else:\n",
    "            return False\n",
    "r1 = Rectangle(10, 20)\n",
    "r2 = Rectangle(1, 2)\n",
    "\n",
    "r1 == r2, r2 < r1"
   ]
  },
  {
   "cell_type": "code",
   "execution_count": 133,
   "metadata": {
    "colab": {
     "base_uri": "https://localhost:8080/"
    },
    "id": "mdNJoSbYybiN",
    "outputId": "62f9f816-ea0a-4b3a-cf48-fd57b03de3b3",
    "tags": []
   },
   "outputs": [
    {
     "data": {
      "text/plain": [
       "False"
      ]
     },
     "execution_count": 133,
     "metadata": {},
     "output_type": "execute_result"
    }
   ],
   "source": [
    "class Rectangle:\n",
    "    def __init__(self, width, height):\n",
    "        self.width = width\n",
    "        self.height = height\n",
    "\n",
    "    def area(self):\n",
    "        return self.width * self.height\n",
    "\n",
    "    def perimeter(self):\n",
    "        return 2 * (self.width + self.height)\n",
    "\n",
    "    def __str__(self):\n",
    "        return 'Rectangle (width={0}, height={1})'.format(self.width, self.height)\n",
    "\n",
    "    def __repr__(self):\n",
    "        return 'Rectangle({0}, {1})'.format(self.width, self.height)\n",
    "\n",
    "    def __eq__(self, other):\n",
    "        if isinstance(other, Rectangle):\n",
    "            return (self.width, self.height) == (other.width, other.height)\n",
    "        else:\n",
    "            return False\n",
    "\n",
    "    def __lt__(self, other):\n",
    "        if isinstance(other, Rectangle):\n",
    "            return self.area() < other.area()\n",
    "        else:\n",
    "            return NotImplemented\n",
    "    \n",
    "    \n",
    "\n",
    "r1 = Rectangle(100, 200)\n",
    "r2 = Rectangle(10, 20)\n",
    "r1 < r2"
   ]
  },
  {
   "cell_type": "code",
   "execution_count": 134,
   "metadata": {
    "tags": []
   },
   "outputs": [
    {
     "data": {
      "text/plain": [
       "False"
      ]
     },
     "execution_count": 134,
     "metadata": {},
     "output_type": "execute_result"
    }
   ],
   "source": [
    "r1 == r2"
   ]
  },
  {
   "cell_type": "code",
   "execution_count": 135,
   "metadata": {
    "colab": {
     "base_uri": "https://localhost:8080/"
    },
    "id": "fnyYGOqGyfMn",
    "outputId": "80c30e2c-08ec-4654-db30-7521aef34d71",
    "tags": []
   },
   "outputs": [
    {
     "data": {
      "text/plain": [
       "NotImplemented"
      ]
     },
     "execution_count": 135,
     "metadata": {},
     "output_type": "execute_result"
    }
   ],
   "source": [
    "r1.__ge__(r2)"
   ]
  },
  {
   "cell_type": "code",
   "execution_count": 136,
   "metadata": {
    "colab": {
     "base_uri": "https://localhost:8080/"
    },
    "id": "h3EtpXOkyo9u",
    "outputId": "c96fa429-010b-42e8-a6b3-4148b27e8e41",
    "tags": []
   },
   "outputs": [
    {
     "data": {
      "text/plain": [
       "['__class__',\n",
       " '__delattr__',\n",
       " '__dict__',\n",
       " '__dir__',\n",
       " '__doc__',\n",
       " '__eq__',\n",
       " '__format__',\n",
       " '__ge__',\n",
       " '__getattribute__',\n",
       " '__getstate__',\n",
       " '__gt__',\n",
       " '__hash__',\n",
       " '__init__',\n",
       " '__init_subclass__',\n",
       " '__le__',\n",
       " '__lt__',\n",
       " '__module__',\n",
       " '__ne__',\n",
       " '__new__',\n",
       " '__reduce__',\n",
       " '__reduce_ex__',\n",
       " '__repr__',\n",
       " '__setattr__',\n",
       " '__sizeof__',\n",
       " '__str__',\n",
       " '__subclasshook__',\n",
       " '__weakref__',\n",
       " 'area',\n",
       " 'height',\n",
       " 'perimeter',\n",
       " 'width']"
      ]
     },
     "execution_count": 136,
     "metadata": {},
     "output_type": "execute_result"
    }
   ],
   "source": [
    "dir(r1)"
   ]
  },
  {
   "cell_type": "code",
   "execution_count": 139,
   "metadata": {
    "colab": {
     "base_uri": "https://localhost:8080/"
    },
    "id": "nfNdwNVAyuX5",
    "outputId": "b811beb1-0353-45e7-af67-531eeb4aef45",
    "tags": []
   },
   "outputs": [
    {
     "data": {
      "text/plain": [
       "(130, 130)"
      ]
     },
     "execution_count": 139,
     "metadata": {},
     "output_type": "execute_result"
    }
   ],
   "source": [
    "dataSet = [\"bat\", \"dog\", \"cat\", \"bat\", \"dog\", \"cow\", \"bat\", \"dog\", \"dog\", \"cow\", \"cow\", \"cow\", \"cow\", \"car\", \"bat\", \"dog\", \"car\", \"car\", \"cat\", \"dog\", \"cat\", \"dog\", \"bat\", \"cat\", \"car\", \"car\", \"dog\", \"cat\", \"cow\", \"cow\", \"cow\", \"cow\", \"cow\", \"car\", \"cat\", \"car\", \"cat\", \"cat\", \"bat\", \"dog\", \"bat\", \"bat\", \"car\", \"dog\", \"dog\", \"cow\", \"dog\", \"cow\", \"dog\", \"bat\", \"cow\", \"dog\", \"bat\", \"dog\", \"bat\", \"cow\", \"bat\", \"bat\", \"car\", \"bat\", \"car\", \"bat\", \"cat\", \"bat\", \"cat\", \"car\", \"cow\", \"car\", \"bat\", \"dog\", \"dog\", \"cat\", \"cat\", \"car\", \"cow\", \"car\", \"cow\", \"cat\", \"cat\", \"cat\", \"cow\", \"bat\", \"cat\", \"car\", \"cat\", \"bat\", \"cat\", \"car\", \"cow\", \"car\", \"dog\", \"dog\", \"dog\", \"car\", \"bat\", \"bat\", \"car\", \"car\", \"dog\", \"car\", \"car\", \"cow\", \"car\", \"cow\", \"dog\", \"bat\", \"cow\", \"bat\", \"bat\", \"car\", \"dog\", \"cat\", \"car\", \"car\", \"dog\", \"dog\", \"cow\", \"cow\", \"cat\", \"cat\", \"cat\", \"bat\", \"dog\", \"cat\", \"bat\", \"cat\", \"cat\", \"cow\", \"cow\", \"cat\"]\n",
    "label = [1,2,0,1,2,3,1,2,2,3,3,3,3,4,1,2,4,4,0,2,0,2,1,0,4,4,2,0,3,3,3,3,3,4,0,4,0,0,1,2,1,1,4,2,2,3,2,3,2,1,3,2,1,2,1,3,1,1,4,1,4,1,0,1,0,4,3,4,1,2,2,0,0,4,3,4,3,0,0,0,3,1,0,4,0,1,0,4,3,4,2,2,2,4,1,1,4,4,2,4,4,3,4,3,2,1,3,1,1,4,2,0,4,4,2,2,3,3,0,0,0,1,2,0,1,0,0,3,3,0]\n",
    "\n",
    "class Animals:\n",
    "    def __init__(self, dataSet, label):\n",
    "        self.dataSet = dataSet\n",
    "        self.label = label\n",
    "\n",
    "    def __len__(self):\n",
    "        return len(self.dataSet)\n",
    "\n",
    "animal = Animals(dataSet, label)\n",
    "len(animal), animal.__len__()\n"
   ]
  },
  {
   "cell_type": "code",
   "execution_count": 147,
   "metadata": {
    "colab": {
     "base_uri": "https://localhost:8080/"
    },
    "id": "iwHJS2N20FUD",
    "outputId": "121338e2-fa84-497f-89d0-3b3c2f2cd0af",
    "tags": []
   },
   "outputs": [
    {
     "data": {
      "text/plain": [
       "('bat', 1)"
      ]
     },
     "execution_count": 147,
     "metadata": {},
     "output_type": "execute_result"
    }
   ],
   "source": [
    "class Animals:\n",
    "  def __init__(self, dataSet, label):\n",
    "    self.dataSet = dataSet\n",
    "    self.label = label\n",
    "\n",
    "  def __len__(self):\n",
    "    return len(self.dataSet)\n",
    "\n",
    "  def __getitem__(self, index):\n",
    "    return dataSet[index], label[index]\n",
    "\n",
    "animal = Animals(dataSet, label)\n",
    "\n",
    "animal.__getitem__(3)"
   ]
  },
  {
   "cell_type": "code",
   "execution_count": 148,
   "metadata": {
    "tags": []
   },
   "outputs": [
    {
     "data": {
      "text/plain": [
       "('car', 4)"
      ]
     },
     "execution_count": 148,
     "metadata": {},
     "output_type": "execute_result"
    }
   ],
   "source": [
    "animal[100]"
   ]
  },
  {
   "cell_type": "code",
   "execution_count": 149,
   "metadata": {
    "colab": {
     "base_uri": "https://localhost:8080/"
    },
    "collapsed": true,
    "id": "41Aeh73b0RKc",
    "jupyter": {
     "outputs_hidden": true
    },
    "outputId": "3da988ab-ff6b-4ac2-9815-b270b54ba101",
    "tags": []
   },
   "outputs": [
    {
     "name": "stdout",
     "output_type": "stream",
     "text": [
      "('bat', 1)\n",
      "('dog', 2)\n",
      "('cat', 0)\n",
      "('bat', 1)\n",
      "('dog', 2)\n",
      "('cow', 3)\n",
      "('bat', 1)\n",
      "('dog', 2)\n",
      "('dog', 2)\n",
      "('cow', 3)\n",
      "('cow', 3)\n",
      "('cow', 3)\n",
      "('cow', 3)\n",
      "('car', 4)\n",
      "('bat', 1)\n",
      "('dog', 2)\n",
      "('car', 4)\n",
      "('car', 4)\n",
      "('cat', 0)\n",
      "('dog', 2)\n",
      "('cat', 0)\n",
      "('dog', 2)\n",
      "('bat', 1)\n",
      "('cat', 0)\n",
      "('car', 4)\n",
      "('car', 4)\n",
      "('dog', 2)\n",
      "('cat', 0)\n",
      "('cow', 3)\n",
      "('cow', 3)\n",
      "('cow', 3)\n",
      "('cow', 3)\n",
      "('cow', 3)\n",
      "('car', 4)\n",
      "('cat', 0)\n",
      "('car', 4)\n",
      "('cat', 0)\n",
      "('cat', 0)\n",
      "('bat', 1)\n",
      "('dog', 2)\n",
      "('bat', 1)\n",
      "('bat', 1)\n",
      "('car', 4)\n",
      "('dog', 2)\n",
      "('dog', 2)\n",
      "('cow', 3)\n",
      "('dog', 2)\n",
      "('cow', 3)\n",
      "('dog', 2)\n",
      "('bat', 1)\n",
      "('cow', 3)\n",
      "('dog', 2)\n",
      "('bat', 1)\n",
      "('dog', 2)\n",
      "('bat', 1)\n",
      "('cow', 3)\n",
      "('bat', 1)\n",
      "('bat', 1)\n",
      "('car', 4)\n",
      "('bat', 1)\n",
      "('car', 4)\n",
      "('bat', 1)\n",
      "('cat', 0)\n",
      "('bat', 1)\n",
      "('cat', 0)\n",
      "('car', 4)\n",
      "('cow', 3)\n",
      "('car', 4)\n",
      "('bat', 1)\n",
      "('dog', 2)\n",
      "('dog', 2)\n",
      "('cat', 0)\n",
      "('cat', 0)\n",
      "('car', 4)\n",
      "('cow', 3)\n",
      "('car', 4)\n",
      "('cow', 3)\n",
      "('cat', 0)\n",
      "('cat', 0)\n",
      "('cat', 0)\n",
      "('cow', 3)\n",
      "('bat', 1)\n",
      "('cat', 0)\n",
      "('car', 4)\n",
      "('cat', 0)\n",
      "('bat', 1)\n",
      "('cat', 0)\n",
      "('car', 4)\n",
      "('cow', 3)\n",
      "('car', 4)\n",
      "('dog', 2)\n",
      "('dog', 2)\n",
      "('dog', 2)\n",
      "('car', 4)\n",
      "('bat', 1)\n",
      "('bat', 1)\n",
      "('car', 4)\n",
      "('car', 4)\n",
      "('dog', 2)\n",
      "('car', 4)\n",
      "('car', 4)\n",
      "('cow', 3)\n",
      "('car', 4)\n",
      "('cow', 3)\n",
      "('dog', 2)\n",
      "('bat', 1)\n",
      "('cow', 3)\n",
      "('bat', 1)\n",
      "('bat', 1)\n",
      "('car', 4)\n",
      "('dog', 2)\n",
      "('cat', 0)\n",
      "('car', 4)\n",
      "('car', 4)\n",
      "('dog', 2)\n",
      "('dog', 2)\n",
      "('cow', 3)\n",
      "('cow', 3)\n",
      "('cat', 0)\n",
      "('cat', 0)\n",
      "('cat', 0)\n",
      "('bat', 1)\n",
      "('dog', 2)\n",
      "('cat', 0)\n",
      "('bat', 1)\n",
      "('cat', 0)\n",
      "('cat', 0)\n",
      "('cow', 3)\n",
      "('cow', 3)\n",
      "('cat', 0)\n"
     ]
    }
   ],
   "source": [
    "for a in animal:\n",
    "  print(a)"
   ]
  },
  {
   "cell_type": "code",
   "execution_count": 151,
   "metadata": {
    "collapsed": true,
    "jupyter": {
     "outputs_hidden": true
    },
    "tags": []
   },
   "outputs": [
    {
     "name": "stdout",
     "output_type": "stream",
     "text": [
      "Collecting torch\n",
      "  Obtaining dependency information for torch from https://files.pythonhosted.org/packages/96/4e/970cd3e13ad95aed81102272f0678d8cc48101880b8be5bae8aad22e7f3b/torch-2.2.0-cp311-none-macosx_11_0_arm64.whl.metadata\n",
      "  Downloading torch-2.2.0-cp311-none-macosx_11_0_arm64.whl.metadata (25 kB)\n",
      "Requirement already satisfied: filelock in /Users/debnsuma/anaconda3/lib/python3.11/site-packages (from torch) (3.13.1)\n",
      "Collecting typing-extensions>=4.8.0 (from torch)\n",
      "  Obtaining dependency information for typing-extensions>=4.8.0 from https://files.pythonhosted.org/packages/b7/f4/6a90020cd2d93349b442bfcb657d0dc91eee65491600b2cb1d388bc98e6b/typing_extensions-4.9.0-py3-none-any.whl.metadata\n",
      "  Downloading typing_extensions-4.9.0-py3-none-any.whl.metadata (3.0 kB)\n",
      "Requirement already satisfied: sympy in /Users/debnsuma/anaconda3/lib/python3.11/site-packages (from torch) (1.11.1)\n",
      "Requirement already satisfied: networkx in /Users/debnsuma/anaconda3/lib/python3.11/site-packages (from torch) (3.1)\n",
      "Requirement already satisfied: jinja2 in /Users/debnsuma/anaconda3/lib/python3.11/site-packages (from torch) (3.1.2)\n",
      "Requirement already satisfied: fsspec in /Users/debnsuma/anaconda3/lib/python3.11/site-packages (from torch) (2023.4.0)\n",
      "Requirement already satisfied: MarkupSafe>=2.0 in /Users/debnsuma/anaconda3/lib/python3.11/site-packages (from jinja2->torch) (2.1.1)\n",
      "Requirement already satisfied: mpmath>=0.19 in /Users/debnsuma/anaconda3/lib/python3.11/site-packages (from sympy->torch) (1.3.0)\n",
      "Downloading torch-2.2.0-cp311-none-macosx_11_0_arm64.whl (59.4 MB)\n",
      "\u001b[2K   \u001b[38;2;114;156;31m━━━━━━━━━━━━━━━━━━━━━━━━━━━━━━━━━━━━━━━━\u001b[0m \u001b[32m59.4/59.4 MB\u001b[0m \u001b[31m19.2 MB/s\u001b[0m eta \u001b[36m0:00:00\u001b[0mm eta \u001b[36m0:00:01\u001b[0m0:01\u001b[0m:01\u001b[0m\n",
      "\u001b[?25hDownloading typing_extensions-4.9.0-py3-none-any.whl (32 kB)\n",
      "Installing collected packages: typing-extensions, torch\n",
      "  Attempting uninstall: typing-extensions\n",
      "    Found existing installation: typing_extensions 4.7.1\n",
      "    Uninstalling typing_extensions-4.7.1:\n",
      "      Successfully uninstalled typing_extensions-4.7.1\n",
      "\u001b[31mERROR: pip's dependency resolver does not currently take into account all the packages that are installed. This behaviour is the source of the following dependency conflicts.\n",
      "aiobotocore 2.5.0 requires botocore<1.29.77,>=1.29.76, but you have botocore 1.31.85 which is incompatible.\u001b[0m\u001b[31m\n",
      "\u001b[0mSuccessfully installed torch-2.2.0 typing-extensions-4.9.0\n"
     ]
    }
   ],
   "source": [
    "!pip install torch"
   ]
  },
  {
   "cell_type": "code",
   "execution_count": 159,
   "metadata": {
    "id": "yDX0Bb8O02MP",
    "tags": []
   },
   "outputs": [],
   "source": [
    "import torch\n",
    "from torch.utils.data import Dataset, DataLoader\n",
    "\n",
    "class MyDataset(Dataset):\n",
    "    def __init__(self, dataSet, label):\n",
    "        self.dataSet = dataSet\n",
    "        self.label = label\n",
    "\n",
    "    def __len__(self):\n",
    "        return len(self.dataSet)\n",
    "\n",
    "    def __getitem__(self, index):\n",
    "        return self.dataSet[index], self.label[index]\n",
    "\n",
    "\n"
   ]
  },
  {
   "cell_type": "code",
   "execution_count": 168,
   "metadata": {
    "id": "SrNNrAWP18Ty",
    "tags": []
   },
   "outputs": [],
   "source": [
    "mydataset = MyDataset(dataSet, label)\n",
    "mydataloader = DataLoader(mydataset, batch_size = 10, shuffle = True)"
   ]
  },
  {
   "cell_type": "code",
   "execution_count": 169,
   "metadata": {
    "colab": {
     "base_uri": "https://localhost:8080/"
    },
    "id": "YNBFG2RF2Lkq",
    "outputId": "86434e72-a50d-4c9a-ae2f-3ed88d09a839",
    "tags": []
   },
   "outputs": [
    {
     "name": "stdout",
     "output_type": "stream",
     "text": [
      "('bat', 'cat', 'bat', 'car', 'dog', 'car', 'bat', 'car', 'dog', 'dog') tensor([1, 0, 1, 4, 2, 4, 1, 4, 2, 2])\n"
     ]
    }
   ],
   "source": [
    "for x, y in mydataloader:\n",
    "  print(x, y)\n",
    "  break"
   ]
  },
  {
   "cell_type": "code",
   "execution_count": 172,
   "metadata": {
    "id": "bYMaGg6H2Qht",
    "tags": []
   },
   "outputs": [
    {
     "name": "stdout",
     "output_type": "stream",
     "text": [
      "<class 'float'>\n"
     ]
    }
   ],
   "source": [
    "print(type(3.5))"
   ]
  },
  {
   "cell_type": "code",
   "execution_count": 173,
   "metadata": {
    "tags": []
   },
   "outputs": [
    {
     "name": "stdout",
     "output_type": "stream",
     "text": [
      "False\n"
     ]
    }
   ],
   "source": [
    "print(bool(None))"
   ]
  },
  {
   "cell_type": "code",
   "execution_count": 174,
   "metadata": {
    "tags": []
   },
   "outputs": [],
   "source": [
    "a = 10"
   ]
  },
  {
   "cell_type": "code",
   "execution_count": 175,
   "metadata": {
    "tags": []
   },
   "outputs": [],
   "source": [
    "b = 5"
   ]
  },
  {
   "cell_type": "code",
   "execution_count": 177,
   "metadata": {
    "tags": []
   },
   "outputs": [
    {
     "name": "stdout",
     "output_type": "stream",
     "text": [
      "True\n",
      "False\n",
      "True\n"
     ]
    }
   ],
   "source": [
    "x = [\"apple\", \"banana\"]\n",
    "y = [\"apple\", \"banana\"]\n",
    "z = x\n",
    "print(x is z)  # Compares if x and z refer to the same object in memory.\n",
    "print(x is y)  # Compares if x and y refer to the same object in memory.\n",
    "print(x == y)  # Compares if x and y have the same contents.\n"
   ]
  },
  {
   "cell_type": "code",
   "execution_count": 178,
   "metadata": {
    "tags": []
   },
   "outputs": [
    {
     "name": "stdout",
     "output_type": "stream",
     "text": [
      "ac\n"
     ]
    }
   ],
   "source": [
    "lst = ['a', 'b', 'c', 'd']\n",
    "print(\"\".join(lst[::2]))\n"
   ]
  },
  {
   "cell_type": "code",
   "execution_count": null,
   "metadata": {},
   "outputs": [],
   "source": []
  }
 ],
 "metadata": {
  "colab": {
   "provenance": []
  },
  "kernelspec": {
   "display_name": "Python 3 (ipykernel)",
   "language": "python",
   "name": "python3"
  },
  "language_info": {
   "codemirror_mode": {
    "name": "ipython",
    "version": 3
   },
   "file_extension": ".py",
   "mimetype": "text/x-python",
   "name": "python",
   "nbconvert_exporter": "python",
   "pygments_lexer": "ipython3",
   "version": "3.11.5"
  }
 },
 "nbformat": 4,
 "nbformat_minor": 4
}
