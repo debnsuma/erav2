{
 "cells": [
  {
   "cell_type": "code",
   "execution_count": 1,
   "metadata": {},
   "outputs": [],
   "source": [
    "#!pip install torchsummary"
   ]
  },
  {
   "cell_type": "markdown",
   "metadata": {},
   "source": [
    "# Version 3\n",
    "\n",
    "## Target\n",
    "Added GAP Layer\n",
    "\n",
    "## Results\n",
    "\n",
    "Parameters: 7,702\n",
    "\n",
    "\n",
    "Best Train Accuracy: 99.29%\n",
    "\n",
    "Best Test Accuracy : 99.24%\n",
    "\n",
    "\n",
    "## Analysis\n",
    "Accuracy got improved but didnt seem to overfit, and no. of parameters got reduced"
   ]
  },
  {
   "cell_type": "markdown",
   "metadata": {},
   "source": [
    "# Importing Modules"
   ]
  },
  {
   "cell_type": "code",
   "execution_count": 2,
   "metadata": {
    "id": "0m2JWFliFfKT"
   },
   "outputs": [],
   "source": [
    "from __future__ import print_function\n",
    "import torch\n",
    "import torch.nn as nn\n",
    "import torch.nn.functional as F\n",
    "import torch.optim as optim\n",
    "from torchvision import datasets, transforms\n",
    "import matplotlib.pyplot as plt\n"
   ]
  },
  {
   "cell_type": "markdown",
   "metadata": {},
   "source": [
    "# Data Transformations "
   ]
  },
  {
   "cell_type": "code",
   "execution_count": 3,
   "metadata": {},
   "outputs": [],
   "source": [
    "# Train Phase transformations\n",
    "train_transforms = transforms.Compose([\n",
    "                                       transforms.ToTensor(),\n",
    "                                       transforms.Normalize((0.1307,), (0.3081,)) # The mean and std have to be sequences (e.g., tuples), therefore you should add a comma after the values. \n",
    "                                       ])\n",
    "\n",
    "# Test Phase transformations\n",
    "test_transforms = transforms.Compose([\n",
    "                                      #  transforms.Resize((28, 28)),\n",
    "                                      #  transforms.ColorJitter(brightness=0.10, contrast=0.1, saturation=0.10, hue=0.1),\n",
    "                                       transforms.ToTensor(),\n",
    "                                       transforms.Normalize((0.1307,), (0.3081,))\n",
    "                                       ])"
   ]
  },
  {
   "cell_type": "markdown",
   "metadata": {},
   "source": [
    "# Dataset and Creating Tarin/Test Split"
   ]
  },
  {
   "cell_type": "code",
   "execution_count": 4,
   "metadata": {},
   "outputs": [],
   "source": [
    "train = datasets.MNIST('./data', train=True, download=True, transform=train_transforms)\n",
    "test = datasets.MNIST('./data', train=False, download=True, transform=test_transforms)"
   ]
  },
  {
   "cell_type": "markdown",
   "metadata": {},
   "source": [
    "# Dataloader Arguments & Test/Train Dataloaders"
   ]
  },
  {
   "cell_type": "code",
   "execution_count": 5,
   "metadata": {},
   "outputs": [
    {
     "name": "stdout",
     "output_type": "stream",
     "text": [
      "CUDA Available? True\n"
     ]
    }
   ],
   "source": [
    "SEED = 1\n",
    "\n",
    "# CUDA?\n",
    "cuda = torch.cuda.is_available()\n",
    "print(\"CUDA Available?\", cuda)\n",
    "\n",
    "# For reproducibility\n",
    "torch.manual_seed(SEED)\n",
    "\n",
    "if cuda:\n",
    "    torch.cuda.manual_seed(SEED)\n",
    "\n",
    "# dataloader arguments - something you'll fetch these from cmdprmt\n",
    "dataloader_args = dict(shuffle=True, batch_size=128, num_workers=4, pin_memory=True) if cuda else dict(shuffle=True, batch_size=64)\n",
    "\n",
    "# train dataloader\n",
    "train_loader = torch.utils.data.DataLoader(train, **dataloader_args)\n",
    "\n",
    "# test dataloader\n",
    "test_loader = torch.utils.data.DataLoader(test, **dataloader_args)"
   ]
  },
  {
   "cell_type": "markdown",
   "metadata": {},
   "source": [
    "# Defining the Netwrok"
   ]
  },
  {
   "cell_type": "code",
   "execution_count": 6,
   "metadata": {},
   "outputs": [],
   "source": [
    "class Net(nn.Module):\n",
    "    \n",
    "    def __init__(self):\n",
    "        super(Net, self).__init__()\n",
    "        \n",
    "        # INPUT BLOCK\n",
    "        self.conv1 = nn.Sequential(\n",
    "                                    nn.Conv2d(1, 8, 3, padding=0),         # (N, 1, 28, 28)  -> (N, 8, 26, 26) \n",
    "                                    nn.BatchNorm2d(8),\n",
    "                                    nn.ReLU()\n",
    "                                )\n",
    "        \n",
    "        # CONVOLUTION BLOCK 1\n",
    "        self.conv2 = nn.Sequential(\n",
    "                                    nn.Conv2d(8, 16, 3, padding=0),        # (N, 8, 26, 26) -> (N, 16, 24, 24)\n",
    "                                    nn.BatchNorm2d(16),\n",
    "                                    nn.ReLU()\n",
    "                                )        \n",
    "        \n",
    "        # TRANSITION BLOCK \n",
    "        self.pool1 = nn.MaxPool2d(2, 2)                                    # (N, 16, 24, 24) -> (N, 16, 12, 12)        \n",
    "        self.conv3 = nn.Sequential(\n",
    "                                    nn.Conv2d(16, 8, 1, padding=0),        # (N, 16, 12, 12) -> (N, 8, 12, 12)\n",
    "                                    nn.BatchNorm2d(8),\n",
    "                                    nn.ReLU()\n",
    "                                )\n",
    "\n",
    "        # CONVOLUTION BLOCK 2\n",
    "        self.conv4 = nn.Sequential(\n",
    "                                    nn.Conv2d(8, 16, 3, padding=0),        # (N, 8, 12, 12) -> (N, 16, 10, 10)\n",
    "                                    nn.BatchNorm2d(16),\n",
    "                                    nn.ReLU()\n",
    "                                 )\n",
    "        \n",
    "        # CONVOLUTION BLOCK 3\n",
    "        self.conv5 = nn.Sequential(\n",
    "                                    nn.Conv2d(16, 32, 3, padding=0),        # (N, 16, 10, 10)  -> (N, 32, 8, 8)\n",
    "                                    nn.BatchNorm2d(32),\n",
    "                                    nn.ReLU()\n",
    "                                )\n",
    "\n",
    "        self.conv6 = nn.Sequential(\n",
    "                                    nn.Conv2d(32, 10, 1, padding=0),        # (N, 32, 8, 8)  -> (N, 10, 8, 8)\n",
    "                                    nn.BatchNorm2d(10),\n",
    "                                    nn.ReLU()\n",
    "                                )        \n",
    "        # OUTPUT LAYER\n",
    "        self.gap = nn.Sequential(\n",
    "                                    nn.AvgPool2d(kernel_size=8)\n",
    "                                )\n",
    "\n",
    "        self.dropout = nn.Dropout(0.10)\n",
    "        \n",
    "        \n",
    "    def forward(self, x):\n",
    "        x = self.conv1(x)\n",
    "        \n",
    "        x = self.conv2(x)\n",
    "        x = self.pool1(x)        \n",
    "\n",
    "        x = self.conv3(x)\n",
    "        \n",
    "        x = self.conv4(x)\n",
    "        \n",
    "        x = self.conv5(x)\n",
    "        \n",
    "        x = self.conv6(x)\n",
    "        x = self.dropout(x)        \n",
    "        \n",
    "        x = self.gap(x)\n",
    "\n",
    "        x = x.view(x.size(0), -1)\n",
    "        x = F.log_softmax(x, dim=1)\n",
    "        \n",
    "        return x"
   ]
  },
  {
   "cell_type": "markdown",
   "metadata": {},
   "source": [
    "# Model Parameters"
   ]
  },
  {
   "cell_type": "code",
   "execution_count": 7,
   "metadata": {
    "id": "xdydjYTZFyi3"
   },
   "outputs": [
    {
     "name": "stdout",
     "output_type": "stream",
     "text": [
      "----------------------------------------------------------------\n",
      "        Layer (type)               Output Shape         Param #\n",
      "================================================================\n",
      "            Conv2d-1            [-1, 8, 26, 26]              80\n",
      "       BatchNorm2d-2            [-1, 8, 26, 26]              16\n",
      "              ReLU-3            [-1, 8, 26, 26]               0\n",
      "            Conv2d-4           [-1, 16, 24, 24]           1,168\n",
      "       BatchNorm2d-5           [-1, 16, 24, 24]              32\n",
      "              ReLU-6           [-1, 16, 24, 24]               0\n",
      "         MaxPool2d-7           [-1, 16, 12, 12]               0\n",
      "            Conv2d-8            [-1, 8, 12, 12]             136\n",
      "       BatchNorm2d-9            [-1, 8, 12, 12]              16\n",
      "             ReLU-10            [-1, 8, 12, 12]               0\n",
      "           Conv2d-11           [-1, 16, 10, 10]           1,168\n",
      "      BatchNorm2d-12           [-1, 16, 10, 10]              32\n",
      "             ReLU-13           [-1, 16, 10, 10]               0\n",
      "           Conv2d-14             [-1, 32, 8, 8]           4,640\n",
      "      BatchNorm2d-15             [-1, 32, 8, 8]              64\n",
      "             ReLU-16             [-1, 32, 8, 8]               0\n",
      "           Conv2d-17             [-1, 10, 8, 8]             330\n",
      "      BatchNorm2d-18             [-1, 10, 8, 8]              20\n",
      "             ReLU-19             [-1, 10, 8, 8]               0\n",
      "          Dropout-20             [-1, 10, 8, 8]               0\n",
      "        AvgPool2d-21             [-1, 10, 1, 1]               0\n",
      "================================================================\n",
      "Total params: 7,702\n",
      "Trainable params: 7,702\n",
      "Non-trainable params: 0\n",
      "----------------------------------------------------------------\n",
      "Input size (MB): 0.00\n",
      "Forward/backward pass size (MB): 0.48\n",
      "Params size (MB): 0.03\n",
      "Estimated Total Size (MB): 0.51\n",
      "----------------------------------------------------------------\n"
     ]
    }
   ],
   "source": [
    "from torchsummary import summary\n",
    "use_cuda = torch.cuda.is_available()\n",
    "device = torch.device(\"cuda\" if use_cuda else \"cpu\")\n",
    "model = Net().to(device)\n",
    "summary(model, input_size=(1, 28, 28))"
   ]
  },
  {
   "cell_type": "markdown",
   "metadata": {},
   "source": [
    "# Training and Testing"
   ]
  },
  {
   "cell_type": "code",
   "execution_count": 8,
   "metadata": {},
   "outputs": [],
   "source": [
    "from tqdm import tqdm\n",
    "\n",
    "train_losses = []\n",
    "test_losses = []\n",
    "train_acc = []\n",
    "test_acc = []\n",
    "\n",
    "def train(model, device, train_loader, optimizer, epoch):\n",
    "    model.train()\n",
    "    pbar = tqdm(train_loader)\n",
    "    correct = 0\n",
    "    processed = 0\n",
    "    for batch_idx, (data, target) in enumerate(pbar):\n",
    "        # get samples\n",
    "        data, target = data.to(device), target.to(device)\n",
    "\n",
    "        # Init\n",
    "        optimizer.zero_grad()\n",
    "        # In PyTorch, we need to set the gradients to zero before starting to do backpropragation because PyTorch accumulates the gradients on subsequent backward passes. \n",
    "        # Because of this, when you start your training loop, ideally you should zero out the gradients so that you do the parameter update correctly.\n",
    "\n",
    "        # Predict\n",
    "        y_pred = model(data)\n",
    "\n",
    "        # Calculate loss\n",
    "        loss = F.nll_loss(y_pred, target)\n",
    "        train_losses.append(loss)\n",
    "\n",
    "        # Backpropagation\n",
    "        loss.backward()\n",
    "        optimizer.step()\n",
    "\n",
    "        # Update pbar-tqdm\n",
    "\n",
    "        pred = y_pred.argmax(dim=1, keepdim=True)  # get the index of the max log-probability\n",
    "        correct += pred.eq(target.view_as(pred)).sum().item()\n",
    "        processed += len(data)\n",
    "\n",
    "        pbar.set_description(desc= f'Loss={loss.item()} Batch_id={batch_idx} Accuracy={100*correct/processed:0.2f}')\n",
    "        train_acc.append(100*correct/processed)\n",
    "\n",
    "def test(model, device, test_loader):\n",
    "    model.eval()\n",
    "    test_loss = 0\n",
    "    correct = 0\n",
    "    with torch.no_grad():\n",
    "        for data, target in test_loader:\n",
    "            data, target = data.to(device), target.to(device)\n",
    "            output = model(data)\n",
    "            test_loss += F.nll_loss(output, target, reduction='sum').item()  # sum up batch loss\n",
    "            pred = output.argmax(dim=1, keepdim=True)  # get the index of the max log-probability\n",
    "            correct += pred.eq(target.view_as(pred)).sum().item()\n",
    "\n",
    "    test_loss /= len(test_loader.dataset)\n",
    "    test_losses.append(test_loss)\n",
    "\n",
    "    print('\\nTest set: Average loss: {:.4f}, Accuracy: {}/{} ({:.2f}%)\\n'.format(\n",
    "        test_loss, correct, len(test_loader.dataset),\n",
    "        100. * correct / len(test_loader.dataset)))\n",
    "    \n",
    "    test_acc.append(100. * correct / len(test_loader.dataset))"
   ]
  },
  {
   "cell_type": "markdown",
   "metadata": {},
   "source": [
    "# Start the Training"
   ]
  },
  {
   "cell_type": "code",
   "execution_count": 9,
   "metadata": {
    "scrolled": false
   },
   "outputs": [
    {
     "name": "stderr",
     "output_type": "stream",
     "text": [
      "  0%|          | 0/469 [00:00<?, ?it/s]"
     ]
    },
    {
     "name": "stdout",
     "output_type": "stream",
     "text": [
      "EPOCH: 0\n"
     ]
    },
    {
     "name": "stderr",
     "output_type": "stream",
     "text": [
      "Loss=0.14755728840827942 Batch_id=468 Accuracy=93.85: 100%|██████████| 469/469 [00:10<00:00, 45.90it/s] \n",
      "  0%|          | 0/469 [00:00<?, ?it/s]"
     ]
    },
    {
     "name": "stdout",
     "output_type": "stream",
     "text": [
      "\n",
      "Test set: Average loss: 0.1251, Accuracy: 9611/10000 (96.11%)\n",
      "\n",
      "EPOCH: 1\n"
     ]
    },
    {
     "name": "stderr",
     "output_type": "stream",
     "text": [
      "Loss=0.02682613581418991 Batch_id=468 Accuracy=98.08: 100%|██████████| 469/469 [00:10<00:00, 46.69it/s] \n",
      "  0%|          | 0/469 [00:00<?, ?it/s]"
     ]
    },
    {
     "name": "stdout",
     "output_type": "stream",
     "text": [
      "\n",
      "Test set: Average loss: 0.1166, Accuracy: 9634/10000 (96.34%)\n",
      "\n",
      "EPOCH: 2\n"
     ]
    },
    {
     "name": "stderr",
     "output_type": "stream",
     "text": [
      "Loss=0.12216305732727051 Batch_id=468 Accuracy=98.50: 100%|██████████| 469/469 [00:10<00:00, 46.27it/s] \n",
      "  0%|          | 0/469 [00:00<?, ?it/s]"
     ]
    },
    {
     "name": "stdout",
     "output_type": "stream",
     "text": [
      "\n",
      "Test set: Average loss: 0.0504, Accuracy: 9846/10000 (98.46%)\n",
      "\n",
      "EPOCH: 3\n"
     ]
    },
    {
     "name": "stderr",
     "output_type": "stream",
     "text": [
      "Loss=0.03810675069689751 Batch_id=468 Accuracy=98.72: 100%|██████████| 469/469 [00:10<00:00, 46.26it/s] \n",
      "  0%|          | 0/469 [00:00<?, ?it/s]"
     ]
    },
    {
     "name": "stdout",
     "output_type": "stream",
     "text": [
      "\n",
      "Test set: Average loss: 0.0445, Accuracy: 9846/10000 (98.46%)\n",
      "\n",
      "EPOCH: 4\n"
     ]
    },
    {
     "name": "stderr",
     "output_type": "stream",
     "text": [
      "Loss=0.07473131269216537 Batch_id=468 Accuracy=98.75: 100%|██████████| 469/469 [00:09<00:00, 47.13it/s]  \n",
      "  0%|          | 0/469 [00:00<?, ?it/s]"
     ]
    },
    {
     "name": "stdout",
     "output_type": "stream",
     "text": [
      "\n",
      "Test set: Average loss: 0.0490, Accuracy: 9854/10000 (98.54%)\n",
      "\n",
      "EPOCH: 5\n"
     ]
    },
    {
     "name": "stderr",
     "output_type": "stream",
     "text": [
      "Loss=0.04191547632217407 Batch_id=468 Accuracy=98.83: 100%|██████████| 469/469 [00:09<00:00, 46.98it/s] \n",
      "  0%|          | 0/469 [00:00<?, ?it/s]"
     ]
    },
    {
     "name": "stdout",
     "output_type": "stream",
     "text": [
      "\n",
      "Test set: Average loss: 0.0348, Accuracy: 9889/10000 (98.89%)\n",
      "\n",
      "EPOCH: 6\n"
     ]
    },
    {
     "name": "stderr",
     "output_type": "stream",
     "text": [
      "Loss=0.009749486111104488 Batch_id=468 Accuracy=98.99: 100%|██████████| 469/469 [00:10<00:00, 45.83it/s] \n",
      "  0%|          | 0/469 [00:00<?, ?it/s]"
     ]
    },
    {
     "name": "stdout",
     "output_type": "stream",
     "text": [
      "\n",
      "Test set: Average loss: 0.0414, Accuracy: 9874/10000 (98.74%)\n",
      "\n",
      "EPOCH: 7\n"
     ]
    },
    {
     "name": "stderr",
     "output_type": "stream",
     "text": [
      "Loss=0.018188323825597763 Batch_id=468 Accuracy=99.02: 100%|██████████| 469/469 [00:10<00:00, 46.29it/s] \n",
      "  0%|          | 0/469 [00:00<?, ?it/s]"
     ]
    },
    {
     "name": "stdout",
     "output_type": "stream",
     "text": [
      "\n",
      "Test set: Average loss: 0.0339, Accuracy: 9899/10000 (98.99%)\n",
      "\n",
      "EPOCH: 8\n"
     ]
    },
    {
     "name": "stderr",
     "output_type": "stream",
     "text": [
      "Loss=0.017992950975894928 Batch_id=468 Accuracy=99.06: 100%|██████████| 469/469 [00:10<00:00, 46.81it/s] \n",
      "  0%|          | 0/469 [00:00<?, ?it/s]"
     ]
    },
    {
     "name": "stdout",
     "output_type": "stream",
     "text": [
      "\n",
      "Test set: Average loss: 0.0363, Accuracy: 9887/10000 (98.87%)\n",
      "\n",
      "EPOCH: 9\n"
     ]
    },
    {
     "name": "stderr",
     "output_type": "stream",
     "text": [
      "Loss=0.04668465629220009 Batch_id=468 Accuracy=99.09: 100%|██████████| 469/469 [00:10<00:00, 46.66it/s]  \n",
      "  0%|          | 0/469 [00:00<?, ?it/s]"
     ]
    },
    {
     "name": "stdout",
     "output_type": "stream",
     "text": [
      "\n",
      "Test set: Average loss: 0.0371, Accuracy: 9887/10000 (98.87%)\n",
      "\n",
      "EPOCH: 10\n"
     ]
    },
    {
     "name": "stderr",
     "output_type": "stream",
     "text": [
      "Loss=0.02738596498966217 Batch_id=468 Accuracy=99.14: 100%|██████████| 469/469 [00:10<00:00, 45.80it/s]  \n",
      "  0%|          | 0/469 [00:00<?, ?it/s]"
     ]
    },
    {
     "name": "stdout",
     "output_type": "stream",
     "text": [
      "\n",
      "Test set: Average loss: 0.0293, Accuracy: 9907/10000 (99.07%)\n",
      "\n",
      "EPOCH: 11\n"
     ]
    },
    {
     "name": "stderr",
     "output_type": "stream",
     "text": [
      "Loss=0.029906151816248894 Batch_id=468 Accuracy=99.16: 100%|██████████| 469/469 [00:10<00:00, 46.37it/s] \n",
      "  0%|          | 0/469 [00:00<?, ?it/s]"
     ]
    },
    {
     "name": "stdout",
     "output_type": "stream",
     "text": [
      "\n",
      "Test set: Average loss: 0.0324, Accuracy: 9894/10000 (98.94%)\n",
      "\n",
      "EPOCH: 12\n"
     ]
    },
    {
     "name": "stderr",
     "output_type": "stream",
     "text": [
      "Loss=0.16251184046268463 Batch_id=468 Accuracy=99.22: 100%|██████████| 469/469 [00:11<00:00, 42.62it/s]  \n",
      "  0%|          | 0/469 [00:00<?, ?it/s]"
     ]
    },
    {
     "name": "stdout",
     "output_type": "stream",
     "text": [
      "\n",
      "Test set: Average loss: 0.0288, Accuracy: 9904/10000 (99.04%)\n",
      "\n",
      "EPOCH: 13\n"
     ]
    },
    {
     "name": "stderr",
     "output_type": "stream",
     "text": [
      "Loss=0.00497910613194108 Batch_id=468 Accuracy=99.25: 100%|██████████| 469/469 [00:10<00:00, 45.53it/s]  \n",
      "  0%|          | 0/469 [00:00<?, ?it/s]"
     ]
    },
    {
     "name": "stdout",
     "output_type": "stream",
     "text": [
      "\n",
      "Test set: Average loss: 0.0288, Accuracy: 9909/10000 (99.09%)\n",
      "\n",
      "EPOCH: 14\n"
     ]
    },
    {
     "name": "stderr",
     "output_type": "stream",
     "text": [
      "Loss=0.05222734808921814 Batch_id=468 Accuracy=99.29: 100%|██████████| 469/469 [00:10<00:00, 45.61it/s]  \n"
     ]
    },
    {
     "name": "stdout",
     "output_type": "stream",
     "text": [
      "\n",
      "Test set: Average loss: 0.0255, Accuracy: 9924/10000 (99.24%)\n",
      "\n"
     ]
    }
   ],
   "source": [
    "model =  Net().to(device)\n",
    "optimizer = optim.SGD(model.parameters(), lr=0.2, momentum=0.9)\n",
    "EPOCHS = 15\n",
    "\n",
    "for epoch in range(EPOCHS):\n",
    "    print(\"EPOCH:\", epoch)\n",
    "    train(model, device, train_loader, optimizer, epoch)\n",
    "    test(model, device, test_loader)"
   ]
  },
  {
   "cell_type": "markdown",
   "metadata": {},
   "source": [
    "# Plotting the graphs"
   ]
  },
  {
   "cell_type": "code",
   "execution_count": 10,
   "metadata": {},
   "outputs": [
    {
     "data": {
      "text/plain": [
       "Text(0.5, 1.0, 'Test Accuracy')"
      ]
     },
     "execution_count": 10,
     "metadata": {},
     "output_type": "execute_result"
    },
    {
     "data": {
      "image/png": "[encoded data removed]",
      "text/plain": [
       "<Figure size 1080x720 with 4 Axes>"
      ]
     },
     "metadata": {
      "needs_background": "light"
     },
     "output_type": "display_data"
    }
   ],
   "source": [
    "fig, axs = plt.subplots(2,2,figsize=(15,10))\n",
    "axs[0, 0].plot(train_losses)\n",
    "axs[0, 0].set_title(\"Training Loss\")\n",
    "axs[1, 0].plot(train_acc)\n",
    "axs[1, 0].set_title(\"Training Accuracy\")\n",
    "axs[0, 1].plot(test_losses)\n",
    "axs[0, 1].set_title(\"Test Loss\")\n",
    "axs[1, 1].plot(test_acc)\n",
    "axs[1, 1].set_title(\"Test Accuracy\")"
   ]
  },
  {
   "cell_type": "code",
   "execution_count": null,
   "metadata": {},
   "outputs": [],
   "source": []
  }
 ],
 "metadata": {
  "accelerator": "GPU",
  "colab": {
   "name": "EVA4 - Session 2.ipynb",
   "provenance": []
  },
  "kernelspec": {
   "display_name": "conda_pytorch_latest_p36",
   "language": "python",
   "name": "conda_pytorch_latest_p36"
  },
  "language_info": {
   "codemirror_mode": {
    "name": "ipython",
    "version": 3
   },
   "file_extension": ".py",
   "mimetype": "text/x-python",
   "name": "python",
   "nbconvert_exporter": "python",
   "pygments_lexer": "ipython3",
   "version": "3.6.10"
  }
 },
 "nbformat": 4,
 "nbformat_minor": 1
}
