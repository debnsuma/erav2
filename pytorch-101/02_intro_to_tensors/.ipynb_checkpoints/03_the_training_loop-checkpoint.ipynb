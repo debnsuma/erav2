{
 "cells": [
  {
   "cell_type": "markdown",
   "id": "de7a2cbb-0892-4412-aa50-a8d7bb0408c4",
   "metadata": {},
   "source": [
    "# Imports"
   ]
  },
  {
   "cell_type": "code",
   "execution_count": 1,
   "id": "26377266-8f2a-4168-93e3-a36b5f2d9a6e",
   "metadata": {},
   "outputs": [
    {
     "name": "stdout",
     "output_type": "stream",
     "text": [
      "Requirement already satisfied: torchviz in /opt/conda/lib/python3.10/site-packages (0.0.2)\n",
      "Requirement already satisfied: torch in /opt/conda/lib/python3.10/site-packages (from torchviz) (2.0.0.post200)\n",
      "Requirement already satisfied: graphviz in /opt/conda/lib/python3.10/site-packages (from torchviz) (0.20.1)\n",
      "Requirement already satisfied: filelock in /opt/conda/lib/python3.10/site-packages (from torch->torchviz) (3.13.1)\n",
      "Requirement already satisfied: typing-extensions in /opt/conda/lib/python3.10/site-packages (from torch->torchviz) (4.5.0)\n",
      "Requirement already satisfied: sympy in /opt/conda/lib/python3.10/site-packages (from torch->torchviz) (1.12)\n",
      "Requirement already satisfied: networkx in /opt/conda/lib/python3.10/site-packages (from torch->torchviz) (3.2.1)\n",
      "Requirement already satisfied: jinja2 in /opt/conda/lib/python3.10/site-packages (from torch->torchviz) (3.1.3)\n",
      "Requirement already satisfied: MarkupSafe>=2.0 in /opt/conda/lib/python3.10/site-packages (from jinja2->torch->torchviz) (2.1.4)\n",
      "Requirement already satisfied: mpmath>=0.19 in /opt/conda/lib/python3.10/site-packages (from sympy->torch->torchviz) (1.3.0)\n",
      "Requirement already satisfied: seaborn in /opt/conda/lib/python3.10/site-packages (0.13.2)\n",
      "Requirement already satisfied: numpy!=1.24.0,>=1.20 in /opt/conda/lib/python3.10/site-packages (from seaborn) (1.26.3)\n",
      "Requirement already satisfied: pandas>=1.2 in /opt/conda/lib/python3.10/site-packages (from seaborn) (2.1.4)\n",
      "Requirement already satisfied: matplotlib!=3.6.1,>=3.4 in /opt/conda/lib/python3.10/site-packages (from seaborn) (3.8.2)\n",
      "Requirement already satisfied: contourpy>=1.0.1 in /opt/conda/lib/python3.10/site-packages (from matplotlib!=3.6.1,>=3.4->seaborn) (1.2.0)\n",
      "Requirement already satisfied: cycler>=0.10 in /opt/conda/lib/python3.10/site-packages (from matplotlib!=3.6.1,>=3.4->seaborn) (0.12.1)\n",
      "Requirement already satisfied: fonttools>=4.22.0 in /opt/conda/lib/python3.10/site-packages (from matplotlib!=3.6.1,>=3.4->seaborn) (4.47.2)\n",
      "Requirement already satisfied: kiwisolver>=1.3.1 in /opt/conda/lib/python3.10/site-packages (from matplotlib!=3.6.1,>=3.4->seaborn) (1.4.5)\n",
      "Requirement already satisfied: packaging>=20.0 in /opt/conda/lib/python3.10/site-packages (from matplotlib!=3.6.1,>=3.4->seaborn) (23.2)\n",
      "Requirement already satisfied: pillow>=8 in /opt/conda/lib/python3.10/site-packages (from matplotlib!=3.6.1,>=3.4->seaborn) (9.5.0)\n",
      "Requirement already satisfied: pyparsing>=2.3.1 in /opt/conda/lib/python3.10/site-packages (from matplotlib!=3.6.1,>=3.4->seaborn) (3.1.1)\n",
      "Requirement already satisfied: python-dateutil>=2.7 in /opt/conda/lib/python3.10/site-packages (from matplotlib!=3.6.1,>=3.4->seaborn) (2.8.2)\n",
      "Requirement already satisfied: pytz>=2020.1 in /opt/conda/lib/python3.10/site-packages (from pandas>=1.2->seaborn) (2023.3)\n",
      "Requirement already satisfied: tzdata>=2022.1 in /opt/conda/lib/python3.10/site-packages (from pandas>=1.2->seaborn) (2023.4)\n",
      "Requirement already satisfied: six>=1.5 in /opt/conda/lib/python3.10/site-packages (from python-dateutil>=2.7->matplotlib!=3.6.1,>=3.4->seaborn) (1.16.0)\n"
     ]
    }
   ],
   "source": [
    "# !pip install torchviz\n",
    "# !pip install seaborn"
   ]
  },
  {
   "cell_type": "code",
   "execution_count": 27,
   "id": "df151838-6416-4c82-b48f-0f654ded63b5",
   "metadata": {},
   "outputs": [],
   "source": [
    "import numpy as np\n",
    "from sklearn.linear_model import LinearRegression\n",
    "\n",
    "import torch\n",
    "import torch.optim as optim\n",
    "import torch.nn as nn\n",
    "\n",
    "from torch.utils.data import Dataset, TensorDataset, DataLoader\n",
    "from torch.utils.data.dataset import random_split\n",
    "from torch.utils.tensorboard import SummaryWriter\n",
    "\n",
    "import matplotlib.pyplot as plt\n",
    "%matplotlib inline\n",
    "plt.style.use('fivethirtyeight')"
   ]
  },
  {
   "cell_type": "code",
   "execution_count": 28,
   "id": "9f9f6e7d-811f-4299-8ec9-2e13a57e20f9",
   "metadata": {},
   "outputs": [
    {
     "name": "stdout",
     "output_type": "stream",
     "text": [
      "01_intro_to_tensors.py\t\t     data_generation\n",
      "02_simple_regeression_problem.ipynb  data_preparation\n",
      "03_the_training_loop.ipynb\t     model_configuration\n",
      "TensorIntro_Section_Overview.pdf     model_training\n",
      "Tensors_Intro.pdf\n"
     ]
    }
   ],
   "source": [
    "!ls"
   ]
  },
  {
   "cell_type": "code",
   "execution_count": 29,
   "id": "5882442d-1c24-4e49-bb25-f41f1aafc445",
   "metadata": {},
   "outputs": [],
   "source": [
    "# Runs data generation - so we do not need to copy code here\n",
    "%run -i data_generation/simple_linear_regression.py\n",
    "\n",
    "# Runs the first two parts of the sequence: data preparation and model configuration\n",
    "%run -i data_preparation/v0.py\n",
    "%run -i model_configuration/v0.py"
   ]
  },
  {
   "cell_type": "code",
   "execution_count": 37,
   "id": "954dd541-4de5-4b30-86b8-c869f8d911c7",
   "metadata": {},
   "outputs": [],
   "source": [
    "# %load data_generation/simple_linear_regression.py\n",
    "import numpy as np\n",
    "\n",
    "true_b = 2\n",
    "true_w = 4\n",
    "N = 100\n",
    "\n",
    "# Data Generation\n",
    "np.random.seed(42)\n",
    "x = np.random.rand(N, 1)\n",
    "y = true_b + true_w * x + (.1 * np.random.randn(N, 1))\n",
    "\n",
    "# Shuffles the indices\n",
    "idx = np.arange(N)\n",
    "np.random.shuffle(idx)\n",
    "\n",
    "# Uses first 80 random indices for train\n",
    "train_idx = idx[:int(N*.8)]\n",
    "# Uses the remaining indices for validation\n",
    "val_idx = idx[int(N*.8):]\n",
    "\n",
    "# Generates train and validation sets\n",
    "x_train, y_train = x[train_idx], y[train_idx]\n",
    "x_val, y_val = x[val_idx], y[val_idx]\n"
   ]
  },
  {
   "cell_type": "code",
   "execution_count": 38,
   "id": "06c7f4d8-0ec5-4585-8250-a5bd5a7e68ab",
   "metadata": {},
   "outputs": [],
   "source": [
    "# %load data_preparation/v0.py\n",
    "\n",
    "device = 'cuda' if torch.cuda.is_available() else 'cpu'\n",
    "\n",
    "# Our data was in Numpy arrays, but we need to transform them\n",
    "# into PyTorch's Tensors and then we send them to the \n",
    "# chosen device\n",
    "x_train_tensor = torch.as_tensor(x_train).float().to(device)\n",
    "y_train_tensor = torch.as_tensor(y_train).float().to(device)\n"
   ]
  },
  {
   "cell_type": "code",
   "execution_count": 39,
   "id": "342ea158-c765-40f2-a61e-689c6669f3ec",
   "metadata": {},
   "outputs": [],
   "source": [
    "# %load model_configuration/v0.py\n",
    "\n",
    "# This is redundant now, but it won't be when we introduce\n",
    "# Datasets...\n",
    "device = 'cuda' if torch.cuda.is_available() else 'cpu'\n",
    "\n",
    "# Sets learning rate - this is \"eta\" ~ the \"n\"-like Greek letter\n",
    "lr = 0.1\n",
    "\n",
    "torch.manual_seed(42)\n",
    "# Now we can create a model and send it at once to the device\n",
    "model = nn.Sequential(nn.Linear(1, 1)).to(device)\n",
    "\n",
    "# Defines a SGD optimizer to update the parameters \n",
    "# (now retrieved directly from the model)\n",
    "optimizer = optim.SGD(model.parameters(), lr=lr)\n",
    "\n",
    "# Defines a MSE loss function\n",
    "loss_fn = nn.MSELoss(reduction='mean')\n"
   ]
  },
  {
   "cell_type": "code",
   "execution_count": 40,
   "id": "a9f2dfbc-4b7c-40c5-b6b1-641a2fa5084e",
   "metadata": {},
   "outputs": [],
   "source": [
    "# %load model_training/v0.py\n",
    "\n",
    "# Defines number of epochs\n",
    "n_epochs = 1000\n",
    "\n",
    "for epoch in range(n_epochs):\n",
    "    # Sets model to TRAIN mode\n",
    "    model.train()\n",
    "\n",
    "    # Step 1 - Computes model's predicted output - forward pass\n",
    "    y_pred = model(x_train_tensor)\n",
    "    \n",
    "    # Step 2 - Computes the loss\n",
    "    loss = loss_fn(y_pred, y_train_tensor)\n",
    "\n",
    "    # Step 3 - Computes gradients for both \"b\" and \"w\" parameters\n",
    "    loss.backward()\n",
    "    \n",
    "    # Step 4 - Updates parameters using gradients and \n",
    "    # the learning rate\n",
    "    optimizer.step()\n",
    "    optimizer.zero_grad()\n"
   ]
  },
  {
   "cell_type": "code",
   "execution_count": 41,
   "id": "733ebb95-5fba-4909-adb0-61cb58a6f7d2",
   "metadata": {},
   "outputs": [
    {
     "data": {
      "text/plain": [
       "Sequential(\n",
       "  (0): Linear(in_features=1, out_features=1, bias=True)\n",
       ")"
      ]
     },
     "execution_count": 41,
     "metadata": {},
     "output_type": "execute_result"
    }
   ],
   "source": [
    "model"
   ]
  },
  {
   "cell_type": "code",
   "execution_count": 42,
   "id": "03244bdf-ed4d-4d98-a94f-2d8bf75ab9b5",
   "metadata": {},
   "outputs": [
    {
     "data": {
      "text/plain": [
       "OrderedDict([('0.weight', tensor([[3.9690]], device='cuda:0')),\n",
       "             ('0.bias', tensor([2.0235], device='cuda:0'))])"
      ]
     },
     "execution_count": 42,
     "metadata": {},
     "output_type": "execute_result"
    }
   ],
   "source": [
    "model.state_dict()"
   ]
  },
  {
   "cell_type": "markdown",
   "id": "7357bf06-dafb-42d5-9095-e9ce9915ea9a",
   "metadata": {},
   "source": [
    "## Training Step"
   ]
  },
  {
   "cell_type": "code",
   "execution_count": 43,
   "id": "73e5ae28-f6a4-43ab-8e04-b6c48b29d8af",
   "metadata": {},
   "outputs": [],
   "source": [
    "def make_train_step_fn(model, loss_fn, optimizer):\n",
    "    # Builds function that performs a step in the train loop\n",
    "    def perform_train_step_fn(x, y):\n",
    "        # Sets model to TRAIN mode\n",
    "        model.train()\n",
    "\n",
    "        # Step 1 - Computes model's predicted output - forward pass\n",
    "        y_pred = model(x)\n",
    "\n",
    "        # Step 2 - Computes the loss\n",
    "        loss = loss_fn(y_pred, y)\n",
    "\n",
    "        # Step 3 - Computes gradients for both \"b\" and \"w\" parameters\n",
    "        loss.backward()\n",
    "\n",
    "        # Step 4 - Updates parameters using gradients and\n",
    "        # the learning rate\n",
    "        optimizer.step()\n",
    "        optimizer.zero_grad()\n",
    "\n",
    "        # Returns the loss\n",
    "        return loss.item()\n",
    "\n",
    "    # Returns the function that will be called inside the train loop\n",
    "    return perform_train_step_fn"
   ]
  },
  {
   "cell_type": "code",
   "execution_count": 44,
   "id": "f8d758e9-d119-45ff-a628-526462b619bf",
   "metadata": {},
   "outputs": [],
   "source": [
    "# %load data_preparation/v0.py\n",
    "\n",
    "device = 'cuda' if torch.cuda.is_available() else 'cpu'\n",
    "\n",
    "# Our data was in Numpy arrays, but we need to transform them\n",
    "# into PyTorch's Tensors and then we send them to the \n",
    "# chosen device\n",
    "x_train_tensor = torch.as_tensor(x_train).float().to(device)\n",
    "y_train_tensor = torch.as_tensor(y_train).float().to(device)\n"
   ]
  },
  {
   "cell_type": "code",
   "execution_count": 45,
   "id": "eb45c9dd-1096-49c7-b89c-7a5d2c4df328",
   "metadata": {},
   "outputs": [
    {
     "name": "stdout",
     "output_type": "stream",
     "text": [
      "Overwriting model_configuration/v1.py\n"
     ]
    }
   ],
   "source": [
    "%%writefile model_configuration/v1.py\n",
    "\n",
    "device = 'cuda' if torch.cuda.is_available() else 'cpu'\n",
    "\n",
    "# Sets learning rate - this is \"eta\" ~ the \"n\"-like Greek letter\n",
    "lr = 0.1\n",
    "\n",
    "torch.manual_seed(42)\n",
    "# Now we can create a model and send it at once to the device\n",
    "model = nn.Sequential(nn.Linear(1, 1)).to(device)\n",
    "\n",
    "# Defines a SGD optimizer to update the parameters \n",
    "optimizer = optim.SGD(model.parameters(), lr=lr)\n",
    "\n",
    "# Defines a MSE loss function\n",
    "loss_fn = nn.MSELoss(reduction='mean')\n",
    "\n",
    "# Creates the train_step function for our model, loss function and optimizer\n",
    "train_step_fn = make_train_step_fn(model, loss_fn, optimizer)\n"
   ]
  },
  {
   "cell_type": "code",
   "execution_count": 46,
   "id": "de50f072-9bc1-4c8b-b1f3-cd1c2c6e908d",
   "metadata": {},
   "outputs": [],
   "source": [
    "%run -i model_configuration/v1.py"
   ]
  },
  {
   "cell_type": "code",
   "execution_count": 47,
   "id": "d6b3abc5-d4a9-4d84-905f-8b4b789593e9",
   "metadata": {},
   "outputs": [
    {
     "data": {
      "text/plain": [
       "<function __main__.make_train_step_fn.<locals>.perform_train_step_fn(x, y)>"
      ]
     },
     "execution_count": 47,
     "metadata": {},
     "output_type": "execute_result"
    }
   ],
   "source": [
    "train_step_fn"
   ]
  },
  {
   "cell_type": "code",
   "execution_count": 48,
   "id": "55c460a6-0cea-4e35-be06-74bf4d884f46",
   "metadata": {},
   "outputs": [
    {
     "name": "stdout",
     "output_type": "stream",
     "text": [
      "Overwriting model_training/v1.py\n"
     ]
    }
   ],
   "source": [
    "%%writefile model_training/v1.py\n",
    "\n",
    "# Defines number of epochs\n",
    "n_epochs = 1000\n",
    "\n",
    "losses = []\n",
    "\n",
    "for epoch in range(n_epochs):\n",
    "    \n",
    "    # Performs one train step and returns the corresponding loss\n",
    "    loss = train_step_fn(x_train_tensor, y_train_tensor)\n",
    "    losses.append(loss)\n",
    "    "
   ]
  },
  {
   "cell_type": "code",
   "execution_count": 49,
   "id": "02ba43e9-053a-4740-98f0-98b0fef870d0",
   "metadata": {},
   "outputs": [],
   "source": [
    "%run -i model_training/v1.py"
   ]
  },
  {
   "cell_type": "code",
   "execution_count": 50,
   "id": "383b590c-70dd-4e34-9810-572d177f241b",
   "metadata": {},
   "outputs": [
    {
     "name": "stdout",
     "output_type": "stream",
     "text": [
      "OrderedDict([('0.weight', tensor([[3.9690]], device='cuda:0')), ('0.bias', tensor([2.0235], device='cuda:0'))])\n"
     ]
    }
   ],
   "source": [
    "# Checks model's parameters\n",
    "print(model.state_dict())"
   ]
  },
  {
   "cell_type": "markdown",
   "id": "5cf591d4-ecac-4c46-a626-36dc3e7366d3",
   "metadata": {},
   "source": [
    "## Dataset"
   ]
  },
  {
   "cell_type": "code",
   "execution_count": 54,
   "id": "c9f239c7-63a7-4c2c-af27-6f537afb1d77",
   "metadata": {},
   "outputs": [
    {
     "data": {
      "text/plain": [
       "numpy.ndarray"
      ]
     },
     "execution_count": 54,
     "metadata": {},
     "output_type": "execute_result"
    }
   ],
   "source": [
    "type(x_train)"
   ]
  },
  {
   "cell_type": "markdown",
   "id": "93f8a747-69c1-4650-9a87-8e8c6bf4bece",
   "metadata": {},
   "source": [
    "## Custom Class"
   ]
  },
  {
   "cell_type": "code",
   "execution_count": 55,
   "id": "def59bd1-b011-4031-a71a-69e87e316b6d",
   "metadata": {},
   "outputs": [
    {
     "name": "stdout",
     "output_type": "stream",
     "text": [
      "(tensor([0.7713]), tensor([5.0171]))\n"
     ]
    }
   ],
   "source": [
    "class CustomDataset(Dataset):\n",
    "    def __init__(self, x_tensor, y_tensor):\n",
    "        self.x = x_tensor\n",
    "        self.y = y_tensor\n",
    "\n",
    "    def __getitem__(self, index):\n",
    "        return self.x[index], self.y[index]\n",
    "\n",
    "    def __len__(self):\n",
    "        return len(self.x)\n",
    "\n",
    "x_train_tensor = torch.as_tensor(x_train).float()\n",
    "y_train_tensor = torch.as_tensor(y_train).float()\n",
    "\n",
    "train_data = CustomDataset(x_train_tensor, y_train_tensor)\n",
    "print(train_data[0])"
   ]
  },
  {
   "cell_type": "code",
   "execution_count": 61,
   "id": "625fd1e9-3425-4188-bd6d-7d5c55eae580",
   "metadata": {},
   "outputs": [
    {
     "data": {
      "text/plain": [
       "(tensor([0.7713]), tensor([5.0171]))"
      ]
     },
     "execution_count": 61,
     "metadata": {},
     "output_type": "execute_result"
    }
   ],
   "source": [
    "next(iter(train_data))"
   ]
  },
  {
   "cell_type": "markdown",
   "id": "0723b9e2-8af7-4af2-ae09-08948dd7bb3a",
   "metadata": {},
   "source": [
    "## TensorDataset"
   ]
  },
  {
   "cell_type": "code",
   "execution_count": 73,
   "id": "b328ecf8-eb85-49d3-945a-515040da2165",
   "metadata": {},
   "outputs": [
    {
     "name": "stdout",
     "output_type": "stream",
     "text": [
      "(tensor([0.7713]), tensor([5.0171]))\n"
     ]
    }
   ],
   "source": [
    "from torch.utils.data import TensorDataset\n",
    "\n",
    "x_train_tensor = torch.as_tensor(x_train).float()\n",
    "y_train_tensor = torch.as_tensor(y_train).float()\n",
    "\n",
    "train_data = TensorDataset(x_train_tensor, y_train_tensor)\n",
    "print(train_data[0])"
   ]
  },
  {
   "cell_type": "markdown",
   "id": "9cb821f7-3640-4f44-b40d-606f0f7b619d",
   "metadata": {},
   "source": [
    "## DataLoader"
   ]
  },
  {
   "cell_type": "code",
   "execution_count": 66,
   "id": "f13fe4b2-8b42-4d74-a6fe-a4cb303baa63",
   "metadata": {},
   "outputs": [],
   "source": [
    "from torch.utils.data import DataLoader, Dataset\n",
    "\n",
    "train_loader = DataLoader(dataset = train_data,\n",
    "                          batch_size = 16,\n",
    "                          shuffle = True)"
   ]
  },
  {
   "cell_type": "code",
   "execution_count": 67,
   "id": "0f9fab3e-0a74-4428-a50d-8f7d9f328b2d",
   "metadata": {},
   "outputs": [
    {
     "data": {
      "text/plain": [
       "<torch.utils.data.dataloader.DataLoader at 0x7fdea505c5b0>"
      ]
     },
     "execution_count": 67,
     "metadata": {},
     "output_type": "execute_result"
    }
   ],
   "source": [
    "train_loader"
   ]
  },
  {
   "cell_type": "code",
   "execution_count": 68,
   "id": "32b74397-34fa-48e5-aaf1-448332f226fd",
   "metadata": {
    "collapsed": true,
    "jupyter": {
     "outputs_hidden": true
    }
   },
   "outputs": [
    {
     "data": {
      "text/plain": [
       "[tensor([[0.2809],\n",
       "         [0.3253],\n",
       "         [0.1560],\n",
       "         [0.5924],\n",
       "         [0.0651],\n",
       "         [0.8872],\n",
       "         [0.4938],\n",
       "         [0.0055],\n",
       "         [0.1409],\n",
       "         [0.0885],\n",
       "         [0.1849],\n",
       "         [0.7290],\n",
       "         [0.8662],\n",
       "         [0.3117],\n",
       "         [0.6842],\n",
       "         [0.1987]]),\n",
       " tensor([[3.1465],\n",
       "         [3.4563],\n",
       "         [2.6021],\n",
       "         [4.3535],\n",
       "         [2.2860],\n",
       "         [5.6452],\n",
       "         [3.8936],\n",
       "         [2.0743],\n",
       "         [2.4029],\n",
       "         [2.2477],\n",
       "         [2.9585],\n",
       "         [4.9507],\n",
       "         [5.4129],\n",
       "         [3.3871],\n",
       "         [4.7177],\n",
       "         [2.6628]])]"
      ]
     },
     "execution_count": 68,
     "metadata": {},
     "output_type": "execute_result"
    }
   ],
   "source": [
    "next(iter(train_loader))"
   ]
  },
  {
   "cell_type": "code",
   "execution_count": 70,
   "id": "1f0581f8-b49b-4ce2-a3fe-8a1ac272d466",
   "metadata": {
    "scrolled": true
   },
   "outputs": [
    {
     "data": {
      "text/plain": [
       "[[tensor([[0.7852],\n",
       "          [0.8022],\n",
       "          [0.6075],\n",
       "          [0.1997],\n",
       "          [0.3309],\n",
       "          [0.6376],\n",
       "          [0.4722],\n",
       "          [0.2809],\n",
       "          [0.4938],\n",
       "          [0.5427],\n",
       "          [0.1560],\n",
       "          [0.1987],\n",
       "          [0.3745],\n",
       "          [0.0885],\n",
       "          [0.7320],\n",
       "          [0.8872]]),\n",
       "  tensor([[5.0986],\n",
       "          [5.2273],\n",
       "          [4.6188],\n",
       "          [2.7644],\n",
       "          [3.2045],\n",
       "          [4.4682],\n",
       "          [3.9301],\n",
       "          [3.1465],\n",
       "          [3.8936],\n",
       "          [4.3015],\n",
       "          [2.6021],\n",
       "          [2.6628],\n",
       "          [3.5069],\n",
       "          [2.2477],\n",
       "          [4.9372],\n",
       "          [5.6452]])],\n",
       " [tensor([[0.6842],\n",
       "          [0.0452],\n",
       "          [0.1159],\n",
       "          [0.0055],\n",
       "          [0.3664],\n",
       "          [0.7751],\n",
       "          [0.7608],\n",
       "          [0.7132],\n",
       "          [0.8631],\n",
       "          [0.6011],\n",
       "          [0.1705],\n",
       "          [0.0344],\n",
       "          [0.9869],\n",
       "          [0.0651],\n",
       "          [0.2921],\n",
       "          [0.9696]]),\n",
       "  tensor([[4.7177],\n",
       "          [2.0890],\n",
       "          [2.3920],\n",
       "          [2.0743],\n",
       "          [3.4420],\n",
       "          [5.0439],\n",
       "          [5.0186],\n",
       "          [5.0427],\n",
       "          [5.6390],\n",
       "          [4.3236],\n",
       "          [2.6996],\n",
       "          [2.2518],\n",
       "          [6.0257],\n",
       "          [2.2860],\n",
       "          [3.1691],\n",
       "          [5.7793]])],\n",
       " [tensor([[0.7713],\n",
       "          [0.9489],\n",
       "          [0.1818],\n",
       "          [0.2713],\n",
       "          [0.5248],\n",
       "          [0.4561],\n",
       "          [0.4952],\n",
       "          [0.8155],\n",
       "          [0.1849],\n",
       "          [0.9507],\n",
       "          [0.2588],\n",
       "          [0.5924],\n",
       "          [0.2123],\n",
       "          [0.9395],\n",
       "          [0.3110],\n",
       "          [0.9219]]),\n",
       "  tensor([[5.0171],\n",
       "          [5.7881],\n",
       "          [2.7370],\n",
       "          [3.0532],\n",
       "          [4.0663],\n",
       "          [3.6827],\n",
       "          [3.8638],\n",
       "          [5.2915],\n",
       "          [2.9585],\n",
       "          [5.7730],\n",
       "          [3.1142],\n",
       "          [4.3535],\n",
       "          [2.9007],\n",
       "          [5.7680],\n",
       "          [3.1465],\n",
       "          [5.6944]])],\n",
       " [tensor([[0.0581],\n",
       "          [0.7081],\n",
       "          [0.7296],\n",
       "          [0.0636],\n",
       "          [0.1395],\n",
       "          [0.1220],\n",
       "          [0.8324],\n",
       "          [0.7290],\n",
       "          [0.0740],\n",
       "          [0.5613],\n",
       "          [0.8084],\n",
       "          [0.9699],\n",
       "          [0.4402],\n",
       "          [0.2912],\n",
       "          [0.1834],\n",
       "          [0.6233]]),\n",
       "  tensor([[2.3801],\n",
       "          [4.7821],\n",
       "          [5.0343],\n",
       "          [2.3199],\n",
       "          [2.5841],\n",
       "          [2.4847],\n",
       "          [5.2768],\n",
       "          [4.9507],\n",
       "          [2.3194],\n",
       "          [4.1697],\n",
       "          [5.2309],\n",
       "          [5.9125],\n",
       "          [3.7908],\n",
       "          [3.0186],\n",
       "          [2.8305],\n",
       "          [4.5406]])],\n",
       " [tensor([[0.3117],\n",
       "          [0.1960],\n",
       "          [0.7722],\n",
       "          [0.8287],\n",
       "          [0.3252],\n",
       "          [0.0977],\n",
       "          [0.8948],\n",
       "          [0.0254],\n",
       "          [0.1196],\n",
       "          [0.5979],\n",
       "          [0.1409],\n",
       "          [0.8662],\n",
       "          [0.0206],\n",
       "          [0.3585],\n",
       "          [0.7069],\n",
       "          [0.3253]]),\n",
       "  tensor([[3.3871],\n",
       "          [2.8313],\n",
       "          [4.9653],\n",
       "          [5.3963],\n",
       "          [3.3794],\n",
       "          [2.6370],\n",
       "          [5.5290],\n",
       "          [2.1293],\n",
       "          [2.5606],\n",
       "          [4.2365],\n",
       "          [2.4029],\n",
       "          [5.4129],\n",
       "          [2.1739],\n",
       "          [3.4632],\n",
       "          [4.8525],\n",
       "          [3.4563]])]]"
      ]
     },
     "execution_count": 70,
     "metadata": {},
     "output_type": "execute_result"
    }
   ],
   "source": [
    "list(train_loader)"
   ]
  },
  {
   "cell_type": "markdown",
   "id": "b6b16e3a-b37a-415c-86ef-0d17c2038715",
   "metadata": {},
   "source": [
    "### Data Preparation V1"
   ]
  },
  {
   "cell_type": "code",
   "execution_count": 74,
   "id": "2d20a331-132e-4511-9102-8011745e680d",
   "metadata": {},
   "outputs": [
    {
     "name": "stdout",
     "output_type": "stream",
     "text": [
      "Writing data_preparation/v1.py\n"
     ]
    }
   ],
   "source": [
    "%%writefile data_preparation/v1.py\n",
    "\n",
    "# Our data was in Numpy arrays, but we need to transform them into PyTorch's Tensors\n",
    "x_train_tensor = torch.from_numpy(x_train).float()\n",
    "y_train_tensor = torch.from_numpy(y_train).float()\n",
    "\n",
    "# Builds Dataset\n",
    "train_data = TensorDataset(x_train_tensor, y_train_tensor)\n",
    "\n",
    "# Builds DataLoader\n",
    "train_loader = DataLoader(dataset = train_data,\n",
    "                          batch_size = 16,\n",
    "                          shuffle = True)"
   ]
  },
  {
   "cell_type": "code",
   "execution_count": 75,
   "id": "9141ee1d-770d-4302-9dd1-63f9872f31c6",
   "metadata": {},
   "outputs": [],
   "source": [
    "%run -i data_preparation/v1.py"
   ]
  },
  {
   "cell_type": "code",
   "execution_count": 77,
   "id": "f92b933f-8daf-4c6b-a6f2-6009fc72ab30",
   "metadata": {
    "collapsed": true,
    "jupyter": {
     "outputs_hidden": true
    }
   },
   "outputs": [
    {
     "data": {
      "text/plain": [
       "[tensor([[0.7713],\n",
       "         [0.3253],\n",
       "         [0.3117],\n",
       "         [0.6376],\n",
       "         [0.1196],\n",
       "         [0.5924],\n",
       "         [0.0740],\n",
       "         [0.5979],\n",
       "         [0.1818],\n",
       "         [0.8948],\n",
       "         [0.8872],\n",
       "         [0.4938],\n",
       "         [0.4952],\n",
       "         [0.2921],\n",
       "         [0.6842],\n",
       "         [0.0636]]),\n",
       " tensor([[5.0171],\n",
       "         [3.4563],\n",
       "         [3.3871],\n",
       "         [4.4682],\n",
       "         [2.5606],\n",
       "         [4.3535],\n",
       "         [2.3194],\n",
       "         [4.2365],\n",
       "         [2.7370],\n",
       "         [5.5290],\n",
       "         [5.6452],\n",
       "         [3.8936],\n",
       "         [3.8638],\n",
       "         [3.1691],\n",
       "         [4.7177],\n",
       "         [2.3199]])]"
      ]
     },
     "execution_count": 77,
     "metadata": {},
     "output_type": "execute_result"
    }
   ],
   "source": [
    "next(iter(train_loader))"
   ]
  },
  {
   "cell_type": "markdown",
   "id": "c54c640f-09d8-4f54-b642-28696e76b7a4",
   "metadata": {},
   "source": [
    "### Model Training V2"
   ]
  },
  {
   "cell_type": "code",
   "execution_count": 82,
   "id": "1bb17af4-0d00-48fd-84a7-985dd7b15331",
   "metadata": {},
   "outputs": [],
   "source": [
    "# %load model_configuration/v1.py\n",
    "\n",
    "device = 'cuda' if torch.cuda.is_available() else 'cpu'\n",
    "\n",
    "# Sets learning rate - this is \"eta\" ~ the \"n\"-like Greek letter\n",
    "lr = 0.1\n",
    "\n",
    "torch.manual_seed(42)\n",
    "# Now we can create a model and send it at once to the device\n",
    "model = nn.Sequential(nn.Linear(1, 1)).to(device)\n",
    "\n",
    "# Defines a SGD optimizer to update the parameters \n",
    "optimizer = optim.SGD(model.parameters(), lr=lr)\n",
    "\n",
    "# Defines a MSE loss function\n",
    "loss_fn = nn.MSELoss(reduction='mean')\n",
    "\n",
    "# Creates the train_step function for our model, loss function and optimizer\n",
    "train_step_fn = make_train_step_fn(model, loss_fn, optimizer)\n"
   ]
  },
  {
   "cell_type": "code",
   "execution_count": 83,
   "id": "3621250f-e8c9-4dd6-8e10-6329abf2f666",
   "metadata": {},
   "outputs": [],
   "source": [
    "%run -i model_configuration/v1.py"
   ]
  },
  {
   "cell_type": "code",
   "execution_count": 84,
   "id": "f09c70fc-d463-4137-a2b4-32cfc5bf6828",
   "metadata": {},
   "outputs": [
    {
     "name": "stdout",
     "output_type": "stream",
     "text": [
      "Writing model_training/v2.py\n"
     ]
    }
   ],
   "source": [
    "%%writefile model_training/v2.py\n",
    "\n",
    "# Defines number of epochs\n",
    "n_epochs = 1000\n",
    "\n",
    "losses = []\n",
    "\n",
    "# For each epoch...\n",
    "for epoch in range(n_epochs):\n",
    "    # inner loop\n",
    "    mini_batch_losses = []\n",
    "    for x_batch, y_batch in train_loader:\n",
    "        # the dataset \"lives\" in the CPU, so do our mini-batches\n",
    "        # therefore, we need to send those mini-batches to the\n",
    "        # device where the model \"lives\"\n",
    "        x_batch = x_batch.to(device)\n",
    "        y_batch = y_batch.to(device)\n",
    "\n",
    "        # Performs one train step and returns the corresponding loss \n",
    "        # for this mini-batch\n",
    "        mini_batch_loss = train_step_fn(x_batch, y_batch)\n",
    "        mini_batch_losses.append(mini_batch_loss)\n",
    "\n",
    "    # Computes average loss over all mini-batches - that's the epoch loss\n",
    "    loss = np.mean(mini_batch_losses)\n",
    "    \n",
    "    losses.append(loss)"
   ]
  },
  {
   "cell_type": "code",
   "execution_count": 85,
   "id": "7eb67715-b6a3-4dfa-ba87-349f96640853",
   "metadata": {},
   "outputs": [],
   "source": [
    "%run -i model_training/v2.py"
   ]
  },
  {
   "cell_type": "code",
   "execution_count": 86,
   "id": "efe02083-c01b-4a46-9eb4-7d16a91886f3",
   "metadata": {},
   "outputs": [
    {
     "name": "stdout",
     "output_type": "stream",
     "text": [
      "OrderedDict([('0.weight', tensor([[3.9696]], device='cuda:0')), ('0.bias', tensor([2.0243], device='cuda:0'))])\n"
     ]
    }
   ],
   "source": [
    "# Checks model's parameters\n",
    "print(model.state_dict())"
   ]
  },
  {
   "cell_type": "markdown",
   "id": "3d51da77-8cee-41c8-9881-a71f8481525e",
   "metadata": {},
   "source": [
    "## Mini-Batch Inner Loop"
   ]
  },
  {
   "cell_type": "markdown",
   "id": "d439871f-a714-4dae-94e8-f8057d22b80a",
   "metadata": {},
   "source": [
    "### Helper Function #2"
   ]
  },
  {
   "cell_type": "code",
   "execution_count": 87,
   "id": "b31bcd23-5b9e-460e-8566-b21d51358d0c",
   "metadata": {},
   "outputs": [],
   "source": [
    "def mini_batch(device, data_loader, step_fn):\n",
    "    mini_batch_losses = []\n",
    "    for x_batch, y_batch in data_loader:\n",
    "        x_batch = x_batch.to(device)\n",
    "        y_batch = y_batch.to(device)\n",
    "\n",
    "        mini_batch_loss = step_fn(x_batch, y_batch)\n",
    "        mini_batch_losses.append(mini_batch_loss)\n",
    "\n",
    "    loss = np.mean(mini_batch_losses)\n",
    "    return loss"
   ]
  },
  {
   "cell_type": "markdown",
   "id": "943fe0a6-0c66-4152-b3d0-c24dee89fc70",
   "metadata": {},
   "source": [
    "### Model Training V3"
   ]
  },
  {
   "cell_type": "code",
   "execution_count": 88,
   "id": "c08ffac5-ffcb-491a-85b8-e30c04fcb65d",
   "metadata": {},
   "outputs": [],
   "source": [
    "%run -i data_preparation/v1.py\n",
    "%run -i model_configuration/v1.py"
   ]
  },
  {
   "cell_type": "code",
   "execution_count": 89,
   "id": "57dc2333-8017-4e0c-9b85-0863c97cc9d4",
   "metadata": {},
   "outputs": [
    {
     "name": "stdout",
     "output_type": "stream",
     "text": [
      "Writing model_training/v3.py\n"
     ]
    }
   ],
   "source": [
    "%%writefile model_training/v3.py\n",
    "\n",
    "# Defines number of epochs\n",
    "n_epochs = 200\n",
    "\n",
    "losses = []\n",
    "\n",
    "for epoch in range(n_epochs):\n",
    "    # inner loop\n",
    "    loss = mini_batch(device, train_loader, train_step_fn)\n",
    "    losses.append(loss)"
   ]
  },
  {
   "cell_type": "code",
   "execution_count": 90,
   "id": "8cdf301c-f501-405f-8713-cac1f9b31984",
   "metadata": {},
   "outputs": [],
   "source": [
    "%run -i model_training/v3.py"
   ]
  },
  {
   "cell_type": "code",
   "execution_count": 91,
   "id": "0ea05622-130f-4c5a-8cf0-c7aec1d2124d",
   "metadata": {},
   "outputs": [
    {
     "name": "stdout",
     "output_type": "stream",
     "text": [
      "OrderedDict([('0.weight', tensor([[3.9684]], device='cuda:0')), ('0.bias', tensor([2.0219], device='cuda:0'))])\n"
     ]
    }
   ],
   "source": [
    "# Checks model's parameters\n",
    "print(model.state_dict())"
   ]
  },
  {
   "cell_type": "markdown",
   "id": "84b00afa-1a7c-4c10-97aa-27ce96f0e75c",
   "metadata": {},
   "source": [
    "## Random Split"
   ]
  },
  {
   "cell_type": "code",
   "execution_count": 92,
   "id": "bec8bf38-da97-470a-93e3-c6226b7c4b81",
   "metadata": {},
   "outputs": [],
   "source": [
    "from torch.utils.data.dataset import random_split"
   ]
  },
  {
   "cell_type": "code",
   "execution_count": 93,
   "id": "cd091208-6cef-456a-829f-e393e7d0822d",
   "metadata": {},
   "outputs": [
    {
     "name": "stdout",
     "output_type": "stream",
     "text": [
      "Writing data_preparation/v2.py\n"
     ]
    }
   ],
   "source": [
    "%%writefile data_preparation/v2.py\n",
    "\n",
    "torch.manual_seed(13)\n",
    "\n",
    "# Builds tensors from numpy arrays BEFORE split\n",
    "x_tensor = torch.from_numpy(x).float()\n",
    "y_tensor = torch.from_numpy(y).float()\n",
    "\n",
    "# Builds dataset containing ALL data points\n",
    "dataset = TensorDataset(x_tensor, y_tensor)\n",
    "\n",
    "# Performs the split\n",
    "ratio = .8\n",
    "n_total = len(dataset)\n",
    "n_train = int(n_total * ratio)\n",
    "n_val = n_total - n_train\n",
    "\n",
    "train_data, val_data = random_split(dataset, [n_train, n_val])\n",
    "\n",
    "# Builds a loader of each set\n",
    "train_loader = DataLoader(dataset=train_data, batch_size=16, shuffle=True)\n",
    "val_loader = DataLoader(dataset=val_data, batch_size=16)"
   ]
  },
  {
   "cell_type": "code",
   "execution_count": 94,
   "id": "04f6ddd5-9f0f-4f84-98b8-aa5a144c8e41",
   "metadata": {},
   "outputs": [],
   "source": [
    "%run -i data_preparation/v2.py"
   ]
  },
  {
   "cell_type": "markdown",
   "id": "89e34cba-ff1c-4928-afca-9512a5def844",
   "metadata": {},
   "source": [
    "## Evaluation"
   ]
  },
  {
   "cell_type": "code",
   "execution_count": 95,
   "id": "fd805721-f4fe-4263-8bc4-eed0dceff026",
   "metadata": {},
   "outputs": [],
   "source": [
    "def make_val_step_fn(model, loss_fn):\n",
    "    # Builds function that performs a step in the validation loop\n",
    "    def perform_val_step_fn(x, y):\n",
    "        # Sets model to EVAL mode\n",
    "        model.eval()\n",
    "        \n",
    "        # Step 1 - Computes our model's predicted output - forward pass\n",
    "        y_pred = model(x)\n",
    "        # Step 2 - Computes the loss\n",
    "        loss = loss_fn(y_pred, y)\n",
    "        # There is no need to compute Steps 3 and 4, since we don't update parameters during evaluation\n",
    "        return loss.item()\n",
    "    \n",
    "    return perform_val_step_fn"
   ]
  },
  {
   "cell_type": "markdown",
   "id": "4430575d-8b62-4b2c-b1b2-aaf24653bc8e",
   "metadata": {},
   "source": [
    "### Model Configuration V2"
   ]
  },
  {
   "cell_type": "code",
   "execution_count": 96,
   "id": "78a6e825-80cf-49b6-89a9-2d79ac9697ee",
   "metadata": {},
   "outputs": [
    {
     "name": "stdout",
     "output_type": "stream",
     "text": [
      "Writing model_configuration/v2.py\n"
     ]
    }
   ],
   "source": [
    "%%writefile model_configuration/v2.py\n",
    "\n",
    "device = 'cuda' if torch.cuda.is_available() else 'cpu'\n",
    "\n",
    "# Sets learning rate - this is \"eta\" ~ the \"n\" like Greek letter\n",
    "lr = 0.1\n",
    "\n",
    "torch.manual_seed(42)\n",
    "# Now we can create a model and send it at once to the device\n",
    "model = nn.Sequential(nn.Linear(1, 1)).to(device)\n",
    "\n",
    "# Defines a SGD optimizer to update the parameters (now retrieved directly from the model)\n",
    "optimizer = optim.SGD(model.parameters(), lr=lr)\n",
    "\n",
    "# Defines a MSE loss function\n",
    "loss_fn = nn.MSELoss(reduction='mean')\n",
    "\n",
    "# Creates the train_step function for our model, loss function and optimizer\n",
    "train_step_fn = make_train_step_fn(model, loss_fn, optimizer)\n",
    "\n",
    "# Creates the val_step function for our model and loss function\n",
    "val_step_fn = make_val_step_fn(model, loss_fn)"
   ]
  },
  {
   "cell_type": "code",
   "execution_count": 97,
   "id": "1d4157d5-76f7-4c84-b861-788eefba56b2",
   "metadata": {},
   "outputs": [],
   "source": [
    "%run -i model_configuration/v2.py"
   ]
  },
  {
   "cell_type": "markdown",
   "id": "a3219e0f-05df-4394-893d-1b772c193745",
   "metadata": {},
   "source": [
    "## Model Training V4¶"
   ]
  },
  {
   "cell_type": "code",
   "execution_count": 98,
   "id": "b6fbcb59-c568-4a06-bcbf-6546cf9d631f",
   "metadata": {},
   "outputs": [
    {
     "name": "stdout",
     "output_type": "stream",
     "text": [
      "Writing model_training/v4.py\n"
     ]
    }
   ],
   "source": [
    "%%writefile model_training/v4.py\n",
    "\n",
    "# Defines number of epochs\n",
    "n_epochs = 200\n",
    "\n",
    "losses = []\n",
    "val_losses = []\n",
    "\n",
    "for epoch in range(n_epochs):\n",
    "    # inner loop\n",
    "    loss = mini_batch(device, train_loader, train_step_fn)\n",
    "    losses.append(loss)\n",
    "    \n",
    "    # VALIDATION\n",
    "    # no gradients in validation!\n",
    "    with torch.no_grad():\n",
    "        val_loss = mini_batch(device, val_loader, val_step_fn)\n",
    "        val_losses.append(val_loss)    "
   ]
  },
  {
   "cell_type": "code",
   "execution_count": 101,
   "id": "41c9f751-77d2-41f9-876f-27dc39b69c38",
   "metadata": {},
   "outputs": [],
   "source": [
    "%run -i model_training/v4.py"
   ]
  },
  {
   "cell_type": "code",
   "execution_count": 102,
   "id": "eff1f579-c325-43a0-9aad-4c80383c64ca",
   "metadata": {},
   "outputs": [
    {
     "name": "stdout",
     "output_type": "stream",
     "text": [
      "OrderedDict([('0.weight', tensor([[3.9434]], device='cuda:0')), ('0.bias', tensor([2.0276], device='cuda:0'))])\n"
     ]
    }
   ],
   "source": [
    "# Checks model's parameters\n",
    "print(model.state_dict())"
   ]
  },
  {
   "cell_type": "markdown",
   "id": "1beca09a-8055-47d8-920c-7f3d37c8f370",
   "metadata": {},
   "source": [
    "## Plotting Losses"
   ]
  },
  {
   "cell_type": "code",
   "execution_count": 103,
   "id": "7fe17e79-a602-4fe1-8663-b755b93837fd",
   "metadata": {},
   "outputs": [],
   "source": [
    "%run -i data_preparation/v2.py\n",
    "%run -i model_configuration/v2.py\n",
    "%run -i model_training/v4.py"
   ]
  },
  {
   "cell_type": "code",
   "execution_count": 110,
   "id": "5d970e26-b028-4ee7-9e87-32d56e980227",
   "metadata": {},
   "outputs": [
    {
     "data": {
      "image/png": "[encoded data removed]",
      "text/plain": [
       "<Figure size 640x480 with 1 Axes>"
      ]
     },
     "metadata": {},
     "output_type": "display_data"
    }
   ],
   "source": [
    "plt.plot(losses);"
   ]
  },
  {
   "cell_type": "code",
   "execution_count": 111,
   "id": "7c79f966-8ea3-410f-85a7-f52dd06677cf",
   "metadata": {},
   "outputs": [
    {
     "data": {
      "image/png": "[encoded data removed]",
      "text/plain": [
       "<Figure size 640x480 with 1 Axes>"
      ]
     },
     "metadata": {},
     "output_type": "display_data"
    }
   ],
   "source": [
    "plt.plot(val_losses);"
   ]
  },
  {
   "cell_type": "markdown",
   "id": "af9abc76-dfbc-4131-bcb3-7763a736a312",
   "metadata": {},
   "source": [
    "## TensorBoard"
   ]
  },
  {
   "cell_type": "code",
   "execution_count": 112,
   "id": "a9cd2ad1-63e4-4eac-b417-9bf49cea6c6b",
   "metadata": {},
   "outputs": [],
   "source": [
    "%load_ext tensorboard"
   ]
  },
  {
   "cell_type": "code",
   "execution_count": 123,
   "id": "c5696e7c-050e-479d-854f-aede755e84da",
   "metadata": {},
   "outputs": [],
   "source": [
    "# %tensorboard --logdir runs"
   ]
  },
  {
   "cell_type": "markdown",
   "id": "1bdba5a2-2398-4f5d-93f1-253872834273",
   "metadata": {},
   "source": [
    "## Saving and Loading Models"
   ]
  },
  {
   "cell_type": "code",
   "execution_count": 137,
   "id": "ccd1b241-a394-417b-82fa-1abeea0aeb21",
   "metadata": {},
   "outputs": [],
   "source": [
    "checkpoint = {'epoch': n_epochs,\n",
    "              'model_state_dict': model.state_dict(),\n",
    "              'optimizer_state_dict': optimizer.state_dict(),\n",
    "              'loss': losses,\n",
    "              'val_loss': val_losses}\n",
    "\n",
    "torch.save(checkpoint, 'model_checkpoint.pth')"
   ]
  },
  {
   "cell_type": "markdown",
   "id": "4895cfb7-1cc4-4cff-a1dd-55ce11b7edb2",
   "metadata": {},
   "source": [
    "## Resuming Training"
   ]
  },
  {
   "cell_type": "code",
   "execution_count": 135,
   "id": "563e0611-d36d-429f-98b7-b38896d12f9b",
   "metadata": {},
   "outputs": [],
   "source": [
    "%run -i data_preparation/v2.py\n",
    "%run -i model_configuration/v2.py"
   ]
  },
  {
   "cell_type": "code",
   "execution_count": 136,
   "id": "2cac35f7-63d3-4b3b-a354-9d2eb52bb189",
   "metadata": {},
   "outputs": [
    {
     "name": "stdout",
     "output_type": "stream",
     "text": [
      "OrderedDict([('0.weight', tensor([[0.7645]], device='cuda:0')), ('0.bias', tensor([0.8300], device='cuda:0'))])\n"
     ]
    }
   ],
   "source": [
    "print(model.state_dict())"
   ]
  },
  {
   "cell_type": "code",
   "execution_count": 139,
   "id": "c1968847-0c6d-459d-9574-7b7a72dd5bb3",
   "metadata": {},
   "outputs": [
    {
     "data": {
      "text/plain": [
       "Sequential(\n",
       "  (0): Linear(in_features=1, out_features=1, bias=True)\n",
       ")"
      ]
     },
     "execution_count": 139,
     "metadata": {},
     "output_type": "execute_result"
    }
   ],
   "source": [
    "checkpoint = torch.load('model_checkpoint.pth')\n",
    "\n",
    "model.load_state_dict(checkpoint['model_state_dict'])\n",
    "optimizer.load_state_dict(checkpoint['optimizer_state_dict'])\n",
    "\n",
    "saved_epoch = checkpoint['epoch']\n",
    "saved_losses = checkpoint['loss']\n",
    "saved_val_losses = checkpoint['val_loss']\n",
    "\n",
    "model.train()"
   ]
  },
  {
   "cell_type": "code",
   "execution_count": 140,
   "id": "44fec763-9d0d-4972-92d7-c3bdcd20a17a",
   "metadata": {},
   "outputs": [
    {
     "name": "stdout",
     "output_type": "stream",
     "text": [
      "OrderedDict([('0.weight', tensor([[0.7645]], device='cuda:0')), ('0.bias', tensor([0.8300], device='cuda:0'))])\n"
     ]
    }
   ],
   "source": [
    "print(model.state_dict())"
   ]
  },
  {
   "cell_type": "markdown",
   "id": "5d8e3650-3130-43c7-ae43-f6faf0a936db",
   "metadata": {},
   "source": [
    "## Putting It All Together"
   ]
  },
  {
   "cell_type": "markdown",
   "id": "59b208b3-6af3-498b-8111-45f7ff2dc0fa",
   "metadata": {},
   "source": [
    "### 1. Data Preparation "
   ]
  },
  {
   "cell_type": "code",
   "execution_count": 142,
   "id": "c84edcb1-aa67-4d47-af0b-5a36612dd971",
   "metadata": {},
   "outputs": [],
   "source": [
    "# %load data_preparation/v2.py\n",
    "\n",
    "torch.manual_seed(13)\n",
    "\n",
    "# Builds tensors from numpy arrays BEFORE split\n",
    "x_tensor = torch.from_numpy(x).float()\n",
    "y_tensor = torch.from_numpy(y).float()\n",
    "\n",
    "# Builds dataset containing ALL data points\n",
    "dataset = TensorDataset(x_tensor, y_tensor)\n",
    "\n",
    "# Performs the split\n",
    "ratio = .8\n",
    "n_total = len(dataset)\n",
    "n_train = int(n_total * ratio)\n",
    "n_val = n_total - n_train\n",
    "\n",
    "train_data, val_data = random_split(dataset, [n_train, n_val])\n",
    "\n",
    "# Builds a loader of each set\n",
    "train_loader = DataLoader(dataset=train_data, batch_size=16, shuffle=True)\n",
    "val_loader = DataLoader(dataset=val_data, batch_size=16)\n"
   ]
  },
  {
   "cell_type": "markdown",
   "id": "4645af12-c3f0-471a-a0f7-a3417466e253",
   "metadata": {},
   "source": [
    "### 2. Model Configuration "
   ]
  },
  {
   "cell_type": "code",
   "execution_count": 147,
   "id": "7a602e8f-b15b-40fd-8418-690dbee62023",
   "metadata": {},
   "outputs": [],
   "source": [
    "def make_train_step_fn(model, loss_fn, optimizer):\n",
    "    # Builds function that performs a step in the train loop\n",
    "    def perform_train_step_fn(x, y):\n",
    "        # Sets model to TRAIN mode\n",
    "        model.train()\n",
    "\n",
    "        # Step 1 - Computes model's predicted output - forward pass\n",
    "        y_pred = model(x)\n",
    "\n",
    "        # Step 2 - Computes the loss\n",
    "        loss = loss_fn(y_pred, y)\n",
    "\n",
    "        # Step 3 - Computes gradients for both \"b\" and \"w\" parameters\n",
    "        loss.backward()\n",
    "\n",
    "        # Step 4 - Updates parameters using gradients and\n",
    "        # the learning rate\n",
    "        optimizer.step()\n",
    "        optimizer.zero_grad()\n",
    "\n",
    "        # Returns the loss\n",
    "        return loss.item()\n",
    "\n",
    "    # Returns the function that will be called inside the train loop\n",
    "    return perform_train_step_fn"
   ]
  },
  {
   "cell_type": "code",
   "execution_count": 148,
   "id": "d2572f70-d2b2-414f-abe9-0caa8e5543ef",
   "metadata": {},
   "outputs": [],
   "source": [
    "def make_val_step_fn(model, loss_fn):\n",
    "    # Builds function that performs a step in the validation loop\n",
    "    def perform_val_step_fn(x, y):\n",
    "        # Sets model to EVAL mode\n",
    "        model.eval()\n",
    "        \n",
    "        # Step 1 - Computes our model's predicted output - forward pass\n",
    "        y_pred = model(x)\n",
    "        \n",
    "        # Step 2 - Computes the loss\n",
    "        loss = loss_fn(y_pred, y)\n",
    "        \n",
    "        # There is no need to compute Steps 3 and 4, since we don't update parameters during evaluation\n",
    "        return loss.item()\n",
    "    \n",
    "    return perform_val_step_fn"
   ]
  },
  {
   "cell_type": "code",
   "execution_count": 149,
   "id": "88e67dc6-d405-45f7-82a9-c563b8da8cf5",
   "metadata": {},
   "outputs": [],
   "source": [
    "# %load model_configuration/v2.py\n",
    "\n",
    "device = 'cuda' if torch.cuda.is_available() else 'cpu'\n",
    "\n",
    "# Sets learning rate - this is \"eta\" ~ the \"n\" like Greek letter\n",
    "lr = 0.1\n",
    "\n",
    "torch.manual_seed(42)\n",
    "# Now we can create a model and send it at once to the device\n",
    "model = nn.Sequential(nn.Linear(1, 1)).to(device)\n",
    "\n",
    "# Defines a SGD optimizer to update the parameters (now retrieved directly from the model)\n",
    "optimizer = optim.SGD(model.parameters(), lr=lr)\n",
    "\n",
    "# Defines a MSE loss function\n",
    "loss_fn = nn.MSELoss(reduction='mean')\n",
    "\n",
    "# Creates the train_step function for our model, loss function and optimizer\n",
    "train_step_fn = make_train_step_fn(model, loss_fn, optimizer)\n",
    "\n",
    "# Creates the val_step function for our model and loss function\n",
    "val_step_fn = make_val_step_fn(model, loss_fn)\n"
   ]
  },
  {
   "cell_type": "markdown",
   "id": "a0a05dc7-9e94-4fbd-aed3-8b6f90d611a6",
   "metadata": {},
   "source": [
    "### 3. Model Training "
   ]
  },
  {
   "cell_type": "code",
   "execution_count": 145,
   "id": "e87fda22-9182-40af-8248-f5d0ac112775",
   "metadata": {},
   "outputs": [],
   "source": [
    "# %load model_training/v4.py\n",
    "\n",
    "# Defines number of epochs\n",
    "n_epochs = 200\n",
    "\n",
    "losses = []\n",
    "val_losses = []\n",
    "\n",
    "for epoch in range(n_epochs):\n",
    "    # inner loop\n",
    "    loss = mini_batch(device, train_loader, train_step_fn)\n",
    "    losses.append(loss)\n",
    "    \n",
    "    # VALIDATION\n",
    "    # no gradients in validation!\n",
    "    with torch.no_grad():\n",
    "        val_loss = mini_batch(device, val_loader, val_step_fn)\n",
    "        val_losses.append(val_loss)    \n"
   ]
  },
  {
   "cell_type": "markdown",
   "id": "1af6ef89-997f-491e-9a49-5895590d2287",
   "metadata": {},
   "source": [
    "### 4. Final Model weights"
   ]
  },
  {
   "cell_type": "code",
   "execution_count": 146,
   "id": "33896718-b8e2-42ad-817f-22ebfa3d1ad3",
   "metadata": {},
   "outputs": [
    {
     "name": "stdout",
     "output_type": "stream",
     "text": [
      "OrderedDict([('0.weight', tensor([[0.7645]], device='cuda:0')), ('0.bias', tensor([0.8300], device='cuda:0'))])\n"
     ]
    }
   ],
   "source": [
    "print(model.state_dict())"
   ]
  },
  {
   "cell_type": "code",
   "execution_count": null,
   "id": "d9d0f360-dd92-4b9e-b5c7-1fd7169b6914",
   "metadata": {},
   "outputs": [],
   "source": []
  }
 ],
 "metadata": {
  "kernelspec": {
   "display_name": "Python 3 (ipykernel)",
   "language": "python",
   "name": "python3"
  },
  "language_info": {
   "codemirror_mode": {
    "name": "ipython",
    "version": 3
   },
   "file_extension": ".py",
   "mimetype": "text/x-python",
   "name": "python",
   "nbconvert_exporter": "python",
   "pygments_lexer": "ipython3",
   "version": "3.10.13"
  }
 },
 "nbformat": 4,
 "nbformat_minor": 5
}
